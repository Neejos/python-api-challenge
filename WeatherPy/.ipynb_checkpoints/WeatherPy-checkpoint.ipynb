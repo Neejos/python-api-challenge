{
 "cells": [
  {
   "cell_type": "code",
   "execution_count": null,
   "metadata": {},
   "outputs": [],
   "source": [
    "# WeatherPy\n",
    "----\n",
    "\n",
    "#### Note\n",
    "* Instructions have been included for each segment. You do not have to follow them exactly, but they are included to help you think through the steps."
   ]
  },
  {
   "cell_type": "code",
   "execution_count": 1,
   "metadata": {
    "scrolled": true
   },
   "outputs": [],
   "source": [
    "# Dependencies and Setup\n",
    "import matplotlib.pyplot as plt\n",
    "import pandas as pd\n",
    "import numpy as np\n",
    "import requests\n",
    "import time\n",
    "from scipy.stats import linregress\n",
    "import json\n",
    "import csv\n",
    "import datetime\n",
    "\n",
    "# Import API key\n",
    "from api_keys import weather_api_key"
   ]
  },
  {
   "cell_type": "code",
   "execution_count": null,
   "metadata": {
    "scrolled": true
   },
   "outputs": [],
   "source": [
    "#pip install citipy\n"
   ]
  },
  {
   "cell_type": "code",
   "execution_count": 2,
   "metadata": {
    "scrolled": true
   },
   "outputs": [],
   "source": [
    "# Incorporated citipy to determine city based on latitude and longitude\n",
    "from citipy import citipy\n",
    "\n",
    "# Output File (CSV)\n",
    "output_data_file = \"output_data/cities.csv\"\n",
    "\n",
    "# Range of latitudes and longitudes\n",
    "lat_range = (-90, 90)\n",
    "lng_range = (-180, 180)"
   ]
  },
  {
   "cell_type": "markdown",
   "metadata": {},
   "source": [
    "## Generate Cities List"
   ]
  },
  {
   "cell_type": "code",
   "execution_count": 3,
   "metadata": {},
   "outputs": [
    {
     "data": {
      "text/plain": [
       "640"
      ]
     },
     "execution_count": 3,
     "metadata": {},
     "output_type": "execute_result"
    }
   ],
   "source": [
    "# List for holding lat_lngs and cities\n",
    "lat_lngs = []\n",
    "cities = []\n",
    "\n",
    "\n",
    "# Create a set of random lat and lng combinations\n",
    "lats = np.random.uniform(lat_range[0], lat_range[1], size=1500)\n",
    "lngs = np.random.uniform(lng_range[0], lng_range[1], size=1500)\n",
    "lat_lngs = zip(lats, lngs)\n",
    "\n",
    "# Identify nearest city for each lat, lng combination\n",
    "for lat_lng in lat_lngs:\n",
    "    city = citipy.nearest_city(lat_lng[0], lat_lng[1]).city_name\n",
    "    \n",
    "    # If the city is unique, then add it to a our cities list\n",
    "    if city not in cities:\n",
    "        cities.append(city)\n",
    "        \n",
    "# Print the city count to confirm sufficient count\n",
    "len(cities)"
   ]
  },
  {
   "cell_type": "markdown",
   "metadata": {},
   "source": [
    "### Perform API Calls\n",
    "* Perform a weather check on each city using a series of successive API calls.\n",
    "* Include a print log of each city as it'sbeing processed (with the city number and city name).\n"
   ]
  },
  {
   "cell_type": "code",
   "execution_count": 4,
   "metadata": {},
   "outputs": [
    {
     "name": "stdout",
     "output_type": "stream",
     "text": [
      "City Number:5924351,City Name:clyde river \n",
      "City Number:1649150,City Name:bengkulu \n",
      "City Number:2620871,City Name:hals \n",
      "City Number:470905,City Name:vuktyl \n",
      "City Number:3873145,City Name:rio bueno \n",
      "City Number:2120591,City Name:tilichiki \n",
      "City Number:5106841,City Name:albany \n",
      "City Number:2017155,City Name:saskylakh \n",
      "City Number:2110227,City Name:butaritari \n",
      "Info Not available...skipping\n",
      "City Number:3361934,City Name:saldanha \n",
      "City Number:3466704,City Name:castro \n",
      "City Number:4030556,City Name:rikitea \n",
      "City Number:2276492,City Name:harper \n",
      "City Number:2015306,City Name:tiksi \n",
      "City Number:3374210,City Name:sao filipe \n",
      "City Number:3897334,City Name:calbuco \n",
      "City Number:3394023,City Name:natal \n",
      "City Number:1267635,City Name:karwar \n",
      "City Number:1267390,City Name:kavaratti \n",
      "City Number:6201424,City Name:mataura \n",
      "City Number:4034551,City Name:faanui \n",
      "City Number:3652764,City Name:puerto ayora \n",
      "Info Not available...skipping\n",
      "City Number:653272,City Name:kemijarvi \n",
      "City Number:1106677,City Name:bambous virieux \n",
      "City Number:4833425,City Name:east haven \n",
      "City Number:3833367,City Name:ushuaia \n",
      "City Number:1214488,City Name:meulaboh \n",
      "City Number:2075265,City Name:busselton \n",
      "City Number:3347019,City Name:namibe \n",
      "City Number:3397967,City Name:itaituba \n",
      "City Number:4032243,City Name:vaini \n",
      "City Number:5110092,City Name:brewster \n",
      "City Number:1862505,City Name:hirara \n",
      "City Number:1254046,City Name:tura \n",
      "City Number:5848280,City Name:kapaa \n",
      "City Number:3843123,City Name:neuquen \n",
      "City Number:3440777,City Name:rocha \n",
      "City Number:3421193,City Name:paamiut \n",
      "City Number:3443061,City Name:chuy \n",
      "City Number:2030065,City Name:mandalgovi \n",
      "Info Not available...skipping\n",
      "City Number:1282256,City Name:hithadhoo \n",
      "City Number:371745,City Name:kutum \n",
      "City Number:6165406,City Name:thompson \n",
      "City Number:3421319,City Name:nuuk \n",
      "Info Not available...skipping\n",
      "City Number:1047660,City Name:cuamba \n",
      "City Number:3372964,City Name:lagoa \n",
      "Info Not available...skipping\n",
      "City Number:6185377,City Name:yellowknife \n",
      "City Number:5282297,City Name:bethel \n",
      "City Number:3894426,City Name:coihaique \n",
      "City Number:1214026,City Name:sabang \n",
      "City Number:3146487,City Name:raudeberg \n",
      "City Number:1805844,City Name:jieshou \n",
      "City Number:4035715,City Name:avarua \n",
      "City Number:1516048,City Name:hovd \n",
      "City Number:1706466,City Name:ligayan \n",
      "Info Not available...skipping\n",
      "City Number:2308278,City Name:mbini \n",
      "City Number:2070998,City Name:geraldton \n",
      "City Number:543899,City Name:kostomuksha \n",
      "City Number:3366880,City Name:hermanus \n",
      "City Number:5122534,City Name:jamestown \n",
      "City Number:3984997,City Name:san quintin \n",
      "City Number:3101943,City Name:bytow \n",
      "City Number:1337605,City Name:mahibadhoo \n",
      "City Number:2121385,City Name:severo-kurilsk \n",
      "City Number:2155415,City Name:new norfolk \n",
      "City Number:2755249,City Name:groningen \n",
      "City Number:3874787,City Name:punta arenas \n",
      "City Number:3450083,City Name:santa maria \n",
      "City Number:1863997,City Name:fukue \n",
      "City Number:358620,City Name:safaga \n",
      "City Number:6167817,City Name:torbay \n",
      "City Number:2206939,City Name:bluff \n",
      "City Number:2128975,City Name:nemuro \n",
      "City Number:964432,City Name:port alfred \n",
      "City Number:115781,City Name:shahr-e babak \n",
      "City Number:4160021,City Name:jacksonville \n",
      "City Number:1624041,City Name:ternate \n",
      "City Number:1142263,City Name:farah \n",
      "City Number:2138103,City Name:thio \n",
      "City Number:3163146,City Name:andenes \n",
      "City Number:2444995,City Name:filingue \n",
      "City Number:2126123,City Name:chokurdakh \n",
      "City Number:5364271,City Name:laguna \n",
      "City Number:1819729,City Name:victoria \n",
      "City Number:934479,City Name:grand gaube \n",
      "Info Not available...skipping\n",
      "City Number:4036284,City Name:alofi \n",
      "City Number:3870243,City Name:taltal \n",
      "City Number:3520994,City Name:puerto escondido \n",
      "City Number:5972291,City Name:havre-saint-pierre \n",
      "City Number:6255012,City Name:flinders \n",
      "City Number:2729907,City Name:longyearbyen \n",
      "City Number:3985710,City Name:cabo san lucas \n",
      "City Number:2268339,City Name:faro \n",
      "City Number:3354071,City Name:oranjemund \n",
      "City Number:5880054,City Name:barrow \n",
      "City Number:5847411,City Name:kahului \n",
      "City Number:933277,City Name:mosetse \n",
      "City Number:3372707,City Name:ribeira grande \n",
      "City Number:1502073,City Name:krasnoselkup \n",
      "Info Not available...skipping\n",
      "City Number:2136825,City Name:isangel \n",
      "City Number:3532656,City Name:asuncion nochixtlan \n",
      "City Number:2434979,City Name:bol \n",
      "City Number:5855927,City Name:hilo \n",
      "City Number:2074865,City Name:carnarvon \n",
      "City Number:2022572,City Name:khatanga \n",
      "City Number:1490140,City Name:tara \n",
      "City Number:2318123,City Name:yenagoa \n",
      "City Number:5587385,City Name:burley \n",
      "City Number:6620339,City Name:karratha \n",
      "City Number:6071496,City Name:meaford \n",
      "City Number:2028164,City Name:deputatskiy \n",
      "City Number:5850554,City Name:makakilo city \n",
      "City Number:935215,City Name:saint-philippe \n",
      "Info Not available...skipping\n",
      "City Number:1648186,City Name:bontang \n",
      "City Number:4012344,City Name:cuencame \n",
      "City Number:3448903,City Name:sao joao da barra \n",
      "City Number:3936456,City Name:lima \n",
      "City Number:2027740,City Name:amurzet \n",
      "City Number:2013279,City Name:vostok \n",
      "City Number:1259385,City Name:port blair \n",
      "City Number:3899695,City Name:ancud \n",
      "City Number:333795,City Name:jijiga \n",
      "City Number:2018069,City Name:peleduy \n",
      "Info Not available...skipping\n",
      "City Number:2181625,City Name:te anau \n",
      "Info Not available...skipping\n",
      "City Number:3883457,City Name:lebu \n",
      "City Number:2641598,City Name:newport \n",
      "City Number:2033196,City Name:zhangjiakou \n",
      "City Number:777019,City Name:vardo \n",
      "City Number:57000,City Name:hobyo \n",
      "City Number:610864,City Name:khani \n",
      "City Number:6324729,City Name:halifax \n",
      "City Number:5866583,City Name:kodiak \n",
      "City Number:3347353,City Name:menongue \n",
      "City Number:359792,City Name:aswan \n",
      "City Number:1283285,City Name:jumla \n",
      "City Number:2180815,City Name:tuatapere \n",
      "Info Not available...skipping\n",
      "City Number:4033557,City Name:tautira \n",
      "City Number:2429344,City Name:kyabe \n",
      "City Number:5367788,City Name:lompoc \n",
      "City Number:1788046,City Name:xuchang \n",
      "City Number:1640344,City Name:kendari \n",
      "City Number:1790437,City Name:zhuhai \n",
      "City Number:1736660,City Name:kota belud \n",
      "City Number:3430545,City Name:moron \n",
      "Info Not available...skipping\n",
      "City Number:934322,City Name:mahebourg \n",
      "City Number:175499,City Name:nchelenge \n",
      "Info Not available...skipping\n",
      "City Number:1015776,City Name:bredasdorp \n",
      "Info Not available...skipping\n",
      "City Number:6170031,City Name:tuktoyaktuk \n",
      "City Number:3407762,City Name:amapa \n",
      "City Number:1490256,City Name:talnakh \n",
      "City Number:5922281,City Name:chute-aux-outardes \n",
      "City Number:2209055,City Name:waddan \n",
      "City Number:2136697,City Name:lakatoro \n",
      "City Number:2208248,City Name:kaitangata \n",
      "City Number:2122104,City Name:petropavlovsk-kamchatskiy \n",
      "City Number:1701054,City Name:marawi \n",
      "City Number:3521108,City Name:progreso \n",
      "City Number:597440,City Name:linkuva \n",
      "City Number:3571913,City Name:marsh harbour \n",
      "City Number:6088469,City Name:nipawin \n",
      "City Number:5746545,City Name:portland \n",
      "City Number:2137773,City Name:vao \n",
      "City Number:964420,City Name:port elizabeth \n",
      "City Number:2112802,City Name:hasaki \n",
      "City Number:2122090,City Name:pevek \n",
      "City Number:5463237,City Name:corrales \n",
      "City Number:1486321,City Name:yar-sale \n",
      "City Number:3369157,City Name:cape town \n",
      "City Number:3369174,City Name:calvinia \n",
      "City Number:4142290,City Name:dover \n",
      "City Number:2163355,City Name:hobart \n",
      "City Number:2071860,City Name:esperance \n",
      "City Number:3398856,City Name:grajau \n",
      "City Number:1006984,City Name:east london \n",
      "City Number:3137469,City Name:sorland \n",
      "City Number:2194098,City Name:ahipara \n",
      "City Number:2091996,City Name:madang \n",
      "City Number:2264557,City Name:ponta do sol \n",
      "City Number:7082481,City Name:khuzdar \n",
      "City Number:1651531,City Name:ambon \n",
      "City Number:3163962,City Name:volterra \n",
      "City Number:3868626,City Name:valparaiso \n",
      "City Number:293842,City Name:gat \n",
      "City Number:512570,City Name:parfino \n",
      "Info Not available...skipping\n",
      "City Number:2017487,City Name:raychikhinsk \n",
      "City Number:2171099,City Name:codrington \n",
      "City Number:2930596,City Name:emden \n",
      "City Number:2520645,City Name:cabra \n",
      "City Number:1856068,City Name:nago \n",
      "City Number:552568,City Name:kardailovo \n",
      "City Number:4047434,City Name:russell \n",
      "City Number:4018700,City Name:altar \n",
      "City Number:3374083,City Name:bathsheba \n",
      "City Number:1513491,City Name:komsomolskiy \n",
      "City Number:215527,City Name:kabinda \n",
      "City Number:3128760,City Name:barcelona \n"
     ]
    },
    {
     "name": "stdout",
     "output_type": "stream",
     "text": [
      "City Number:2421273,City Name:faranah \n",
      "City Number:6316343,City Name:alta floresta \n",
      "City Number:2173911,City Name:broken hill \n",
      "City Number:2236967,City Name:soyo \n",
      "City Number:1687894,City Name:santa rosa \n",
      "City Number:933995,City Name:souillac \n",
      "City Number:1529376,City Name:korla \n",
      "City Number:2175403,City Name:blackwater \n",
      "City Number:6089245,City Name:norman wells \n",
      "Info Not available...skipping\n",
      "City Number:2240449,City Name:luanda \n",
      "City Number:2126682,City Name:bilibino \n",
      "Info Not available...skipping\n",
      "City Number:2126785,City Name:belaya gora \n",
      "Info Not available...skipping\n",
      "City Number:1855342,City Name:nishihara \n",
      "Info Not available...skipping\n",
      "City Number:1244926,City Name:hambantota \n",
      "City Number:1855540,City Name:naze \n",
      "City Number:336454,City Name:ginir \n",
      "City Number:3430863,City Name:mar del plata \n",
      "City Number:4031742,City Name:egvekinot \n",
      "City Number:3388847,City Name:sao felix do xingu \n",
      "Info Not available...skipping\n",
      "City Number:2132606,City Name:samarai \n",
      "City Number:1786640,City Name:yingcheng \n",
      "City Number:1651103,City Name:atambua \n",
      "City Number:4938048,City Name:grafton \n",
      "City Number:6050066,City Name:la ronge \n",
      "City Number:6111862,City Name:port hardy \n",
      "City Number:3423146,City Name:ilulissat \n",
      "City Number:5557293,City Name:sitka \n",
      "Info Not available...skipping\n",
      "City Number:6323121,City Name:florianopolis \n",
      "City Number:1139715,City Name:jalalabad \n",
      "City Number:3939168,City Name:huarmey \n",
      "City Number:2112309,City Name:katsuura \n",
      "City Number:2654970,City Name:brae \n",
      "Info Not available...skipping\n",
      "City Number:4031574,City Name:provideniya \n",
      "City Number:2090021,City Name:namatanai \n",
      "City Number:4004293,City Name:ixtapa \n",
      "City Number:3395062,City Name:maues \n",
      "City Number:2156643,City Name:mount gambier \n",
      "City Number:2610343,City Name:vestmanna \n",
      "City Number:1150965,City Name:ranong \n",
      "City Number:3380290,City Name:sinnamary \n",
      "City Number:1651810,City Name:airai \n",
      "City Number:3946820,City Name:barranca \n",
      "City Number:2119283,City Name:zyryanka \n",
      "City Number:6454920,City Name:grasse \n",
      "City Number:5962442,City Name:goderich \n",
      "City Number:5879400,City Name:anchorage \n",
      "City Number:3452179,City Name:quarai \n",
      "City Number:3893629,City Name:coquimbo \n",
      "City Number:3466165,City Name:cidreira \n",
      "City Number:3412093,City Name:vestmannaeyjar \n",
      "City Number:5110365,City Name:broome \n",
      "City Number:149070,City Name:utete \n",
      "City Number:2246901,City Name:oussouye \n",
      "City Number:1528796,City Name:at-bashi \n",
      "City Number:4560349,City Name:filadelfia \n",
      "City Number:525426,City Name:sobolevo \n",
      "City Number:6355222,City Name:yulara \n",
      "City Number:5044290,City Name:saint anthony \n",
      "City Number:1794794,City Name:shouguang \n",
      "City Number:2092164,City Name:lorengau \n",
      "City Number:1528998,City Name:yumen \n",
      "City Number:5275191,City Name:superior \n",
      "Info Not available...skipping\n",
      "City Number:1626493,City Name:srandakan \n",
      "City Number:3671497,City Name:puerto colombia \n",
      "City Number:3137245,City Name:spydeberg \n",
      "City Number:4031637,City Name:lavrentiya \n",
      "City Number:1805733,City Name:jinchang \n",
      "City Number:3664980,City Name:boa vista \n",
      "City Number:3893726,City Name:constitucion \n",
      "City Number:2953314,City Name:bad windsheim \n",
      "City Number:3460355,City Name:jaciara \n",
      "City Number:2013459,City Name:verkh-usugli \n",
      "City Number:548097,City Name:kislyakovskaya \n",
      "City Number:315202,City Name:eskisehir \n",
      "City Number:2396518,City Name:port-gentil \n",
      "City Number:5849297,City Name:kihei \n",
      "City Number:1279068,City Name:aland \n",
      "City Number:2021799,City Name:konstantinovka \n",
      "City Number:3182059,City Name:bibbiena \n",
      "City Number:58933,City Name:garowe \n",
      "City Number:546105,City Name:nikolskoye \n",
      "City Number:6171633,City Name:ucluelet \n",
      "City Number:2409914,City Name:bonthe \n",
      "City Number:2013225,City Name:vydrino \n",
      "City Number:8010683,City Name:porto santo \n",
      "Info Not available...skipping\n",
      "City Number:3406041,City Name:barroquinha \n",
      "City Number:4985711,City Name:benton harbor \n",
      "City Number:5257754,City Name:janesville \n",
      "City Number:1213821,City Name:sigli \n",
      "City Number:2318921,City Name:wukari \n",
      "Info Not available...skipping\n",
      "City Number:53654,City Name:mogadishu \n",
      "City Number:1518139,City Name:tobol \n",
      "City Number:338345,City Name:edd \n",
      "City Number:3698304,City Name:chimbote \n",
      "City Number:1528252,City Name:ivanovka \n",
      "City Number:2446796,City Name:bilma \n",
      "City Number:1510377,City Name:belyy yar \n",
      "City Number:108410,City Name:riyadh \n",
      "City Number:2618795,City Name:klaksvik \n",
      "City Number:469960,City Name:vytegra \n",
      "City Number:1270466,City Name:halvad \n",
      "Info Not available...skipping\n",
      "City Number:2121025,City Name:srednekolymsk \n",
      "City Number:293992,City Name:ofaqim \n",
      "City Number:3471451,City Name:arraial do cabo \n",
      "City Number:2171766,City Name:charlestown \n",
      "City Number:2638534,City Name:sandwick \n",
      "City Number:3696378,City Name:huaraz \n",
      "City Number:1328421,City Name:pathein \n",
      "City Number:3703938,City Name:nata \n",
      "City Number:1507390,City Name:dikson \n",
      "City Number:3393922,City Name:nisia floresta \n",
      "City Number:4020109,City Name:atuona \n",
      "City Number:1683602,City Name:tambilil \n",
      "City Number:3424607,City Name:tasiilaq \n",
      "City Number:556268,City Name:ostrovnoy \n",
      "Info Not available...skipping\n",
      "City Number:934649,City Name:cap malheureux \n",
      "City Number:1506254,City Name:gornyy \n",
      "City Number:2509553,City Name:villanueva de la serena \n",
      "City Number:3141667,City Name:roald \n",
      "City Number:527012,City Name:mikhaylovka \n",
      "City Number:2134814,City Name:sola \n",
      "Info Not available...skipping\n",
      "Info Not available...skipping\n",
      "City Number:6096551,City Name:pangnirtung \n",
      "City Number:1648759,City Name:bima \n",
      "City Number:2023584,City Name:imeni poliny osipenko \n",
      "City Number:2152659,City Name:port macquarie \n",
      "City Number:1224061,City Name:wattegama \n",
      "City Number:5850511,City Name:makaha \n",
      "City Number:2874252,City Name:mainburg \n",
      "City Number:7281807,City Name:seddon \n",
      "City Number:1520327,City Name:osakarovka \n",
      "City Number:380348,City Name:abu zabad \n",
      "City Number:3430443,City Name:necochea \n",
      "City Number:1337607,City Name:kudahuvadhoo \n",
      "City Number:102527,City Name:sakakah \n",
      "City Number:2123814,City Name:leningradskiy \n",
      "City Number:2847080,City Name:riedlingen \n",
      "City Number:1735106,City Name:georgetown \n",
      "Info Not available...skipping\n",
      "City Number:3831208,City Name:qaanaaq \n",
      "City Number:5546220,City Name:saint george \n",
      "City Number:986717,City Name:kruisfontein \n",
      "City Number:286245,City Name:sur \n",
      "City Number:2126710,City Name:beringovskiy \n",
      "City Number:1529484,City Name:hami \n",
      "City Number:2427697,City Name:moissala \n",
      "City Number:1266475,City Name:kishtwar \n",
      "Info Not available...skipping\n",
      "City Number:2184707,City Name:wanaka \n",
      "City Number:3129839,City Name:aras \n",
      "Info Not available...skipping\n",
      "City Number:780687,City Name:berlevag \n",
      "City Number:72181,City Name:marzuq \n",
      "City Number:3919703,City Name:comarapa \n",
      "City Number:1052373,City Name:beira \n",
      "City Number:122285,City Name:neyshabur \n",
      "City Number:921900,City Name:dzaoudzi \n",
      "City Number:523392,City Name:naryan-mar \n",
      "City Number:486043,City Name:surskoye \n",
      "City Number:3095795,City Name:kolobrzeg \n",
      "City Number:1271717,City Name:gandhidham \n",
      "City Number:2449893,City Name:tessalit \n",
      "City Number:3695675,City Name:la peca \n",
      "City Number:2017658,City Name:preobrazheniye \n",
      "City Number:1082639,City Name:ambatondrazaka \n",
      "City Number:1847947,City Name:shingu \n",
      "City Number:286621,City Name:salalah \n",
      "City Number:2025099,City Name:dauriya \n",
      "City Number:2516507,City Name:huescar \n",
      "City Number:1852357,City Name:shimoda \n",
      "City Number:1734313,City Name:paka \n",
      "City Number:1693150,City Name:polahongon \n",
      "City Number:64814,City Name:bandarbeyla \n",
      "City Number:3530385,City Name:comalcalco \n",
      "City Number:3358670,City Name:arandis \n",
      "City Number:4468261,City Name:goldsboro \n",
      "City Number:2425791,City Name:kibala \n",
      "City Number:2852577,City Name:porta westfalica \n",
      "City Number:2122262,City Name:palana \n",
      "City Number:2174444,City Name:bowen \n",
      "City Number:4013724,City Name:camargo \n",
      "City Number:2027296,City Name:aykhal \n",
      "City Number:2155562,City Name:nelson bay \n",
      "City Number:3985168,City Name:san patricio \n",
      "City Number:3355672,City Name:luderitz \n",
      "City Number:2282006,City Name:san-pedro \n",
      "City Number:5859699,City Name:college \n",
      "City Number:352733,City Name:marsa matruh \n",
      "City Number:2278158,City Name:buchanan \n",
      "City Number:3021262,City Name:dole \n",
      "City Number:4500920,City Name:brigantine \n",
      "City Number:3860443,City Name:comodoro rivadavia \n",
      "City Number:1502422,City Name:kosh-agach \n",
      "City Number:3406196,City Name:barreirinhas \n"
     ]
    },
    {
     "name": "stdout",
     "output_type": "stream",
     "text": [
      "City Number:714504,City Name:turkeve \n",
      "City Number:2142316,City Name:yeppoon \n",
      "City Number:2138555,City Name:poum \n",
      "City Number:4898433,City Name:kewanee \n",
      "City Number:3987309,City Name:san diego de la union \n",
      "City Number:5720495,City Name:coos bay \n",
      "City Number:3833859,City Name:tres arroyos \n",
      "City Number:3939761,City Name:hualmay \n",
      "City Number:2191562,City Name:dunedin \n",
      "City Number:2447513,City Name:arlit \n",
      "City Number:4414200,City Name:west plains \n",
      "City Number:2656847,City Name:atherton \n",
      "City Number:3416888,City Name:grindavik \n",
      "City Number:3671387,City Name:puerto narino \n",
      "City Number:5392171,City Name:san jose \n",
      "City Number:3664301,City Name:envira \n",
      "City Number:3932145,City Name:pisco \n",
      "City Number:4231997,City Name:avera \n",
      "City Number:2513703,City Name:moncada \n",
      "City Number:7671223,City Name:kloulklubed \n",
      "City Number:609924,City Name:emba \n",
      "City Number:1810637,City Name:ganzhou \n",
      "City Number:110690,City Name:faya \n",
      "City Number:5919850,City Name:chapais \n",
      "Info Not available...skipping\n",
      "City Number:3348313,City Name:huambo \n",
      "City Number:4172445,City Name:seminole \n",
      "City Number:3675504,City Name:manaure \n",
      "City Number:3839982,City Name:punta alta \n",
      "City Number:2164837,City Name:goulburn \n",
      "City Number:3418910,City Name:upernavik \n",
      "City Number:1816705,City Name:beihai \n",
      "City Number:2013865,City Name:ust-uda \n",
      "City Number:935616,City Name:le port \n",
      "City Number:100926,City Name:umm lajj \n",
      "City Number:1491230,City Name:sovetskiy \n",
      "Info Not available...skipping\n",
      "City Number:3663693,City Name:jutai \n",
      "City Number:1857046,City Name:mino \n",
      "City Number:2012593,City Name:zeya \n",
      "City Number:3372783,City Name:ponta delgada \n",
      "City Number:712775,City Name:bashtanka \n",
      "City Number:1279945,City Name:jiuquan \n",
      "City Number:1629001,City Name:samarinda \n",
      "City Number:2126199,City Name:cherskiy \n",
      "City Number:87205,City Name:darnah \n",
      "Info Not available...skipping\n",
      "City Number:2127060,City Name:arman \n",
      "City Number:552006,City Name:kashary \n",
      "City Number:1516589,City Name:zhezkazgan \n",
      "City Number:1264514,City Name:magadi \n",
      "City Number:2629833,City Name:husavik \n",
      "City Number:5554428,City Name:ketchikan \n",
      "City Number:2109528,City Name:buala \n",
      "City Number:2094342,City Name:kavieng \n",
      "City Number:1737486,City Name:bintulu \n",
      "City Number:296852,City Name:erzin \n",
      "City Number:3115093,City Name:olot \n",
      "City Number:1264976,City Name:leh \n",
      "City Number:2018735,City Name:nyurba \n",
      "City Number:193627,City Name:karuri \n",
      "City Number:1068971,City Name:antsohihy \n",
      "City Number:3910901,City Name:mairana \n",
      "City Number:3395981,City Name:maceio \n",
      "City Number:3628473,City Name:san cristobal \n",
      "Info Not available...skipping\n",
      "City Number:935214,City Name:saint-pierre \n",
      "City Number:2012956,City Name:yerbogachen \n",
      "City Number:3920244,City Name:chulumani \n",
      "City Number:1337612,City Name:dhidhdhoo \n",
      "City Number:2181133,City Name:pareora \n",
      "City Number:3576994,City Name:cockburn town \n",
      "Info Not available...skipping\n",
      "City Number:1490085,City Name:tarko-sale \n",
      "City Number:2077895,City Name:alice springs \n",
      "City Number:2013918,City Name:ust-maya \n",
      "City Number:159071,City Name:iringa \n",
      "City Number:1490918,City Name:staryy nadym \n",
      "City Number:5563839,City Name:fortuna \n",
      "City Number:1714733,City Name:dingle \n",
      "City Number:1510689,City Name:baykit \n",
      "City Number:1524606,City Name:derzhavinsk \n",
      "City Number:2021041,City Name:kyra \n",
      "City Number:3897347,City Name:calama \n",
      "City Number:2020584,City Name:magistralnyy \n",
      "City Number:3449749,City Name:santa vitoria \n",
      "City Number:306569,City Name:konya \n",
      "City Number:103630,City Name:najran \n",
      "City Number:3435038,City Name:dolores \n",
      "City Number:3466980,City Name:caravelas \n",
      "City Number:2253354,City Name:dakar \n",
      "City Number:2653144,City Name:chippenham \n",
      "City Number:1492566,City Name:severo-yeniseyskiy \n",
      "City Number:5379524,City Name:orange \n",
      "City Number:5983720,City Name:iqaluit \n",
      "City Number:4297983,City Name:lexington \n",
      "City Number:2455290,City Name:kidal \n",
      "City Number:4944903,City Name:nantucket \n",
      "City Number:4946620,City Name:palmer \n",
      "City Number:2738381,City Name:lata \n",
      "City Number:2362344,City Name:bobo dioulasso \n",
      "City Number:2659422,City Name:nyon \n",
      "City Number:1636544,City Name:manado \n",
      "City Number:1078553,City Name:ampanihy \n",
      "City Number:3474574,City Name:palmas \n",
      "City Number:2328113,City Name:otukpo \n",
      "City Number:1835848,City Name:seoul \n",
      "City Number:1520316,City Name:oskemen \n",
      "City Number:374739,City Name:gogrial \n",
      "City Number:415189,City Name:aden \n",
      "City Number:2964492,City Name:dunmore east \n",
      "City Number:3924679,City Name:vilhena \n",
      "City Number:1276328,City Name:bhadrachalam \n",
      "City Number:3456146,City Name:nova londrina \n",
      "City Number:6149996,City Name:smithers \n",
      "City Number:1261901,City Name:nanpara \n",
      "City Number:2219235,City Name:awbari \n",
      "City Number:327651,City Name:teseney \n",
      "City Number:2444219,City Name:goure \n",
      "City Number:88533,City Name:awjilah \n",
      "City Number:2172797,City Name:cairns \n",
      "City Number:893549,City Name:chipinge \n",
      "City Number:3839307,City Name:rawson \n",
      "City Number:686090,City Name:asau \n",
      "City Number:1842966,City Name:kijang \n",
      "City Number:2356228,City Name:reo \n",
      "City Number:1526041,City Name:atasu \n",
      "City Number:3928679,City Name:sicuani \n",
      "City Number:1488903,City Name:turukhansk \n",
      "City Number:2146219,City Name:hervey bay \n",
      "City Number:902344,City Name:nakambala \n",
      "City Number:2063036,City Name:port lincoln \n",
      "City Number:1214724,City Name:langsa \n",
      "City Number:5641727,City Name:bozeman \n",
      "Info Not available...skipping\n",
      "City Number:933077,City Name:shakawe \n",
      "City Number:2649169,City Name:kinlochleven \n",
      "Info Not available...skipping\n",
      "City Number:2303611,City Name:axim \n",
      "City Number:1726449,City Name:basco \n",
      "City Number:1622318,City Name:waingapu \n",
      "City Number:1504317,City Name:kartaly \n",
      "City Number:3386177,City Name:trairi \n",
      "City Number:464790,City Name:zapolyarnyy \n",
      "City Number:8079926,City Name:labuhan \n",
      "City Number:3393692,City Name:itarema \n",
      "City Number:2269142,City Name:colares \n",
      "City Number:2088122,City Name:port moresby \n",
      "City Number:902721,City Name:mwense \n",
      "City Number:5969025,City Name:haines junction \n",
      "City Number:89113,City Name:ajdabiya \n",
      "City Number:1794209,City Name:simao \n",
      "City Number:4791259,City Name:virginia beach \n",
      "City Number:2036933,City Name:helong \n",
      "City Number:3420846,City Name:qaqortoq \n",
      "City Number:5379439,City Name:ontario \n",
      "City Number:1235846,City Name:matara \n",
      "City Number:1282898,City Name:pokhara \n",
      "City Number:3372472,City Name:vila franca do campo \n",
      "City Number:5742974,City Name:north bend \n",
      "City Number:3465769,City Name:conceicao da barra \n",
      "City Number:1065158,City Name:farafangana \n",
      "City Number:3419842,City Name:sisimiut \n",
      "Info Not available...skipping\n",
      "City Number:3386213,City Name:touros \n",
      "City Number:782843,City Name:kelcyre \n",
      "City Number:2028462,City Name:ulaanbaatar \n",
      "Info Not available...skipping\n",
      "City Number:1684245,City Name:tagusao \n",
      "City Number:2158767,City Name:mareeba \n",
      "City Number:3036364,City Name:aubiere \n",
      "Info Not available...skipping\n",
      "City Number:3457107,City Name:mirandopolis \n",
      "City Number:1037125,City Name:montepuez \n",
      "City Number:3473267,City Name:abaete \n",
      "City Number:2036069,City Name:linjiang \n",
      "City Number:2189343,City Name:kaeo \n",
      "City Number:4734350,City Name:stephenville \n",
      "City Number:3690654,City Name:yurimaguas \n",
      "City Number:3899539,City Name:antofagasta \n",
      "City Number:157429,City Name:kilindoni \n",
      "City Number:3928867,City Name:sayan \n",
      "City Number:3672086,City Name:pizarro \n",
      "City Number:616224,City Name:shirak \n",
      "City Number:2653915,City Name:campbeltown \n",
      "City Number:3421765,City Name:nanortalik \n",
      "City Number:3661980,City Name:tarauaca \n",
      "City Number:524901,City Name:moscow \n",
      "City Number:779554,City Name:honningsvag \n",
      "City Number:2173125,City Name:burnie \n",
      "City Number:2757220,City Name:den helder \n",
      "City Number:5882953,City Name:aklavik \n",
      "City Number:2537881,City Name:asfi \n",
      "City Number:2065594,City Name:mount isa \n",
      "City Number:3522728,City Name:niltepec \n",
      "City Number:150689,City Name:poli \n",
      "City Number:2012530,City Name:zhigansk \n",
      "Info Not available...skipping\n",
      "City Number:3491355,City Name:black river \n",
      "Info Not available...skipping\n",
      "City Number:616062,City Name:ranchpar \n",
      "City Number:4033077,City Name:vaitape \n",
      "City Number:2111704,City Name:namie \n",
      "City Number:2037252,City Name:genhe \n",
      "Info Not available...skipping\n",
      "City Number:494366,City Name:shimsk \n",
      "City Number:2367990,City Name:aneho \n",
      "City Number:1651591,City Name:amahai \n",
      "City Number:1627877,City Name:sembakung \n",
      "City Number:4328254,City Name:iberia \n"
     ]
    },
    {
     "name": "stdout",
     "output_type": "stream",
     "text": [
      "City Number:1142226,City Name:dawlatabad \n",
      "City Number:1791121,City Name:changde \n",
      "City Number:1502862,City Name:kolpashevo \n",
      "City Number:3919998,City Name:cobija \n",
      "City Number:1005781,City Name:elliot \n",
      "City Number:2958975,City Name:aichach \n",
      "City Number:3356213,City Name:khorixas \n",
      "City Number:3892454,City Name:diego de almagro \n",
      "City Number:733722,City Name:ahtopol \n",
      "City Number:1525376,City Name:bestobe \n",
      "City Number:209598,City Name:manono \n"
     ]
    }
   ],
   "source": [
    "ID=[]\n",
    "Country=[]\n",
    "MaxTemp=[]\n",
    "Humidity=[]\n",
    "lat=[]\n",
    "lng=[]\n",
    "Cloudiness=[]\n",
    "Wind_Speed=[]\n",
    "CityName=[]\n",
    "Date=[]\n",
    "\n",
    "units=\"Imperial\"\n",
    "\n",
    "for city in cities:\n",
    "    url = \"http://api.openweathermap.org/data/2.5/weather?\"\n",
    "# # Build query URL\n",
    "    query_url = url + \"appid=\" + weather_api_key + \"&q=\" + city + \"&units=\" + units\n",
    "     \n",
    "    weather_response = requests.get(query_url)\n",
    "    weather_data = weather_response.json()\n",
    "    weather_json=json.dumps(weather_data,indent=4,sort_keys=True)\n",
    "    \n",
    "    \n",
    "    \n",
    "    try:\n",
    "        \n",
    "        ID.append(weather_data[\"id\"])\n",
    "        CityName.append(weather_data[\"name\"])\n",
    "        Country.append(weather_data[\"sys\"][\"country\"])\n",
    "        Date.append(weather_data[\"dt\"])\n",
    "        MaxTemp.append(weather_data[\"main\"][\"temp_max\"])\n",
    "        Humidity.append(weather_data[\"main\"][\"humidity\"])\n",
    "        Cloudiness.append(weather_data[\"clouds\"][\"all\"])\n",
    "        lat.append(weather_data[\"coord\"][\"lat\"])\n",
    "        lng.append(weather_data[\"coord\"][\"lon\"])\n",
    "        Wind_Speed.append(weather_data[\"wind\"][\"speed\"])\n",
    "        \n",
    "        print(\"City Number:{},City Name:{} \".format(weather_data[\"id\"],city))\n",
    "              \n",
    "    except (KeyError,IndexError):\n",
    "       print(\"Info Not available...skipping\")\n",
    "\n",
    "    \n",
    "    "
   ]
  },
  {
   "cell_type": "markdown",
   "metadata": {},
   "source": [
    "### Convert Raw Data to DataFrame\n",
    "* Export the city data into a .csv.\n",
    "* Display the DataFrame"
   ]
  },
  {
   "cell_type": "code",
   "execution_count": 5,
   "metadata": {},
   "outputs": [],
   "source": [
    "output_file=\"city_data.csv\"\n",
    "\n",
    "FormattedDate=[]\n",
    "fields=[\"ID\",\"City Name\",\"Country\",\"Date\",\"MaxTemp\",\"Humidity\",\"lat\",\"lng\",\"Cloudiness\",\"Wind_Speed\",\"Formatted Date\"]\n",
    "for item in Date:\n",
    "    FormattedDate.append(datetime.date.fromtimestamp(item))\n",
    "   # City_data_df[\"Formatted Date\"]=Date[item]\n",
    "#City_data_df.head()\n",
    "\n",
    "#change the list of column items  to rows to write to csv\n",
    "rows=zip(ID,CityName,Country,Date,MaxTemp,Humidity,lat,lng,Cloudiness,Wind_Speed,FormattedDate,)\n",
    "with open(output_file,'w',encoding='UTF-8') as csvfile:\n",
    "    # creating a csv writer object  \n",
    "    csvwriter = csv.writer(csvfile)  \n",
    "        \n",
    "    # writing the fields  \n",
    "    csvwriter.writerow(fields)  \n",
    "        \n",
    "    # writing the data rows  \n",
    "    for row in rows:\n",
    "        csvwriter.writerow(row) \n",
    "\n",
    "    "
   ]
  },
  {
   "cell_type": "code",
   "execution_count": 7,
   "metadata": {},
   "outputs": [
    {
     "data": {
      "text/html": [
       "<div>\n",
       "<style scoped>\n",
       "    .dataframe tbody tr th:only-of-type {\n",
       "        vertical-align: middle;\n",
       "    }\n",
       "\n",
       "    .dataframe tbody tr th {\n",
       "        vertical-align: top;\n",
       "    }\n",
       "\n",
       "    .dataframe thead th {\n",
       "        text-align: right;\n",
       "    }\n",
       "</style>\n",
       "<table border=\"1\" class=\"dataframe\">\n",
       "  <thead>\n",
       "    <tr style=\"text-align: right;\">\n",
       "      <th></th>\n",
       "      <th>ID</th>\n",
       "      <th>City Name</th>\n",
       "      <th>Country</th>\n",
       "      <th>Date</th>\n",
       "      <th>MaxTemp</th>\n",
       "      <th>Humidity</th>\n",
       "      <th>lat</th>\n",
       "      <th>lng</th>\n",
       "      <th>Cloudiness</th>\n",
       "      <th>Wind_Speed</th>\n",
       "      <th>Formatted Date</th>\n",
       "    </tr>\n",
       "  </thead>\n",
       "  <tbody>\n",
       "    <tr>\n",
       "      <th>0</th>\n",
       "      <td>5924351</td>\n",
       "      <td>Clyde River</td>\n",
       "      <td>CA</td>\n",
       "      <td>1595731143</td>\n",
       "      <td>39.20</td>\n",
       "      <td>93</td>\n",
       "      <td>70.47</td>\n",
       "      <td>-68.59</td>\n",
       "      <td>75</td>\n",
       "      <td>6.93</td>\n",
       "      <td>2020-07-25</td>\n",
       "    </tr>\n",
       "    <tr>\n",
       "      <th>1</th>\n",
       "      <td>1649150</td>\n",
       "      <td>Bengkulu</td>\n",
       "      <td>ID</td>\n",
       "      <td>1595731146</td>\n",
       "      <td>82.74</td>\n",
       "      <td>70</td>\n",
       "      <td>-3.80</td>\n",
       "      <td>102.27</td>\n",
       "      <td>4</td>\n",
       "      <td>7.76</td>\n",
       "      <td>2020-07-25</td>\n",
       "    </tr>\n",
       "    <tr>\n",
       "      <th>2</th>\n",
       "      <td>2620871</td>\n",
       "      <td>Hals</td>\n",
       "      <td>DK</td>\n",
       "      <td>1595731146</td>\n",
       "      <td>61.00</td>\n",
       "      <td>94</td>\n",
       "      <td>57.00</td>\n",
       "      <td>10.31</td>\n",
       "      <td>100</td>\n",
       "      <td>3.00</td>\n",
       "      <td>2020-07-25</td>\n",
       "    </tr>\n",
       "    <tr>\n",
       "      <th>3</th>\n",
       "      <td>470905</td>\n",
       "      <td>Vuktyl</td>\n",
       "      <td>RU</td>\n",
       "      <td>1595731146</td>\n",
       "      <td>65.10</td>\n",
       "      <td>61</td>\n",
       "      <td>63.86</td>\n",
       "      <td>57.31</td>\n",
       "      <td>57</td>\n",
       "      <td>1.81</td>\n",
       "      <td>2020-07-25</td>\n",
       "    </tr>\n",
       "    <tr>\n",
       "      <th>4</th>\n",
       "      <td>3873145</td>\n",
       "      <td>Río Bueno</td>\n",
       "      <td>CL</td>\n",
       "      <td>1595731146</td>\n",
       "      <td>46.40</td>\n",
       "      <td>100</td>\n",
       "      <td>-40.32</td>\n",
       "      <td>-72.97</td>\n",
       "      <td>100</td>\n",
       "      <td>5.82</td>\n",
       "      <td>2020-07-25</td>\n",
       "    </tr>\n",
       "  </tbody>\n",
       "</table>\n",
       "</div>"
      ],
      "text/plain": [
       "        ID    City Name Country        Date  MaxTemp  Humidity    lat     lng  \\\n",
       "0  5924351  Clyde River      CA  1595731143    39.20        93  70.47  -68.59   \n",
       "1  1649150     Bengkulu      ID  1595731146    82.74        70  -3.80  102.27   \n",
       "2  2620871         Hals      DK  1595731146    61.00        94  57.00   10.31   \n",
       "3   470905       Vuktyl      RU  1595731146    65.10        61  63.86   57.31   \n",
       "4  3873145    Río Bueno      CL  1595731146    46.40       100 -40.32  -72.97   \n",
       "\n",
       "   Cloudiness  Wind_Speed Formatted Date  \n",
       "0          75        6.93     2020-07-25  \n",
       "1           4        7.76     2020-07-25  \n",
       "2         100        3.00     2020-07-25  \n",
       "3          57        1.81     2020-07-25  \n",
       "4         100        5.82     2020-07-25  "
      ]
     },
     "execution_count": 7,
     "metadata": {},
     "output_type": "execute_result"
    }
   ],
   "source": [
    "City_data_df=pd.read_csv('city_data.csv', sep = ',')\n",
    "City_data_df.head()"
   ]
  },
  {
   "cell_type": "code",
   "execution_count": 8,
   "metadata": {},
   "outputs": [
    {
     "name": "stdout",
     "output_type": "stream",
     "text": [
      "<class 'pandas.core.frame.DataFrame'>\n",
      "RangeIndex: 594 entries, 0 to 593\n",
      "Data columns (total 11 columns):\n",
      " #   Column          Non-Null Count  Dtype  \n",
      "---  ------          --------------  -----  \n",
      " 0   ID              594 non-null    int64  \n",
      " 1   City Name       594 non-null    object \n",
      " 2   Country         590 non-null    object \n",
      " 3   Date            594 non-null    int64  \n",
      " 4   MaxTemp         594 non-null    float64\n",
      " 5   Humidity        594 non-null    int64  \n",
      " 6   lat             594 non-null    float64\n",
      " 7   lng             594 non-null    float64\n",
      " 8   Cloudiness      594 non-null    int64  \n",
      " 9   Wind_Speed      594 non-null    float64\n",
      " 10  Formatted Date  594 non-null    object \n",
      "dtypes: float64(4), int64(4), object(3)\n",
      "memory usage: 51.2+ KB\n"
     ]
    },
    {
     "data": {
      "text/plain": [
       "594"
      ]
     },
     "execution_count": 8,
     "metadata": {},
     "output_type": "execute_result"
    }
   ],
   "source": [
    "City_data_df.info()\n",
    "#To check if there are duplicates for the cities.\n",
    "a=City_data_df[\"City Name\"].unique()\n",
    "len(a)\n"
   ]
  },
  {
   "cell_type": "markdown",
   "metadata": {},
   "source": [
    "## Inspect the data and remove the cities where the humidity > 100%.\n",
    "----\n",
    "Skip this step if there are no cities that have humidity > 100%. "
   ]
  },
  {
   "cell_type": "code",
   "execution_count": 9,
   "metadata": {},
   "outputs": [
    {
     "data": {
      "text/html": [
       "<div>\n",
       "<style scoped>\n",
       "    .dataframe tbody tr th:only-of-type {\n",
       "        vertical-align: middle;\n",
       "    }\n",
       "\n",
       "    .dataframe tbody tr th {\n",
       "        vertical-align: top;\n",
       "    }\n",
       "\n",
       "    .dataframe thead th {\n",
       "        text-align: right;\n",
       "    }\n",
       "</style>\n",
       "<table border=\"1\" class=\"dataframe\">\n",
       "  <thead>\n",
       "    <tr style=\"text-align: right;\">\n",
       "      <th></th>\n",
       "      <th>ID</th>\n",
       "      <th>City Name</th>\n",
       "      <th>Country</th>\n",
       "      <th>Date</th>\n",
       "      <th>MaxTemp</th>\n",
       "      <th>Humidity</th>\n",
       "      <th>lat</th>\n",
       "      <th>lng</th>\n",
       "      <th>Cloudiness</th>\n",
       "      <th>Wind_Speed</th>\n",
       "      <th>Formatted Date</th>\n",
       "    </tr>\n",
       "  </thead>\n",
       "  <tbody>\n",
       "    <tr>\n",
       "      <th>0</th>\n",
       "      <td>5924351</td>\n",
       "      <td>Clyde River</td>\n",
       "      <td>CA</td>\n",
       "      <td>1595731143</td>\n",
       "      <td>39.20</td>\n",
       "      <td>93</td>\n",
       "      <td>70.47</td>\n",
       "      <td>-68.59</td>\n",
       "      <td>75</td>\n",
       "      <td>6.93</td>\n",
       "      <td>2020-07-25</td>\n",
       "    </tr>\n",
       "    <tr>\n",
       "      <th>1</th>\n",
       "      <td>1649150</td>\n",
       "      <td>Bengkulu</td>\n",
       "      <td>ID</td>\n",
       "      <td>1595731146</td>\n",
       "      <td>82.74</td>\n",
       "      <td>70</td>\n",
       "      <td>-3.80</td>\n",
       "      <td>102.27</td>\n",
       "      <td>4</td>\n",
       "      <td>7.76</td>\n",
       "      <td>2020-07-25</td>\n",
       "    </tr>\n",
       "    <tr>\n",
       "      <th>2</th>\n",
       "      <td>2620871</td>\n",
       "      <td>Hals</td>\n",
       "      <td>DK</td>\n",
       "      <td>1595731146</td>\n",
       "      <td>61.00</td>\n",
       "      <td>94</td>\n",
       "      <td>57.00</td>\n",
       "      <td>10.31</td>\n",
       "      <td>100</td>\n",
       "      <td>3.00</td>\n",
       "      <td>2020-07-25</td>\n",
       "    </tr>\n",
       "    <tr>\n",
       "      <th>3</th>\n",
       "      <td>470905</td>\n",
       "      <td>Vuktyl</td>\n",
       "      <td>RU</td>\n",
       "      <td>1595731146</td>\n",
       "      <td>65.10</td>\n",
       "      <td>61</td>\n",
       "      <td>63.86</td>\n",
       "      <td>57.31</td>\n",
       "      <td>57</td>\n",
       "      <td>1.81</td>\n",
       "      <td>2020-07-25</td>\n",
       "    </tr>\n",
       "    <tr>\n",
       "      <th>4</th>\n",
       "      <td>3873145</td>\n",
       "      <td>Río Bueno</td>\n",
       "      <td>CL</td>\n",
       "      <td>1595731146</td>\n",
       "      <td>46.40</td>\n",
       "      <td>100</td>\n",
       "      <td>-40.32</td>\n",
       "      <td>-72.97</td>\n",
       "      <td>100</td>\n",
       "      <td>5.82</td>\n",
       "      <td>2020-07-25</td>\n",
       "    </tr>\n",
       "    <tr>\n",
       "      <th>...</th>\n",
       "      <td>...</td>\n",
       "      <td>...</td>\n",
       "      <td>...</td>\n",
       "      <td>...</td>\n",
       "      <td>...</td>\n",
       "      <td>...</td>\n",
       "      <td>...</td>\n",
       "      <td>...</td>\n",
       "      <td>...</td>\n",
       "      <td>...</td>\n",
       "      <td>...</td>\n",
       "    </tr>\n",
       "    <tr>\n",
       "      <th>588</th>\n",
       "      <td>2958975</td>\n",
       "      <td>Aichach</td>\n",
       "      <td>DE</td>\n",
       "      <td>1595731215</td>\n",
       "      <td>64.00</td>\n",
       "      <td>82</td>\n",
       "      <td>48.46</td>\n",
       "      <td>11.13</td>\n",
       "      <td>82</td>\n",
       "      <td>4.70</td>\n",
       "      <td>2020-07-25</td>\n",
       "    </tr>\n",
       "    <tr>\n",
       "      <th>590</th>\n",
       "      <td>3892454</td>\n",
       "      <td>Diego de Almagro</td>\n",
       "      <td>CL</td>\n",
       "      <td>1595731215</td>\n",
       "      <td>48.49</td>\n",
       "      <td>51</td>\n",
       "      <td>-26.37</td>\n",
       "      <td>-70.05</td>\n",
       "      <td>0</td>\n",
       "      <td>1.57</td>\n",
       "      <td>2020-07-25</td>\n",
       "    </tr>\n",
       "    <tr>\n",
       "      <th>591</th>\n",
       "      <td>733722</td>\n",
       "      <td>Ahtopol</td>\n",
       "      <td>BG</td>\n",
       "      <td>1595731215</td>\n",
       "      <td>68.00</td>\n",
       "      <td>88</td>\n",
       "      <td>42.10</td>\n",
       "      <td>27.95</td>\n",
       "      <td>0</td>\n",
       "      <td>5.82</td>\n",
       "      <td>2020-07-25</td>\n",
       "    </tr>\n",
       "    <tr>\n",
       "      <th>592</th>\n",
       "      <td>1525376</td>\n",
       "      <td>Bestöbe</td>\n",
       "      <td>KZ</td>\n",
       "      <td>1595731216</td>\n",
       "      <td>66.97</td>\n",
       "      <td>56</td>\n",
       "      <td>52.50</td>\n",
       "      <td>73.10</td>\n",
       "      <td>83</td>\n",
       "      <td>10.11</td>\n",
       "      <td>2020-07-25</td>\n",
       "    </tr>\n",
       "    <tr>\n",
       "      <th>593</th>\n",
       "      <td>209598</td>\n",
       "      <td>Manono</td>\n",
       "      <td>CD</td>\n",
       "      <td>1595731216</td>\n",
       "      <td>66.69</td>\n",
       "      <td>48</td>\n",
       "      <td>-7.30</td>\n",
       "      <td>27.42</td>\n",
       "      <td>0</td>\n",
       "      <td>8.75</td>\n",
       "      <td>2020-07-25</td>\n",
       "    </tr>\n",
       "  </tbody>\n",
       "</table>\n",
       "<p>590 rows × 11 columns</p>\n",
       "</div>"
      ],
      "text/plain": [
       "          ID         City Name Country        Date  MaxTemp  Humidity    lat  \\\n",
       "0    5924351       Clyde River      CA  1595731143    39.20        93  70.47   \n",
       "1    1649150          Bengkulu      ID  1595731146    82.74        70  -3.80   \n",
       "2    2620871              Hals      DK  1595731146    61.00        94  57.00   \n",
       "3     470905            Vuktyl      RU  1595731146    65.10        61  63.86   \n",
       "4    3873145         Río Bueno      CL  1595731146    46.40       100 -40.32   \n",
       "..       ...               ...     ...         ...      ...       ...    ...   \n",
       "588  2958975           Aichach      DE  1595731215    64.00        82  48.46   \n",
       "590  3892454  Diego de Almagro      CL  1595731215    48.49        51 -26.37   \n",
       "591   733722           Ahtopol      BG  1595731215    68.00        88  42.10   \n",
       "592  1525376           Bestöbe      KZ  1595731216    66.97        56  52.50   \n",
       "593   209598            Manono      CD  1595731216    66.69        48  -7.30   \n",
       "\n",
       "        lng  Cloudiness  Wind_Speed Formatted Date  \n",
       "0    -68.59          75        6.93     2020-07-25  \n",
       "1    102.27           4        7.76     2020-07-25  \n",
       "2     10.31         100        3.00     2020-07-25  \n",
       "3     57.31          57        1.81     2020-07-25  \n",
       "4    -72.97         100        5.82     2020-07-25  \n",
       "..      ...         ...         ...            ...  \n",
       "588   11.13          82        4.70     2020-07-25  \n",
       "590  -70.05           0        1.57     2020-07-25  \n",
       "591   27.95           0        5.82     2020-07-25  \n",
       "592   73.10          83       10.11     2020-07-25  \n",
       "593   27.42           0        8.75     2020-07-25  \n",
       "\n",
       "[590 rows x 11 columns]"
      ]
     },
     "execution_count": 9,
     "metadata": {},
     "output_type": "execute_result"
    }
   ],
   "source": [
    "#locate all rows with humidy>0\n",
    "new_df=City_data_df.loc[City_data_df[\"Humidity\"]> 100]\n",
    "new_df\n",
    "#No Cities with humidty >100\n",
    "#drop rows wherein any of the column values are empty\n",
    "clean_city_data_df=City_data_df.dropna(axis=0,how='any',inplace=False)\n",
    "clean_city_data_df\n",
    "\n"
   ]
  },
  {
   "cell_type": "code",
   "execution_count": null,
   "metadata": {},
   "outputs": [],
   "source": [
    "# Extract relevant fields from the data frame\n",
    "\n",
    "# Export the City_Data into a csv\n",
    "\n"
   ]
  },
  {
   "cell_type": "markdown",
   "metadata": {},
   "source": [
    "## Plotting the Data\n",
    "* Use proper labeling of the plots using plot titles (including date of analysis) and axes labels.\n",
    "* Save the plotted figures as .pngs."
   ]
  },
  {
   "cell_type": "markdown",
   "metadata": {},
   "source": [
    "## Latitude vs. Temperature Plot"
   ]
  },
  {
   "cell_type": "code",
   "execution_count": 11,
   "metadata": {
    "scrolled": true
   },
   "outputs": [
    {
     "name": "stdout",
     "output_type": "stream",
     "text": [
      "Analysing the relationship between Temperature and Latitude\n",
      "As you move towards the equator, the average temperature tends to rise\n"
     ]
    },
    {
     "data": {
      "image/png": "[encoded data removed]",
      "text/plain": [
       "<Figure size 432x288 with 1 Axes>"
      ]
     },
     "metadata": {
      "needs_background": "light"
     },
     "output_type": "display_data"
    }
   ],
   "source": [
    "plt.scatter(x=City_data_df[\"lat\"],y=City_data_df[\"MaxTemp\"],edgecolors=\"b\",facecolor=\"r\")\n",
    "plt.xlabel(\"Latitude\")\n",
    "plt.ylabel(\"Temperature\")\n",
    "plt.title(\"Latitude Vs Temperature Analysis\")\n",
    "plt.savefig(\"Output_plots/LatvsTemp.png\")\n",
    "print(\"Analysing the relationship between Temperature and Latitude\")\n",
    "print(\"As you move towards the equator, the average temperature tends to rise\")"
   ]
  },
  {
   "cell_type": "markdown",
   "metadata": {},
   "source": [
    "## Latitude vs. Humidity Plot"
   ]
  },
  {
   "cell_type": "code",
   "execution_count": 12,
   "metadata": {},
   "outputs": [
    {
     "name": "stdout",
     "output_type": "stream",
     "text": [
      "Analysing the relationship between Latitude and Humidity:\n",
      "The scatterplot shows even spread of Humidity across different lattitudes\n"
     ]
    },
    {
     "data": {
      "image/png": "[encoded data removed]",
      "text/plain": [
       "<Figure size 432x288 with 1 Axes>"
      ]
     },
     "metadata": {
      "needs_background": "light"
     },
     "output_type": "display_data"
    }
   ],
   "source": [
    "plt.scatter(x=City_data_df[\"lat\"],y=City_data_df[\"Humidity\"],edgecolors=\"r\",facecolor=\"b\")\n",
    "plt.xlabel(\"Latitude\")\n",
    "plt.ylabel(\"Humidity\")\n",
    "plt.title(\"Latitude Vs Humidity Analysis\")\n",
    "plt.savefig(\"Output_plots/LatvsHum.png\")\n",
    "print(\"Analysing the relationship between Latitude and Humidity:\")\n",
    "print(\"The scatterplot shows even spread of Humidity across different lattitudes\")"
   ]
  },
  {
   "cell_type": "markdown",
   "metadata": {},
   "source": [
    "## Latitude vs. Cloudiness Plot"
   ]
  },
  {
   "cell_type": "code",
   "execution_count": 13,
   "metadata": {},
   "outputs": [
    {
     "name": "stdout",
     "output_type": "stream",
     "text": [
      "Analysing the relationship between Latitude and Cloudiness\n",
      "\n",
      "Even distribution of Cloudiness across different latitudes\n"
     ]
    },
    {
     "data": {
      "image/png": "[encoded data removed]",
      "text/plain": [
       "<Figure size 432x288 with 1 Axes>"
      ]
     },
     "metadata": {
      "needs_background": "light"
     },
     "output_type": "display_data"
    }
   ],
   "source": [
    "plt.scatter(x=City_data_df[\"lat\"],y=City_data_df[\"Cloudiness\"],edgecolors=\"b\",facecolor=\"orange\")\n",
    "plt.xlabel(\"Latitude\")\n",
    "plt.ylabel(\"Cloudiness\")\n",
    "plt.title(\"Latitude Vs Cloudiness Analysis\")\n",
    "plt.savefig(\"Output_plots/LatvsCloud.png\")\n",
    "print(\"Analysing the relationship between Latitude and Cloudiness\\n\")\n",
    "print(\"Even distribution of Cloudiness across different latitudes\")"
   ]
  },
  {
   "cell_type": "markdown",
   "metadata": {},
   "source": [
    "## Latitude vs. Wind Speed Plot"
   ]
  },
  {
   "cell_type": "code",
   "execution_count": 14,
   "metadata": {},
   "outputs": [
    {
     "name": "stdout",
     "output_type": "stream",
     "text": [
      "Analysing the relationship between Latitude and Wind Speed\n",
      "\n",
      "Even distribution of Wind Speed across different latitudes but mostly the windspeed is below 10\n"
     ]
    },
    {
     "data": {
      "image/png": "[encoded data removed]",
      "text/plain": [
       "<Figure size 432x288 with 1 Axes>"
      ]
     },
     "metadata": {
      "needs_background": "light"
     },
     "output_type": "display_data"
    }
   ],
   "source": [
    "plt.scatter(x=City_data_df[\"lat\"],y=City_data_df[\"Wind_Speed\"],edgecolors=\"r\",facecolor=\"y\")\n",
    "plt.xlabel(\"Latitude\")\n",
    "plt.ylabel(\"Wind Speed\")\n",
    "plt.title(\"Latitude Vs Wind Speed Analysis\")\n",
    "plt.savefig(\"Output_plots/LatvsWS.png\")\n",
    "print(\"Analysing the relationship between Latitude and Wind Speed\\n\")\n",
    "print(\"Even distribution of Wind Speed across different latitudes but mostly the windspeed is below 10\")"
   ]
  },
  {
   "cell_type": "markdown",
   "metadata": {},
   "source": [
    "## Linear Regression"
   ]
  },
  {
   "cell_type": "code",
   "execution_count": null,
   "metadata": {},
   "outputs": [],
   "source": [
    "# OPTIONAL: Create a function to create Linear Regression plots\n",
    "\n"
   ]
  },
  {
   "cell_type": "code",
   "execution_count": 15,
   "metadata": {},
   "outputs": [
    {
     "data": {
      "text/html": [
       "<div>\n",
       "<style scoped>\n",
       "    .dataframe tbody tr th:only-of-type {\n",
       "        vertical-align: middle;\n",
       "    }\n",
       "\n",
       "    .dataframe tbody tr th {\n",
       "        vertical-align: top;\n",
       "    }\n",
       "\n",
       "    .dataframe thead th {\n",
       "        text-align: right;\n",
       "    }\n",
       "</style>\n",
       "<table border=\"1\" class=\"dataframe\">\n",
       "  <thead>\n",
       "    <tr style=\"text-align: right;\">\n",
       "      <th></th>\n",
       "      <th>ID</th>\n",
       "      <th>City Name</th>\n",
       "      <th>Country</th>\n",
       "      <th>Date</th>\n",
       "      <th>MaxTemp</th>\n",
       "      <th>Humidity</th>\n",
       "      <th>lat</th>\n",
       "      <th>lng</th>\n",
       "      <th>Cloudiness</th>\n",
       "      <th>Wind_Speed</th>\n",
       "      <th>Formatted Date</th>\n",
       "    </tr>\n",
       "  </thead>\n",
       "  <tbody>\n",
       "    <tr>\n",
       "      <th>0</th>\n",
       "      <td>5924351</td>\n",
       "      <td>Clyde River</td>\n",
       "      <td>CA</td>\n",
       "      <td>1595731143</td>\n",
       "      <td>39.20</td>\n",
       "      <td>93</td>\n",
       "      <td>70.47</td>\n",
       "      <td>-68.59</td>\n",
       "      <td>75</td>\n",
       "      <td>6.93</td>\n",
       "      <td>2020-07-25</td>\n",
       "    </tr>\n",
       "    <tr>\n",
       "      <th>2</th>\n",
       "      <td>2620871</td>\n",
       "      <td>Hals</td>\n",
       "      <td>DK</td>\n",
       "      <td>1595731146</td>\n",
       "      <td>61.00</td>\n",
       "      <td>94</td>\n",
       "      <td>57.00</td>\n",
       "      <td>10.31</td>\n",
       "      <td>100</td>\n",
       "      <td>3.00</td>\n",
       "      <td>2020-07-25</td>\n",
       "    </tr>\n",
       "    <tr>\n",
       "      <th>3</th>\n",
       "      <td>470905</td>\n",
       "      <td>Vuktyl</td>\n",
       "      <td>RU</td>\n",
       "      <td>1595731146</td>\n",
       "      <td>65.10</td>\n",
       "      <td>61</td>\n",
       "      <td>63.86</td>\n",
       "      <td>57.31</td>\n",
       "      <td>57</td>\n",
       "      <td>1.81</td>\n",
       "      <td>2020-07-25</td>\n",
       "    </tr>\n",
       "    <tr>\n",
       "      <th>5</th>\n",
       "      <td>2120591</td>\n",
       "      <td>Tilichiki</td>\n",
       "      <td>RU</td>\n",
       "      <td>1595731146</td>\n",
       "      <td>72.66</td>\n",
       "      <td>52</td>\n",
       "      <td>60.47</td>\n",
       "      <td>166.10</td>\n",
       "      <td>0</td>\n",
       "      <td>5.35</td>\n",
       "      <td>2020-07-25</td>\n",
       "    </tr>\n",
       "    <tr>\n",
       "      <th>6</th>\n",
       "      <td>5106841</td>\n",
       "      <td>Albany</td>\n",
       "      <td>US</td>\n",
       "      <td>1595731112</td>\n",
       "      <td>77.00</td>\n",
       "      <td>86</td>\n",
       "      <td>42.60</td>\n",
       "      <td>-73.97</td>\n",
       "      <td>2</td>\n",
       "      <td>4.38</td>\n",
       "      <td>2020-07-25</td>\n",
       "    </tr>\n",
       "  </tbody>\n",
       "</table>\n",
       "</div>"
      ],
      "text/plain": [
       "        ID    City Name Country        Date  MaxTemp  Humidity    lat     lng  \\\n",
       "0  5924351  Clyde River      CA  1595731143    39.20        93  70.47  -68.59   \n",
       "2  2620871         Hals      DK  1595731146    61.00        94  57.00   10.31   \n",
       "3   470905       Vuktyl      RU  1595731146    65.10        61  63.86   57.31   \n",
       "5  2120591    Tilichiki      RU  1595731146    72.66        52  60.47  166.10   \n",
       "6  5106841       Albany      US  1595731112    77.00        86  42.60  -73.97   \n",
       "\n",
       "   Cloudiness  Wind_Speed Formatted Date  \n",
       "0          75        6.93     2020-07-25  \n",
       "2         100        3.00     2020-07-25  \n",
       "3          57        1.81     2020-07-25  \n",
       "5           0        5.35     2020-07-25  \n",
       "6           2        4.38     2020-07-25  "
      ]
     },
     "execution_count": 15,
     "metadata": {},
     "output_type": "execute_result"
    }
   ],
   "source": [
    "# Create Northern and Southern Hemisphere DataFrames\n",
    "Northern_df=City_data_df.loc[City_data_df[\"lat\"]>=0]\n",
    "Southern_df=City_data_df.loc[City_data_df[\"lat\"]<0]\n",
    "Northern_df.head()\n"
   ]
  },
  {
   "cell_type": "markdown",
   "metadata": {},
   "source": [
    "####  Northern Hemisphere - Max Temp vs. Latitude Linear Regression"
   ]
  },
  {
   "cell_type": "code",
   "execution_count": 16,
   "metadata": {},
   "outputs": [
    {
     "name": "stdout",
     "output_type": "stream",
     "text": [
      "Northern Hemisphere:Regression between Latitude and Temperature\n",
      "\n",
      "As you go away from the equatortowards the North Pole the temperature is going down\n"
     ]
    },
    {
     "data": {
      "image/png": "[encoded data removed]",
      "text/plain": [
       "<Figure size 432x288 with 1 Axes>"
      ]
     },
     "metadata": {
      "needs_background": "light"
     },
     "output_type": "display_data"
    }
   ],
   "source": [
    "(slope,intercept,_,_,_)=linregress(x=Northern_df[\"lat\"],y=Northern_df[\"MaxTemp\"])\n",
    "latitude =Northern_df .iloc[:,6]\n",
    "Temperature=Northern_df.iloc[:,4]\n",
    "fit=slope * latitude +intercept\n",
    "plt.scatter(x=Northern_df[\"lat\"],y=Northern_df[\"MaxTemp\"],edgecolors=\"r\",facecolor=\"b\")\n",
    "plt.xlabel(\"Latitude\")\n",
    "plt.ylabel(\"Temperature\")\n",
    "plt.title(\"Latitude Vs Temperature Regression\")\n",
    "plt.plot(latitude,fit,\"--\")\n",
    "print(\"Northern Hemisphere:Regression between Latitude and Temperature\\n\")\n",
    "print(\"As you go away from the equatortowards the North Pole the temperature is going down\")\n",
    "\n"
   ]
  },
  {
   "cell_type": "markdown",
   "metadata": {},
   "source": [
    "####  Southern Hemisphere - Max Temp vs. Latitude Linear Regression"
   ]
  },
  {
   "cell_type": "code",
   "execution_count": 17,
   "metadata": {},
   "outputs": [
    {
     "name": "stdout",
     "output_type": "stream",
     "text": [
      "Southern Hemisphere:Regression between Latitude and Temp\n",
      " \n",
      "As you go away from the equatortowards the South Pole the temperature is going down\n"
     ]
    },
    {
     "data": {
      "image/png": "[encoded data removed]",
      "text/plain": [
       "<Figure size 432x288 with 1 Axes>"
      ]
     },
     "metadata": {
      "needs_background": "light"
     },
     "output_type": "display_data"
    }
   ],
   "source": [
    "(slope,intercept,_,_,_)=linregress(x=Southern_df[\"lat\"],y=Southern_df[\"MaxTemp\"])\n",
    "latitude =Southern_df .iloc[:,6]\n",
    "Temperature=Southern_df.iloc[:,4]\n",
    "fit=slope * latitude +intercept\n",
    "plt.scatter(x=Southern_df[\"lat\"],y=Southern_df[\"MaxTemp\"],edgecolors=\"r\",facecolor=\"b\")\n",
    "plt.xlabel(\"Latitude\")\n",
    "plt.ylabel(\"Temperature\")\n",
    "plt.title(\"Latitude Vs Temperature  Regression\")\n",
    "plt.plot(latitude,fit,\"--\")\n",
    "print(\"Southern Hemisphere:Regression between Latitude and Temp\\n \")\n",
    "print(\"As you go away from the equatortowards the South Pole the temperature is going down\")\n"
   ]
  },
  {
   "cell_type": "markdown",
   "metadata": {},
   "source": [
    "####  Northern Hemisphere - Humidity (%) vs. Latitude Linear Regression"
   ]
  },
  {
   "cell_type": "code",
   "execution_count": 18,
   "metadata": {},
   "outputs": [
    {
     "name": "stdout",
     "output_type": "stream",
     "text": [
      "Northern Hemispher:Regression between Latitude and Humidity\n",
      " \n",
      "Minimal relationship between Latitude and Humidity\n"
     ]
    },
    {
     "data": {
      "image/png": "[encoded data removed]",
      "text/plain": [
       "<Figure size 432x288 with 1 Axes>"
      ]
     },
     "metadata": {
      "needs_background": "light"
     },
     "output_type": "display_data"
    }
   ],
   "source": [
    "(slope,intercept,_,_,_)=linregress(x=Northern_df[\"lat\"],y=Northern_df[\"Humidity\"])\n",
    "latitude =Northern_df .iloc[:,6]\n",
    "Humidity=Northern_df.iloc[:,5]\n",
    "fit=slope * latitude +intercept\n",
    "plt.scatter(x=Northern_df[\"lat\"],y=Northern_df[\"Humidity\"],edgecolors=\"r\",facecolor=\"b\")\n",
    "plt.xlabel(\"Latitude\")\n",
    "plt.ylabel(\"humidity\")\n",
    "plt.title(\"Latitude Vs Humidity Regression\")\n",
    "plt.plot(latitude,fit,\"--\")\n",
    "print(\"Northern Hemispher:Regression between Latitude and Humidity\\n \")\n",
    "print(\"Minimal relationship between Latitude and Humidity\")\n"
   ]
  },
  {
   "cell_type": "markdown",
   "metadata": {},
   "source": [
    "####  Southern Hemisphere - Humidity (%) vs. Latitude Linear Regression"
   ]
  },
  {
   "cell_type": "code",
   "execution_count": 19,
   "metadata": {},
   "outputs": [
    {
     "name": "stdout",
     "output_type": "stream",
     "text": [
      "Southern Hemispher:Regression between Latitude and Humidity\n",
      " \n",
      "Minimal relationship between Latitude and Humidity\n"
     ]
    },
    {
     "data": {
      "image/png": "[encoded data removed]",
      "text/plain": [
       "<Figure size 432x288 with 1 Axes>"
      ]
     },
     "metadata": {
      "needs_background": "light"
     },
     "output_type": "display_data"
    }
   ],
   "source": [
    "(slope,intercept,_,_,_)=linregress(x=Southern_df[\"lat\"],y=Southern_df[\"Humidity\"])\n",
    "latitude =Southern_df .iloc[:,6]\n",
    "Humidity=Southern_df.iloc[:,5]\n",
    "fit=slope * latitude +intercept\n",
    "plt.scatter(x=Southern_df[\"lat\"],y=Southern_df[\"Humidity\"],edgecolors=\"r\",facecolor=\"b\")\n",
    "plt.xlabel(\"Latitude\")\n",
    "plt.ylabel(\"Humidity\")\n",
    "plt.title(\"Latitude Vs Humidity Regression\")\n",
    "plt.plot(latitude,fit,\"--\")\n",
    "print(\"Southern Hemispher:Regression between Latitude and Humidity\\n \")\n",
    "print(\"Minimal relationship between Latitude and Humidity\")\n"
   ]
  },
  {
   "cell_type": "markdown",
   "metadata": {},
   "source": [
    "####  Northern Hemisphere - Cloudiness (%) vs. Latitude Linear Regression"
   ]
  },
  {
   "cell_type": "code",
   "execution_count": 20,
   "metadata": {},
   "outputs": [
    {
     "name": "stdout",
     "output_type": "stream",
     "text": [
      "Regression between Latitude and Cloudiness\n",
      " \n",
      "Minimal relationship between Latitude and Cloudiness\n",
      "\n"
     ]
    },
    {
     "data": {
      "image/png": "[encoded data removed]",
      "text/plain": [
       "<Figure size 432x288 with 1 Axes>"
      ]
     },
     "metadata": {
      "needs_background": "light"
     },
     "output_type": "display_data"
    }
   ],
   "source": [
    "(slope,intercept,_,_,_)=linregress(x=Northern_df[\"lat\"],y=Northern_df[\"Cloudiness\"])\n",
    "latitude =Northern_df .iloc[:,6]\n",
    "Temperature=Northern_df.iloc[:,8]\n",
    "fit=slope * latitude +intercept\n",
    "plt.scatter(x=Northern_df[\"lat\"],y=Northern_df[\"Cloudiness\"],edgecolors=\"r\",facecolor=\"b\")\n",
    "plt.xlabel(\"Latitude\")\n",
    "plt.ylabel(\"\")\n",
    "plt.title(\"Latitude Vs Humidity Regression\")\n",
    "plt.plot(latitude,fit,\"--\")\n",
    "print(\"Regression between Latitude and Cloudiness\\n \")\n",
    "print(\"Minimal relationship between Latitude and Cloudiness\\n\")\n"
   ]
  },
  {
   "cell_type": "markdown",
   "metadata": {},
   "source": [
    "####  Southern Hemisphere - Cloudiness (%) vs. Latitude Linear Regression"
   ]
  },
  {
   "cell_type": "code",
   "execution_count": 21,
   "metadata": {},
   "outputs": [
    {
     "name": "stdout",
     "output_type": "stream",
     "text": [
      "Southern Hemispher :Regression between Latitude and Cloudiness\n",
      " \n",
      "Minimal relationship between Latitude and Cloudiness\n"
     ]
    },
    {
     "data": {
      "image/png": "[encoded data removed]",
      "text/plain": [
       "<Figure size 432x288 with 1 Axes>"
      ]
     },
     "metadata": {
      "needs_background": "light"
     },
     "output_type": "display_data"
    }
   ],
   "source": [
    "(slope,intercept,_,_,_)=linregress(x=Southern_df[\"lat\"],y=Southern_df[\"Cloudiness\"])\n",
    "latitude =Southern_df .iloc[:,6]\n",
    "Clousiness=Southern_df.iloc[:,8]\n",
    "fit=slope * latitude +intercept\n",
    "plt.scatter(x=Southern_df[\"lat\"],y=Southern_df[\"Cloudiness\"],edgecolors=\"r\",facecolor=\"b\")\n",
    "plt.xlabel(\"Latitude\")\n",
    "plt.ylabel(\"Cloudiness\")\n",
    "plt.title(\"Latitude Vs Cloudiness  Regression\")\n",
    "plt.plot(latitude,fit,\"--\")\n",
    "print(\"Southern Hemispher :Regression between Latitude and Cloudiness\\n \")\n",
    "print(\"Minimal relationship between Latitude and Cloudiness\")\n"
   ]
  },
  {
   "cell_type": "markdown",
   "metadata": {},
   "source": [
    "####  Northern Hemisphere - Wind Speed (mph) vs. Latitude Linear Regression"
   ]
  },
  {
   "cell_type": "code",
   "execution_count": 22,
   "metadata": {},
   "outputs": [
    {
     "name": "stdout",
     "output_type": "stream",
     "text": [
      "Northern Hemisphere:Regression between Latitude and Wind Speed\n",
      "\n",
      "Minimal relationship between Latitude and Wind Speed \n"
     ]
    },
    {
     "data": {
      "image/png": "[encoded data removed]",
      "text/plain": [
       "<Figure size 432x288 with 1 Axes>"
      ]
     },
     "metadata": {
      "needs_background": "light"
     },
     "output_type": "display_data"
    }
   ],
   "source": [
    "####  Northern Hemisphere - Wind Speed (mph) vs. Latitude Linear Regression\n",
    "\n",
    "(slope,intercept,_,_,_)=linregress(x=Northern_df[\"lat\"],y=Northern_df[\"Wind_Speed\"])\n",
    "latitude =Northern_df .iloc[:,6]\n",
    "WindSpeed=Northern_df.iloc[:,9]\n",
    "fit=slope * latitude +intercept\n",
    "plt.scatter(x=Northern_df[\"lat\"],y=Northern_df[\"Wind_Speed\"],edgecolors=\"r\",facecolor=\"b\")\n",
    "plt.xlabel(\"Latitude\")\n",
    "plt.ylabel(\"Wind Speed\")\n",
    "plt.title(\"Latitude Vs Wind Speed Regression\")\n",
    "plt.plot(latitude,fit,\"--\")\n",
    "print(\"Northern Hemisphere:Regression between Latitude and Wind Speed\\n\")\n",
    "print(\"Minimal relationship between Latitude and Wind Speed \")\n"
   ]
  },
  {
   "cell_type": "markdown",
   "metadata": {},
   "source": [
    "####  Southern Hemisphere - Wind Speed (mph) vs. Latitude Linear Regression"
   ]
  },
  {
   "cell_type": "code",
   "execution_count": 23,
   "metadata": {},
   "outputs": [
    {
     "name": "stdout",
     "output_type": "stream",
     "text": [
      "Southern Hemisphere:Regression between Latitude and Wind Speed\n",
      " \n",
      "Minimal relationship between Latitude and Wind Speed\n"
     ]
    },
    {
     "data": {
      "image/png": "[encoded data removed]",
      "text/plain": [
       "<Figure size 432x288 with 1 Axes>"
      ]
     },
     "metadata": {
      "needs_background": "light"
     },
     "output_type": "display_data"
    }
   ],
   "source": [
    "(slope,intercept,_,_,_)=linregress(x=Southern_df[\"lat\"],y=Southern_df[\"Wind_Speed\"])\n",
    "latitude =Southern_df .iloc[:,6]\n",
    "WindSpeed=Southern_df.iloc[:,9]\n",
    "fit=slope * latitude +intercept\n",
    "plt.scatter(x=Southern_df[\"lat\"],y=Southern_df[\"Wind_Speed\"],edgecolors=\"r\",facecolor=\"b\")\n",
    "plt.xlabel(\"Latitude\")\n",
    "plt.ylabel(\"Wind_Speed\")\n",
    "plt.title(\"Latitude Vs Wind_Speed  Regression\")\n",
    "plt.plot(latitude,fit,\"--\")\n",
    "print(\"Southern Hemisphere:Regression between Latitude and Wind Speed\\n \")\n",
    "print(\"Minimal relationship between Latitude and Wind Speed\")\n"
   ]
  },
  {
   "cell_type": "code",
   "execution_count": null,
   "metadata": {},
   "outputs": [],
   "source": []
  }
 ],
 "metadata": {
  "anaconda-cloud": {},
  "kernel_info": {
   "name": "python3"
  },
  "kernelspec": {
   "display_name": "Python 3",
   "language": "python",
   "name": "python3"
  },
  "language_info": {
   "codemirror_mode": {
    "name": "ipython",
    "version": 3
   },
   "file_extension": ".py",
   "mimetype": "text/x-python",
   "name": "python",
   "nbconvert_exporter": "python",
   "pygments_lexer": "ipython3",
   "version": "3.7.6"
  },
  "latex_envs": {
   "LaTeX_envs_menu_present": true,
   "autoclose": false,
   "autocomplete": true,
   "bibliofile": "biblio.bib",
   "cite_by": "apalike",
   "current_citInitial": 1,
   "eqLabelWithNumbers": true,
   "eqNumInitial": 1,
   "hotkeys": {
    "equation": "Ctrl-E",
    "itemize": "Ctrl-I"
   },
   "labels_anchors": false,
   "latex_user_defs": false,
   "report_style_numbering": false,
   "user_envs_cfg": false
  },
  "nteract": {
   "version": "0.12.3"
  }
 },
 "nbformat": 4,
 "nbformat_minor": 4
}
