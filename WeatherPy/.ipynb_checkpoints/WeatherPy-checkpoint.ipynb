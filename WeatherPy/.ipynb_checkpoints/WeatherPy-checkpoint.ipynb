{
 "cells": [
  {
   "cell_type": "markdown",
   "metadata": {},
   "source": [
    "# WeatherPy\n",
    "----\n",
    "\n",
    "#### Note\n",
    "* Instructions have been included for each segment. You do not have to follow them exactly, but they are included to help you think through the steps."
   ]
  },
  {
   "cell_type": "code",
   "execution_count": 1,
   "metadata": {
    "scrolled": true
   },
   "outputs": [],
   "source": [
    "# Dependencies and Setup\n",
    "import matplotlib.pyplot as plt\n",
    "import pandas as pd\n",
    "import numpy as np\n",
    "import requests\n",
    "import time\n",
    "from scipy.stats import linregress\n",
    "import json\n",
    "import csv\n",
    "import datetime\n",
    "\n",
    "# Import API key\n",
    "from api_keys import weather_api_key"
   ]
  },
  {
   "cell_type": "code",
   "execution_count": 2,
   "metadata": {
    "scrolled": true
   },
   "outputs": [],
   "source": [
    "#pip install citipy\n"
   ]
  },
  {
   "cell_type": "code",
   "execution_count": 3,
   "metadata": {
    "scrolled": true
   },
   "outputs": [],
   "source": [
    "# Incorporated citipy to determine city based on latitude and longitude\n",
    "from citipy import citipy\n",
    "\n",
    "# Output File (CSV)\n",
    "output_data_file = \"output_data/cities.csv\"\n",
    "\n",
    "# Range of latitudes and longitudes\n",
    "lat_range = (-90, 90)\n",
    "lng_range = (-180, 180)"
   ]
  },
  {
   "cell_type": "markdown",
   "metadata": {},
   "source": [
    "## Generate Cities List"
   ]
  },
  {
   "cell_type": "code",
   "execution_count": 4,
   "metadata": {},
   "outputs": [
    {
     "data": {
      "text/plain": [
       "600"
      ]
     },
     "execution_count": 4,
     "metadata": {},
     "output_type": "execute_result"
    }
   ],
   "source": [
    "# List for holding lat_lngs and cities\n",
    "lat_lngs = []\n",
    "cities = []\n",
    "\n",
    "\n",
    "# Create a set of random lat and lng combinations\n",
    "lats = np.random.uniform(lat_range[0], lat_range[1], size=1500)\n",
    "lngs = np.random.uniform(lng_range[0], lng_range[1], size=1500)\n",
    "lat_lngs = zip(lats, lngs)\n",
    "\n",
    "# Identify nearest city for each lat, lng combination\n",
    "for lat_lng in lat_lngs:\n",
    "    city = citipy.nearest_city(lat_lng[0], lat_lng[1]).city_name\n",
    "    \n",
    "    # If the city is unique, then add it to a our cities list\n",
    "    if city not in cities:\n",
    "        cities.append(city)\n",
    "        \n",
    "# Print the city count to confirm sufficient count\n",
    "len(cities)"
   ]
  },
  {
   "cell_type": "code",
   "execution_count": 5,
   "metadata": {},
   "outputs": [],
   "source": [
    "# Cities_df=pd.DataFrame({\"City Name\":cities})\n",
    "\n",
    "# Cities_df[\"Id\"]=\"\"\n",
    "# Cities_df[\"Country\"]=\"\"\n",
    "# Cities_df[\"Temp\"]=\"\"\n",
    "# Cities_df[\"Humidity\"]=\"\"\n",
    "# Cities_df.head()\n",
    "\n",
    "\n"
   ]
  },
  {
   "cell_type": "markdown",
   "metadata": {},
   "source": [
    "### Perform API Calls\n",
    "* Perform a weather check on each city using a series of successive API calls.\n",
    "* Include a print log of each city as it'sbeing processed (with the city number and city name).\n"
   ]
  },
  {
   "cell_type": "code",
   "execution_count": 6,
   "metadata": {},
   "outputs": [],
   "source": [
    "# for index,row in Cities_df.iterrows():\n",
    "#     url = \"http://api.openweathermap.org/data/2.5/weather?\"\n",
    "# # Build query URL\n",
    "#     query_url = url + \"appid=\" + weather_api_key + \"&q=\" + row[\"City Name\"]\n",
    "#     print(query_url)\n",
    "#     CityName=row[\"City Name\"]\n",
    "#     weather_response = requests.get(query_url)\n",
    "#     weather_json = weather_response.json()\n",
    "#     weather_json=json.dumps(weather_json,indent=4)\n",
    "#     print(weather_json)\n",
    "    \n",
    "#     try:\n",
    "        \n",
    "#         Cities_df.loc[index,\"Id\"]=weather_json[\"id\"]\n",
    "#         Cities_df.loc[index,\"Country\"]=weather_json[\"sys\"][\"country\"] \n",
    "#         Cities_df.loc[index,\"Temp\"]=weather_json[\"main\"][\"temp\"]\n",
    "#         Cities_df.loc[index,\"Humidity\"]=weather_json[\"main\"][\"humidity\"]\n",
    "#         print(\"City Number:{},City Name:{} \".format(weather_json[\"id\"],CityName))\n",
    "              \n",
    "#     except (KeyError,IndexError):\n",
    "#          print(\"Info Not available...skipping\")\n",
    "\n",
    "     \n",
    "        "
   ]
  },
  {
   "cell_type": "code",
   "execution_count": 7,
   "metadata": {},
   "outputs": [
    {
     "name": "stdout",
     "output_type": "stream",
     "text": [
      "City Number:2019718,City Name:mukhen \n",
      "City Number:1015776,City Name:bredasdorp \n",
      "City Number:2126123,City Name:chokurdakh \n",
      "City Number:1817240,City Name:baiyin \n",
      "City Number:5866583,City Name:kodiak \n",
      "City Number:616944,City Name:aragats \n",
      "City Number:3663529,City Name:manacapuru \n",
      "City Number:2228373,City Name:maroua \n",
      "City Number:2236568,City Name:uige \n",
      "City Number:935215,City Name:saint-philippe \n",
      "City Number:2264557,City Name:ponta do sol \n",
      "Info Not available...skipping\n",
      "City Number:5919850,City Name:chapais \n",
      "City Number:3883457,City Name:lebu \n",
      "City Number:5855927,City Name:hilo \n",
      "City Number:6165406,City Name:thompson \n",
      "City Number:5905393,City Name:bonavista \n",
      "City Number:3466165,City Name:cidreira \n",
      "City Number:3372707,City Name:ribeira grande \n",
      "City Number:3874787,City Name:punta arenas \n",
      "City Number:5563839,City Name:fortuna \n",
      "City Number:6185377,City Name:yellowknife \n",
      "City Number:2074865,City Name:carnarvon \n",
      "City Number:2392087,City Name:porto novo \n",
      "City Number:1498493,City Name:molchanovo \n",
      "City Number:3418910,City Name:upernavik \n",
      "City Number:578283,City Name:yablonovo \n",
      "City Number:1853174,City Name:sakaiminato \n",
      "City Number:2400547,City Name:gamba \n",
      "City Number:546105,City Name:nikolskoye \n",
      "City Number:1785036,City Name:zhangye \n",
      "City Number:3466704,City Name:castro \n",
      "City Number:2017155,City Name:saskylakh \n",
      "City Number:5106841,City Name:albany \n",
      "City Number:3652764,City Name:puerto ayora \n",
      "City Number:1489661,City Name:tevriz \n",
      "City Number:8079926,City Name:labuhan \n",
      "City Number:3369157,City Name:cape town \n",
      "Info Not available...skipping\n",
      "City Number:4030556,City Name:rikitea \n",
      "City Number:2110227,City Name:butaritari \n",
      "City Number:2157698,City Name:mildura \n",
      "City Number:1268214,City Name:kampli \n",
      "City Number:2094342,City Name:kavieng \n",
      "City Number:2278158,City Name:buchanan \n",
      "Info Not available...skipping\n",
      "City Number:3652758,City Name:puerto baquerizo moreno \n",
      "City Number:3424901,City Name:aasiaat \n",
      "City Number:3831208,City Name:qaanaaq \n",
      "City Number:3833367,City Name:ushuaia \n",
      "City Number:3374333,City Name:praia \n",
      "City Number:4722062,City Name:redwater \n",
      "City Number:3932145,City Name:pisco \n",
      "City Number:5364271,City Name:laguna \n",
      "City Number:2027044,City Name:batagay \n",
      "City Number:4032243,City Name:vaini \n",
      "City Number:2027316,City Name:ayan \n",
      "City Number:3443061,City Name:chuy \n",
      "City Number:3372760,City Name:praia da vitoria \n",
      "City Number:2022572,City Name:khatanga \n",
      "Info Not available...skipping\n",
      "City Number:2185329,City Name:otane \n",
      "City Number:667303,City Name:sfantu gheorghe \n",
      "Info Not available...skipping\n",
      "City Number:2852458,City Name:potsdam \n",
      "Info Not available...skipping\n",
      "City Number:6201424,City Name:mataura \n",
      "City Number:390054,City Name:baft \n",
      "City Number:1630639,City Name:pringsewu \n",
      "City Number:1268246,City Name:cumbum \n",
      "City Number:2129218,City Name:yoichi \n",
      "City Number:1490256,City Name:talnakh \n",
      "City Number:2063036,City Name:port lincoln \n",
      "City Number:1244926,City Name:hambantota \n",
      "City Number:5880054,City Name:barrow \n",
      "City Number:3366880,City Name:hermanus \n",
      "City Number:3351014,City Name:camacupa \n",
      "City Number:3653523,City Name:palora \n",
      "Info Not available...skipping\n",
      "City Number:1489656,City Name:teya \n",
      "City Number:5122534,City Name:jamestown \n",
      "City Number:2075265,City Name:busselton \n",
      "City Number:2163355,City Name:hobart \n",
      "City Number:286621,City Name:salalah \n",
      "City Number:2144604,City Name:warragul \n",
      "City Number:1649150,City Name:bengkulu \n",
      "City Number:2017979,City Name:petropavlovka \n",
      "City Number:2270385,City Name:camacha \n",
      "City Number:964432,City Name:port alfred \n",
      "City Number:1507390,City Name:dikson \n",
      "City Number:520318,City Name:nizhnyaya maktama \n",
      "City Number:3424607,City Name:tasiilaq \n",
      "City Number:1920772,City Name:zhoucheng \n",
      "City Number:5546220,City Name:saint george \n",
      "Info Not available...skipping\n",
      "City Number:5924351,City Name:clyde river \n",
      "City Number:2317982,City Name:yuli \n",
      "City Number:371466,City Name:ler \n",
      "City Number:3448903,City Name:sao joao da barra \n",
      "Info Not available...skipping\n",
      "City Number:3899695,City Name:ancud \n",
      "City Number:2206939,City Name:bluff \n",
      "City Number:3893726,City Name:constitucion \n",
      "Info Not available...skipping\n",
      "Info Not available...skipping\n",
      "City Number:4020109,City Name:atuona \n",
      "City Number:1257277,City Name:sarahan \n",
      "City Number:2015306,City Name:tiksi \n",
      "City Number:2155415,City Name:new norfolk \n",
      "Info Not available...skipping\n",
      "City Number:2208248,City Name:kaitangata \n",
      "City Number:527321,City Name:mezen \n",
      "City Number:3628473,City Name:san cristobal \n",
      "City Number:1083724,City Name:ambanja \n",
      "Info Not available...skipping\n",
      "City Number:3146487,City Name:raudeberg \n",
      "City Number:1337607,City Name:kudahuvadhoo \n",
      "City Number:1174062,City Name:kharan \n",
      "City Number:1498161,City Name:muzhi \n",
      "City Number:2180815,City Name:tuatapere \n",
      "City Number:1651810,City Name:airai \n",
      "City Number:2320576,City Name:umuahia \n",
      "City Number:2122090,City Name:pevek \n",
      "City Number:967106,City Name:oudtshoorn \n",
      "City Number:2181625,City Name:te anau \n",
      "City Number:3938415,City Name:ilo \n",
      "Info Not available...skipping\n",
      "City Number:3441665,City Name:minas \n",
      "City Number:2077454,City Name:australind \n",
      "City Number:1735106,City Name:georgetown \n",
      "City Number:3461370,City Name:imbituba \n",
      "Info Not available...skipping\n",
      "City Number:1282635,City Name:tulsipur \n",
      "City Number:2101169,City Name:aitape \n",
      "City Number:3093902,City Name:lask \n",
      "City Number:1106677,City Name:bambous virieux \n",
      "City Number:110690,City Name:faya \n",
      "City Number:3430863,City Name:mar del plata \n",
      "City Number:2318123,City Name:yenagoa \n",
      "City Number:1487332,City Name:verkhnyaya inta \n",
      "City Number:4034551,City Name:faanui \n",
      "Info Not available...skipping\n",
      "City Number:3395440,City Name:marapanim \n",
      "City Number:4033077,City Name:vaitape \n",
      "City Number:2794216,City Name:knokke-heist \n",
      "City Number:3670218,City Name:san andres \n",
      "City Number:3662252,City Name:sao paulo de olivenca \n",
      "City Number:2070998,City Name:geraldton \n",
      "City Number:5848280,City Name:kapaa \n",
      "City Number:3355672,City Name:luderitz \n",
      "City Number:3430443,City Name:necochea \n",
      "City Number:1516048,City Name:hovd \n",
      "City Number:2179103,City Name:whitianga \n",
      "City Number:1214488,City Name:meulaboh \n",
      "City Number:2514651,City Name:los llanos de aridane \n",
      "City Number:964420,City Name:port elizabeth \n",
      "City Number:3361934,City Name:saldanha \n",
      "City Number:2092164,City Name:lorengau \n",
      "Info Not available...skipping\n",
      "City Number:117656,City Name:salmas \n",
      "City Number:2647984,City Name:great yarmouth \n",
      "City Number:2063039,City Name:port keats \n",
      "City Number:1710519,City Name:isabela \n",
      "City Number:934322,City Name:mahebourg \n",
      "City Number:3356332,City Name:karibib \n",
      "City Number:556268,City Name:ostrovnoy \n",
      "City Number:1254046,City Name:tura \n",
      "City Number:6170031,City Name:tuktoyaktuk \n",
      "City Number:2015913,City Name:suntar \n",
      "City Number:3984997,City Name:san quintin \n",
      "City Number:2152659,City Name:port macquarie \n",
      "City Number:3003796,City Name:le havre \n",
      "City Number:4004293,City Name:ixtapa \n",
      "City Number:1269811,City Name:idukki \n",
      "Info Not available...skipping\n",
      "City Number:1791779,City Name:wanning \n",
      "City Number:3454061,City Name:peruibe \n",
      "City Number:634093,City Name:tornio \n",
      "City Number:88533,City Name:awjilah \n",
      "City Number:2687636,City Name:nynashamn \n",
      "City Number:3667070,City Name:timbiqui \n",
      "City Number:230893,City Name:kitgum \n",
      "City Number:5745380,City Name:pendleton \n",
      "City Number:2112802,City Name:hasaki \n",
      "City Number:237379,City Name:ndele \n",
      "City Number:3893629,City Name:coquimbo \n",
      "City Number:3933867,City Name:oyon \n",
      "City Number:338998,City Name:dilla \n",
      "City Number:1813016,City Name:dengfeng \n",
      "City Number:189280,City Name:lodwar \n",
      "City Number:1529102,City Name:urumqi \n",
      "City Number:1538641,City Name:kedrovyy \n",
      "Info Not available...skipping\n",
      "City Number:3421719,City Name:narsaq \n",
      "City Number:1992517,City Name:baoning \n",
      "City Number:4147241,City Name:belle glade \n",
      "City Number:567589,City Name:chupa \n",
      "City Number:1525988,City Name:ayagoz \n",
      "City Number:4231997,City Name:avera \n",
      "City Number:2013279,City Name:vostok \n",
      "City Number:287832,City Name:ibra \n",
      "City Number:1805518,City Name:jining \n",
      "City Number:1282256,City Name:hithadhoo \n",
      "City Number:172515,City Name:abu samrah \n",
      "City Number:1258786,City Name:rajura \n",
      "City Number:2065594,City Name:mount isa \n",
      "City Number:3557758,City Name:guane \n",
      "City Number:3992154,City Name:potam \n",
      "City Number:3520994,City Name:puerto escondido \n",
      "Info Not available...skipping\n",
      "City Number:1847947,City Name:shingu \n",
      "City Number:371745,City Name:kutum \n",
      "Info Not available...skipping\n",
      "City Number:523392,City Name:naryan-mar \n",
      "City Number:1065158,City Name:farafangana \n",
      "City Number:1166933,City Name:renala khurd \n",
      "City Number:2541479,City Name:nador \n",
      "City Number:2518820,City Name:don benito \n",
      "City Number:1850523,City Name:tateyama \n",
      "City Number:5861897,City Name:fairbanks \n",
      "City Number:6111862,City Name:port hardy \n",
      "City Number:3445026,City Name:vila velha \n",
      "City Number:2038198,City Name:chaihe \n",
      "City Number:2447416,City Name:ayorou \n",
      "City Number:2194098,City Name:ahipara \n",
      "City Number:2161376,City Name:kingaroy \n",
      "City Number:2121385,City Name:severo-kurilsk \n",
      "City Number:1506254,City Name:gornyy \n",
      "City Number:582816,City Name:alekseyevskaya \n",
      "City Number:2071860,City Name:esperance \n",
      "City Number:3894426,City Name:coihaique \n",
      "City Number:1489822,City Name:teguldet \n",
      "City Number:2121373,City Name:seymchan \n",
      "Info Not available...skipping\n",
      "City Number:1496503,City Name:noyabrsk \n",
      "City Number:2125693,City Name:evensk \n",
      "City Number:2381972,City Name:adrar \n",
      "Info Not available...skipping\n",
      "City Number:5391615,City Name:san anselmo \n",
      "City Number:964406,City Name:port shepstone \n",
      "City Number:1734313,City Name:paka \n",
      "City Number:3471451,City Name:arraial do cabo \n",
      "City Number:1501000,City Name:kyshtovka \n",
      "City Number:1652203,City Name:xam nua \n",
      "City Number:3694112,City Name:paita \n",
      "City Number:1529376,City Name:korla \n",
      "City Number:1006984,City Name:east london \n",
      "City Number:3579925,City Name:saint-georges \n",
      "City Number:3698359,City Name:chicama \n",
      "City Number:5870133,City Name:nome \n",
      "City Number:3144987,City Name:beisfjord \n",
      "City Number:2145214,City Name:victoria point \n",
      "Info Not available...skipping\n",
      "City Number:2524815,City Name:erice \n",
      "City Number:6137462,City Name:saint-augustin \n",
      "City Number:4336153,City Name:opelousas \n",
      "City Number:6111867,City Name:port hawkesbury \n",
      "City Number:3522788,City Name:nautla \n",
      "City Number:2108857,City Name:gizo \n",
      "City Number:5463237,City Name:corrales \n",
      "City Number:1586350,City Name:cam ranh \n",
      "City Number:4921868,City Name:indiana \n",
      "City Number:5024719,City Name:duluth \n",
      "City Number:2137773,City Name:vao \n",
      "City Number:2160735,City Name:lakes entrance \n",
      "City Number:1810821,City Name:fuzhou \n",
      "City Number:1654379,City Name:pakxe \n",
      "City Number:1216475,City Name:muborak \n",
      "City Number:6255012,City Name:flinders \n",
      "City Number:2136825,City Name:isangel \n",
      "City Number:3571913,City Name:marsh harbour \n",
      "City Number:2614328,City Name:sakskobing \n",
      "City Number:6089245,City Name:norman wells \n",
      "City Number:2381334,City Name:atar \n",
      "City Number:2019388,City Name:nekrasovka \n",
      "Info Not available...skipping\n",
      "City Number:4021858,City Name:guerrero negro \n",
      "City Number:2291779,City Name:beoumi \n",
      "City Number:1684606,City Name:taganak \n",
      "City Number:1814435,City Name:dafeng \n",
      "City Number:5887798,City Name:assiniboia \n",
      "City Number:2171099,City Name:codrington \n",
      "City Number:1636426,City Name:manggar \n",
      "City Number:2643044,City Name:margate \n",
      "City Number:3421765,City Name:nanortalik \n",
      "City Number:2635412,City Name:truro \n",
      "City Number:4031637,City Name:lavrentiya \n",
      "Info Not available...skipping\n",
      "City Number:912764,City Name:kasama \n",
      "City Number:118704,City Name:ravar \n",
      "City Number:1712609,City Name:guba \n",
      "City Number:1309937,City Name:maymyo \n",
      "City Number:1337606,City Name:eydhafushi \n",
      "City Number:5380437,City Name:pacific grove \n",
      "City Number:2450173,City Name:taoudenni \n",
      "City Number:2023333,City Name:kachug \n",
      "City Number:1264976,City Name:leh \n",
      "City Number:597188,City Name:mazeikiai \n",
      "City Number:2758588,City Name:borsele \n",
      "City Number:638936,City Name:rovaniemi \n",
      "City Number:777019,City Name:vardo \n",
      "Info Not available...skipping\n",
      "City Number:2126785,City Name:belaya gora \n",
      "City Number:64814,City Name:bandarbeyla \n",
      "City Number:3985710,City Name:cabo san lucas \n",
      "City Number:7671223,City Name:kloulklubed \n",
      "City Number:2084442,City Name:vanimo \n",
      "City Number:2167426,City Name:emerald \n",
      "City Number:6690296,City Name:saint-joseph \n",
      "City Number:3468025,City Name:camamu \n",
      "City Number:5746545,City Name:portland \n",
      "City Number:1510689,City Name:baykit \n",
      "City Number:4035715,City Name:avarua \n",
      "City Number:3948613,City Name:acari \n",
      "City Number:1855540,City Name:naze \n",
      "City Number:906221,City Name:mkushi \n",
      "City Number:2618795,City Name:klaksvik \n",
      "City Number:2332515,City Name:lafia \n",
      "City Number:1498314,City Name:motygino \n",
      "City Number:1722028,City Name:cabadiangan \n",
      "City Number:2121025,City Name:srednekolymsk \n",
      "City Number:3386213,City Name:touros \n",
      "City Number:1728675,City Name:balabac \n",
      "Info Not available...skipping\n",
      "City Number:5882953,City Name:aklavik \n",
      "City Number:2109701,City Name:auki \n",
      "City Number:4031742,City Name:egvekinot \n",
      "City Number:1648082,City Name:boyolangu \n",
      "City Number:3456248,City Name:nortelandia \n",
      "City Number:1524243,City Name:georgiyevka \n",
      "City Number:5886182,City Name:antigonish \n",
      "City Number:1714733,City Name:dingle \n",
      "City Number:2142316,City Name:yeppoon \n",
      "City Number:702931,City Name:lityn \n",
      "City Number:2173323,City Name:bundaberg \n",
      "City Number:160677,City Name:chake chake \n",
      "City Number:1625929,City Name:sungaipenuh \n",
      "City Number:474470,City Name:verkhnyaya toyma \n",
      "City Number:234081,City Name:bushenyi \n",
      "City Number:640276,City Name:raahe \n",
      "City Number:2018735,City Name:nyurba \n",
      "City Number:986717,City Name:kruisfontein \n",
      "City Number:5475352,City Name:las cruces \n",
      "Info Not available...skipping\n",
      "City Number:2178753,City Name:kirakira \n",
      "City Number:924732,City Name:nkhata bay \n",
      "City Number:5557293,City Name:sitka \n",
      "City Number:2657030,City Name:arnold \n",
      "City Number:4033557,City Name:tautira \n",
      "City Number:6050066,City Name:la ronge \n",
      "City Number:1684077,City Name:talalora \n",
      "City Number:3423146,City Name:ilulissat \n",
      "Info Not available...skipping\n",
      "City Number:1280037,City Name:shache \n",
      "City Number:1526041,City Name:atasu \n",
      "City Number:2638419,City Name:scarborough \n",
      "City Number:4699066,City Name:houston \n",
      "Info Not available...skipping\n",
      "City Number:2063042,City Name:port hedland \n",
      "City Number:4015683,City Name:canatlan \n",
      "City Number:3440777,City Name:rocha \n",
      "City Number:5847411,City Name:kahului \n",
      "City Number:2652381,City Name:corby \n",
      "City Number:1863997,City Name:fukue \n",
      "City Number:2513324,City Name:navalmoral de la mata \n",
      "City Number:5789683,City Name:centralia \n",
      "City Number:1254709,City Name:tezu \n",
      "City Number:2511930,City Name:requena \n",
      "City Number:1485020,City Name:znamenskoye \n",
      "City Number:2031964,City Name:darhan \n",
      "City Number:3974771,City Name:praxedis guerrero \n",
      "City Number:1651531,City Name:ambon \n",
      "City Number:3372964,City Name:lagoa \n",
      "City Number:542184,City Name:krasnovishersk \n",
      "City Number:2392204,City Name:parakou \n",
      "City Number:3451138,City Name:rio grande \n",
      "City Number:2138555,City Name:poum \n",
      "City Number:4031574,City Name:provideniya \n",
      "City Number:1163272,City Name:toba tek singh \n",
      "City Number:962367,City Name:richards bay \n",
      "City Number:3347019,City Name:namibe \n",
      "City Number:933995,City Name:souillac \n",
      "City Number:5282297,City Name:bethel \n",
      "City Number:3374083,City Name:bathsheba \n",
      "City Number:5955826,City Name:fort frances \n",
      "City Number:2013392,City Name:vilyuysk \n",
      "City Number:2025256,City Name:chumikan \n",
      "City Number:3395473,City Name:papara \n",
      "City Number:2240449,City Name:luanda \n",
      "City Number:2015179,City Name:tommot \n",
      "City Number:4576653,City Name:dillon \n",
      "City Number:4914570,City Name:urbana \n",
      "City Number:1819729,City Name:victoria \n",
      "City Number:2126199,City Name:cherskiy \n",
      "Info Not available...skipping\n",
      "City Number:1506268,City Name:gornopravdinsk \n",
      "City Number:332288,City Name:lalibela \n",
      "City Number:780687,City Name:berlevag \n",
      "City Number:5983720,City Name:iqaluit \n",
      "City Number:4036284,City Name:alofi \n",
      "City Number:1043893,City Name:lichinga \n",
      "City Number:1314759,City Name:lashio \n",
      "Info Not available...skipping\n",
      "City Number:5955902,City Name:fort nelson \n",
      "City Number:5947035,City Name:eganville \n",
      "City Number:934649,City Name:cap malheureux \n",
      "City Number:1215502,City Name:banda aceh \n",
      "City Number:2377457,City Name:nouadhibou \n",
      "City Number:4470244,City Name:havelock \n",
      "City Number:2343252,City Name:epe \n",
      "City Number:503374,City Name:pytalovo \n",
      "City Number:3695466,City Name:la union \n",
      "City Number:1486321,City Name:yar-sale \n",
      "City Number:3141667,City Name:roald \n",
      "City Number:3449293,City Name:sao domingos \n",
      "City Number:2221607,City Name:tchollire \n",
      "City Number:2022317,City Name:khor \n",
      "City Number:293842,City Name:gat \n",
      "City Number:232235,City Name:kapchorwa \n",
      "City Number:3356264,City Name:keetmanshoop \n",
      "City Number:1267390,City Name:kavaratti \n",
      "City Number:1715335,City Name:davila \n",
      "City Number:343292,City Name:asosa \n",
      "City Number:7281807,City Name:seddon \n",
      "City Number:5110365,City Name:broome \n",
      "City Number:1274337,City Name:chhatarpur \n",
      "City Number:2685750,City Name:ostersund \n",
      "City Number:1028434,City Name:quelimane \n",
      "City Number:3449476,City Name:santo augusto \n",
      "City Number:153352,City Name:mlowo \n",
      "City Number:1271534,City Name:gariaband \n",
      "City Number:3838859,City Name:rio gallegos \n",
      "City Number:1264037,City Name:malpe \n",
      "City Number:3947740,City Name:andahuaylas \n",
      "City Number:3374210,City Name:sao filipe \n",
      "City Number:2189343,City Name:kaeo \n",
      "City Number:86049,City Name:jalu \n",
      "City Number:4013679,City Name:coahuayana \n",
      "City Number:3985168,City Name:san patricio \n",
      "City Number:2738381,City Name:lata \n",
      "City Number:3191648,City Name:zlobin \n",
      "City Number:128477,City Name:kashan \n",
      "City Number:2119283,City Name:zyryanka \n",
      "City Number:1810637,City Name:ganzhou \n",
      "City Number:3514780,City Name:veracruz \n",
      "City Number:1488206,City Name:ust-ishim \n",
      "City Number:3662761,City Name:porto walter \n",
      "City Number:2206894,City Name:hokitika \n",
      "City Number:1796236,City Name:shanghai \n",
      "City Number:1082243,City Name:ambilobe \n",
      "City Number:2014369,City Name:ulety \n",
      "Info Not available...skipping\n",
      "City Number:4787534,City Name:sterling \n",
      "City Number:2156643,City Name:mount gambier \n",
      "City Number:3354876,City Name:okakarara \n",
      "City Number:1643837,City Name:gorontalo \n",
      "City Number:6355222,City Name:yulara \n",
      "City Number:965528,City Name:phalaborwa \n",
      "City Number:464790,City Name:zapolyarnyy \n",
      "City Number:2038665,City Name:alihe \n",
      "City Number:1842966,City Name:kijang \n",
      "Info Not available...skipping\n",
      "City Number:3939168,City Name:huarmey \n",
      "City Number:602150,City Name:umea \n",
      "City Number:2112309,City Name:katsuura \n",
      "City Number:1491461,City Name:soloneshnoye \n",
      "City Number:3354071,City Name:oranjemund \n",
      "City Number:1861280,City Name:itoman \n",
      "City Number:2274275,City Name:robertsport \n",
      "City Number:1650434,City Name:bambanglipuro \n",
      "City Number:3155152,City Name:gravdal \n",
      "City Number:3939761,City Name:hualmay \n",
      "City Number:6167817,City Name:torbay \n",
      "City Number:1511057,City Name:bakchar \n",
      "City Number:3466980,City Name:caravelas \n",
      "Info Not available...skipping\n",
      "City Number:1512223,City Name:abalak \n",
      "City Number:3392020,City Name:pio ix \n",
      "City Number:777682,City Name:skjervoy \n",
      "City Number:2156927,City Name:moree \n",
      "City Number:1787858,City Name:shangrao \n",
      "City Number:2276492,City Name:harper \n",
      "City Number:3723779,City Name:jacmel \n",
      "City Number:1106643,City Name:quatre cocos \n",
      "City Number:363656,City Name:yambio \n",
      "City Number:2406916,City Name:lunsar \n",
      "City Number:1831112,City Name:kampot \n",
      "City Number:501091,City Name:rovnoye \n",
      "City Number:2024626,City Name:dzhebariki-khaya \n",
      "City Number:2090021,City Name:namatanai \n",
      "City Number:2729907,City Name:longyearbyen \n",
      "City Number:5713587,City Name:bend \n",
      "Info Not available...skipping\n",
      "City Number:2068110,City Name:kununurra \n",
      "City Number:1337619,City Name:ugoofaaru \n",
      "City Number:2027296,City Name:aykhal \n",
      "City Number:5731070,City Name:hermiston \n",
      "Info Not available...skipping\n",
      "City Number:3421193,City Name:paamiut \n",
      "City Number:1067565,City Name:beloha \n",
      "City Number:186180,City Name:moyale \n",
      "City Number:542464,City Name:krasnoarmeysk \n",
      "City Number:493201,City Name:shuyskoye \n",
      "Info Not available...skipping\n",
      "City Number:5192726,City Name:harrisburg \n",
      "City Number:3403344,City Name:caninde de sao francisco \n",
      "City Number:2159220,City Name:mackay \n",
      "City Number:3336897,City Name:la rioja \n",
      "City Number:2134814,City Name:sola \n",
      "City Number:5991056,City Name:kenora \n",
      "City Number:3141548,City Name:rognan \n",
      "City Number:3988392,City Name:rosarito \n",
      "City Number:2126682,City Name:bilibino \n",
      "City Number:1852357,City Name:shimoda \n",
      "City Number:1151253,City Name:phuket \n",
      "Info Not available...skipping\n",
      "City Number:2120400,City Name:tungor \n",
      "City Number:2501152,City Name:constantine \n",
      "City Number:2817209,City Name:vilsbiburg \n",
      "City Number:2446796,City Name:bilma \n",
      "City Number:2980080,City Name:saint-francois \n",
      "City Number:5102796,City Name:point pleasant \n",
      "City Number:336454,City Name:ginir \n",
      "City Number:3061184,City Name:banska stiavnica \n",
      "City Number:2126018,City Name:de-kastri \n",
      "City Number:3135728,City Name:straumen \n",
      "City Number:884141,City Name:norton \n",
      "City Number:2172880,City Name:byron bay \n",
      "City Number:1235846,City Name:matara \n",
      "City Number:3598787,City Name:champerico \n",
      "City Number:933416,City Name:manyana \n",
      "City Number:1715015,City Name:dicabisagan \n",
      "City Number:2132606,City Name:samarai \n",
      "Info Not available...skipping\n",
      "City Number:1275619,City Name:bilgi \n",
      "City Number:6620339,City Name:karratha \n",
      "City Number:2036653,City Name:hunchun \n",
      "City Number:1513491,City Name:komsomolskiy \n",
      "City Number:2025456,City Name:chernyshevskiy \n",
      "City Number:2122614,City Name:okha \n",
      "City Number:6062069,City Name:lunenburg \n",
      "City Number:6451497,City Name:hyeres \n",
      "City Number:219057,City Name:beni \n",
      "City Number:1262873,City Name:mohpa \n",
      "City Number:257122,City Name:methoni \n",
      "Info Not available...skipping\n",
      "City Number:6316343,City Name:alta floresta \n",
      "City Number:1259813,City Name:phalodi \n",
      "City Number:550918,City Name:bolshaya dzhalga \n",
      "City Number:2123814,City Name:leningradskiy \n",
      "City Number:2228079,City Name:mbalmayo \n",
      "City Number:1262067,City Name:nalgonda \n",
      "City Number:1224061,City Name:wattegama \n",
      "Info Not available...skipping\n",
      "City Number:4845585,City Name:westport \n",
      "City Number:3836669,City Name:san rafael \n",
      "City Number:2170581,City Name:coolum beach \n",
      "City Number:1642773,City Name:japura \n",
      "City Number:2522325,City Name:aguimes \n",
      "City Number:5357155,City Name:hillsborough \n",
      "City Number:1307741,City Name:myitkyina \n",
      "City Number:2294665,City Name:teshie \n",
      "City Number:2082539,City Name:merauke \n",
      "City Number:645765,City Name:muhos \n",
      "City Number:4944903,City Name:nantucket \n",
      "City Number:739636,City Name:sile \n",
      "City Number:4465088,City Name:elizabeth city \n",
      "City Number:352733,City Name:marsa matruh \n",
      "City Number:5859699,City Name:college \n",
      "City Number:4946620,City Name:palmer \n",
      "Info Not available...skipping\n",
      "City Number:2021343,City Name:kultuk \n",
      "City Number:359792,City Name:aswan \n",
      "City Number:533964,City Name:loukhi \n",
      "City Number:1152222,City Name:mae hong son \n",
      "City Number:2989877,City Name:noyon \n",
      "City Number:563425,City Name:erpeli \n",
      "City Number:2022083,City Name:kirensk \n",
      "City Number:5735238,City Name:klamath falls \n",
      "City Number:1563281,City Name:tuy hoa \n",
      "City Number:3947019,City Name:ayacucho \n",
      "City Number:2304548,City Name:anloga \n",
      "City Number:4034496,City Name:fare \n",
      "City Number:3393922,City Name:nisia floresta \n",
      "City Number:1529484,City Name:hami \n",
      "City Number:1636544,City Name:manado \n",
      "City Number:3201047,City Name:dubrovnik \n",
      "City Number:100926,City Name:umm lajj \n",
      "City Number:6078372,City Name:moose factory \n",
      "City Number:565289,City Name:donskoye \n",
      "City Number:1260206,City Name:pasighat \n",
      "City Number:3174050,City Name:mantua \n",
      "City Number:3461465,City Name:iguape \n",
      "City Number:3382160,City Name:cayenne \n",
      "City Number:477940,City Name:ust-tsilma \n",
      "City Number:933383,City Name:mathathane \n",
      "City Number:1278935,City Name:amalapuram \n",
      "City Number:2662689,City Name:visby \n",
      "City Number:3564124,City Name:cienfuegos \n",
      "City Number:6089179,City Name:normandin \n"
     ]
    }
   ],
   "source": [
    "ID=[]\n",
    "Country=[]\n",
    "MaxTemp=[]\n",
    "Humidity=[]\n",
    "lat=[]\n",
    "lng=[]\n",
    "Cloudiness=[]\n",
    "Wind_Speed=[]\n",
    "CityName=[]\n",
    "Date=[]\n",
    "\n",
    "units=\"Imperial\"\n",
    "\n",
    "for city in cities:\n",
    "    url = \"http://api.openweathermap.org/data/2.5/weather?\"\n",
    "# # Build query URL\n",
    "    query_url = url + \"appid=\" + weather_api_key + \"&q=\" + city + \"&units=\" + units\n",
    "     \n",
    "    weather_response = requests.get(query_url)\n",
    "    weather_data = weather_response.json()\n",
    "    weather_json=json.dumps(weather_data,indent=4,sort_keys=True)\n",
    "    \n",
    "    \n",
    "    \n",
    "    try:\n",
    "        \n",
    "        ID.append(weather_data[\"id\"])\n",
    "        CityName.append(weather_data[\"name\"])\n",
    "        Country.append(weather_data[\"sys\"][\"country\"])\n",
    "        Date.append(weather_data[\"dt\"])\n",
    "        MaxTemp.append(weather_data[\"main\"][\"temp_max\"])\n",
    "        Humidity.append(weather_data[\"main\"][\"humidity\"])\n",
    "        Cloudiness.append(weather_data[\"clouds\"][\"all\"])\n",
    "        lat.append(weather_data[\"coord\"][\"lat\"])\n",
    "        lng.append(weather_data[\"coord\"][\"lon\"])\n",
    "        Wind_Speed.append(weather_data[\"wind\"][\"speed\"])\n",
    "        \n",
    "        print(\"City Number:{},City Name:{} \".format(weather_data[\"id\"],city))\n",
    "              \n",
    "    except (KeyError,IndexError):\n",
    "       print(\"Info Not available...skipping\")\n",
    "\n",
    "    \n",
    "    "
   ]
  },
  {
   "cell_type": "markdown",
   "metadata": {},
   "source": [
    "### Convert Raw Data to DataFrame\n",
    "* Export the city data into a .csv.\n",
    "* Display the DataFrame"
   ]
  },
  {
   "cell_type": "code",
   "execution_count": 53,
   "metadata": {},
   "outputs": [],
   "source": [
    "output_file=\"city_data.csv\"\n",
    "\n",
    "FormattedDate=[]\n",
    "fields=[\"ID\",\"City Name\",\"Country\",\"Date\",\"MaxTemp\",\"Humidity\",\"lat\",\"lng\",\"Cloudiness\",\"Wind_Speed\",\"Formatted Date\"]\n",
    "for item in Date:\n",
    "    FormattedDate.append(datetime.date.fromtimestamp(item))\n",
    "   # City_data_df[\"Formatted Date\"]=Date[item]\n",
    "#City_data_df.head()\n",
    "\n",
    "#change the list of column items  to rows to write to csv\n",
    "rows=zip(ID,CityName,Country,Date,MaxTemp,Humidity,lat,lng,Cloudiness,Wind_Speed,FormattedDate,)\n",
    "with open(output_file,'w',encoding='UTF-8') as csvfile:\n",
    "    # creating a csv writer object  \n",
    "    csvwriter = csv.writer(csvfile)  \n",
    "        \n",
    "    # writing the fields  \n",
    "    csvwriter.writerow(fields)  \n",
    "        \n",
    "    # writing the data rows  \n",
    "    for row in rows:\n",
    "        csvwriter.writerow(row) \n",
    "\n",
    "    "
   ]
  },
  {
   "cell_type": "code",
   "execution_count": 54,
   "metadata": {},
   "outputs": [
    {
     "data": {
      "text/html": [
       "<div>\n",
       "<style scoped>\n",
       "    .dataframe tbody tr th:only-of-type {\n",
       "        vertical-align: middle;\n",
       "    }\n",
       "\n",
       "    .dataframe tbody tr th {\n",
       "        vertical-align: top;\n",
       "    }\n",
       "\n",
       "    .dataframe thead th {\n",
       "        text-align: right;\n",
       "    }\n",
       "</style>\n",
       "<table border=\"1\" class=\"dataframe\">\n",
       "  <thead>\n",
       "    <tr style=\"text-align: right;\">\n",
       "      <th></th>\n",
       "      <th>ID</th>\n",
       "      <th>City Name</th>\n",
       "      <th>Country</th>\n",
       "      <th>Date</th>\n",
       "      <th>MaxTemp</th>\n",
       "      <th>Humidity</th>\n",
       "      <th>lat</th>\n",
       "      <th>lng</th>\n",
       "      <th>Cloudiness</th>\n",
       "      <th>Wind_Speed</th>\n",
       "      <th>Formatted Date</th>\n",
       "    </tr>\n",
       "  </thead>\n",
       "  <tbody>\n",
       "    <tr>\n",
       "      <th>0</th>\n",
       "      <td>2019718</td>\n",
       "      <td>Mukhen</td>\n",
       "      <td>RU</td>\n",
       "      <td>1595444506</td>\n",
       "      <td>63.86</td>\n",
       "      <td>93</td>\n",
       "      <td>48.10</td>\n",
       "      <td>136.10</td>\n",
       "      <td>79</td>\n",
       "      <td>2.42</td>\n",
       "      <td>2020-07-22</td>\n",
       "    </tr>\n",
       "    <tr>\n",
       "      <th>1</th>\n",
       "      <td>1015776</td>\n",
       "      <td>Bredasdorp</td>\n",
       "      <td>ZA</td>\n",
       "      <td>1595444506</td>\n",
       "      <td>51.80</td>\n",
       "      <td>74</td>\n",
       "      <td>-34.53</td>\n",
       "      <td>20.04</td>\n",
       "      <td>0</td>\n",
       "      <td>2.01</td>\n",
       "      <td>2020-07-22</td>\n",
       "    </tr>\n",
       "    <tr>\n",
       "      <th>2</th>\n",
       "      <td>2126123</td>\n",
       "      <td>Chokurdakh</td>\n",
       "      <td>RU</td>\n",
       "      <td>1595444506</td>\n",
       "      <td>74.61</td>\n",
       "      <td>37</td>\n",
       "      <td>70.63</td>\n",
       "      <td>147.92</td>\n",
       "      <td>91</td>\n",
       "      <td>4.59</td>\n",
       "      <td>2020-07-22</td>\n",
       "    </tr>\n",
       "    <tr>\n",
       "      <th>3</th>\n",
       "      <td>1817240</td>\n",
       "      <td>Baiyin</td>\n",
       "      <td>CN</td>\n",
       "      <td>1595444506</td>\n",
       "      <td>73.99</td>\n",
       "      <td>56</td>\n",
       "      <td>36.56</td>\n",
       "      <td>104.21</td>\n",
       "      <td>100</td>\n",
       "      <td>6.71</td>\n",
       "      <td>2020-07-22</td>\n",
       "    </tr>\n",
       "    <tr>\n",
       "      <th>4</th>\n",
       "      <td>5866583</td>\n",
       "      <td>Saint Paul Harbor</td>\n",
       "      <td>US</td>\n",
       "      <td>1595444293</td>\n",
       "      <td>62.60</td>\n",
       "      <td>71</td>\n",
       "      <td>57.79</td>\n",
       "      <td>-152.41</td>\n",
       "      <td>1</td>\n",
       "      <td>10.29</td>\n",
       "      <td>2020-07-22</td>\n",
       "    </tr>\n",
       "  </tbody>\n",
       "</table>\n",
       "</div>"
      ],
      "text/plain": [
       "        ID          City Name Country        Date  MaxTemp  Humidity    lat  \\\n",
       "0  2019718             Mukhen      RU  1595444506    63.86        93  48.10   \n",
       "1  1015776         Bredasdorp      ZA  1595444506    51.80        74 -34.53   \n",
       "2  2126123         Chokurdakh      RU  1595444506    74.61        37  70.63   \n",
       "3  1817240             Baiyin      CN  1595444506    73.99        56  36.56   \n",
       "4  5866583  Saint Paul Harbor      US  1595444293    62.60        71  57.79   \n",
       "\n",
       "      lng  Cloudiness  Wind_Speed Formatted Date  \n",
       "0  136.10          79        2.42     2020-07-22  \n",
       "1   20.04           0        2.01     2020-07-22  \n",
       "2  147.92          91        4.59     2020-07-22  \n",
       "3  104.21         100        6.71     2020-07-22  \n",
       "4 -152.41           1       10.29     2020-07-22  "
      ]
     },
     "execution_count": 54,
     "metadata": {},
     "output_type": "execute_result"
    }
   ],
   "source": [
    "City_data_df=pd.read_csv('city_data.csv', sep = ',')\n",
    "City_data_df.head()"
   ]
  },
  {
   "cell_type": "code",
   "execution_count": 55,
   "metadata": {},
   "outputs": [
    {
     "data": {
      "text/plain": [
       "171"
      ]
     },
     "execution_count": 55,
     "metadata": {},
     "output_type": "execute_result"
    }
   ],
   "source": [
    "\n",
    "#To check if there are duplicates for the cities.\n",
    "a=City_data_df[\"City Name\"].unique()\n",
    "len(a)\n"
   ]
  },
  {
   "cell_type": "markdown",
   "metadata": {},
   "source": [
    "## Inspect the data and remove the cities where the humidity > 100%.\n",
    "----\n",
    "Skip this step if there are no cities that have humidity > 100%. "
   ]
  },
  {
   "cell_type": "code",
   "execution_count": 56,
   "metadata": {},
   "outputs": [
    {
     "data": {
      "text/html": [
       "<div>\n",
       "<style scoped>\n",
       "    .dataframe tbody tr th:only-of-type {\n",
       "        vertical-align: middle;\n",
       "    }\n",
       "\n",
       "    .dataframe tbody tr th {\n",
       "        vertical-align: top;\n",
       "    }\n",
       "\n",
       "    .dataframe thead th {\n",
       "        text-align: right;\n",
       "    }\n",
       "</style>\n",
       "<table border=\"1\" class=\"dataframe\">\n",
       "  <thead>\n",
       "    <tr style=\"text-align: right;\">\n",
       "      <th></th>\n",
       "      <th>ID</th>\n",
       "      <th>City Name</th>\n",
       "      <th>Country</th>\n",
       "      <th>Date</th>\n",
       "      <th>MaxTemp</th>\n",
       "      <th>Humidity</th>\n",
       "      <th>lat</th>\n",
       "      <th>lng</th>\n",
       "      <th>Cloudiness</th>\n",
       "      <th>Wind_Speed</th>\n",
       "      <th>Formatted Date</th>\n",
       "    </tr>\n",
       "  </thead>\n",
       "  <tbody>\n",
       "  </tbody>\n",
       "</table>\n",
       "</div>"
      ],
      "text/plain": [
       "Empty DataFrame\n",
       "Columns: [ID, City Name, Country, Date, MaxTemp, Humidity, lat, lng, Cloudiness, Wind_Speed, Formatted Date]\n",
       "Index: []"
      ]
     },
     "execution_count": 56,
     "metadata": {},
     "output_type": "execute_result"
    }
   ],
   "source": [
    "new_df=City_data_df.loc[City_data_df[\"Humidity\"]> 100]\n",
    "new_df\n",
    "#No Cities with humidty >100\n"
   ]
  },
  {
   "cell_type": "code",
   "execution_count": 12,
   "metadata": {},
   "outputs": [],
   "source": [
    "#  Get the indices of cities that have humidity over 100%"
   ]
  },
  {
   "cell_type": "code",
   "execution_count": 13,
   "metadata": {},
   "outputs": [],
   "source": [
    "# Make a new DataFrame equal to the city data to drop all humidity outliers by index.\n",
    "# Passing \"inplace=False\" will make a copy of the city_data DataFrame, which we call \"clean_city_data\".\n"
   ]
  },
  {
   "cell_type": "code",
   "execution_count": 14,
   "metadata": {},
   "outputs": [],
   "source": [
    "# Extract relevant fields from the data frame\n",
    "\n",
    "\n",
    "\n",
    "# Export the City_Data into a csv\n"
   ]
  },
  {
   "cell_type": "markdown",
   "metadata": {},
   "source": [
    "## Plotting the Data\n",
    "* Use proper labeling of the plots using plot titles (including date of analysis) and axes labels.\n",
    "* Save the plotted figures as .pngs."
   ]
  },
  {
   "cell_type": "markdown",
   "metadata": {},
   "source": [
    "## Latitude vs. Temperature Plot"
   ]
  },
  {
   "cell_type": "code",
   "execution_count": 37,
   "metadata": {
    "scrolled": true
   },
   "outputs": [
    {
     "name": "stdout",
     "output_type": "stream",
     "text": [
      "Analysing the relationship between Temperature and Latitude\n"
     ]
    },
    {
     "data": {
      "image/png": "[encoded data removed]",
      "text/plain": [
       "<Figure size 432x288 with 1 Axes>"
      ]
     },
     "metadata": {
      "needs_background": "light"
     },
     "output_type": "display_data"
    }
   ],
   "source": [
    "plt.scatter(x=City_data_df[\"lat\"],y=City_data_df[\"MaxTemp\"],edgecolors=\"b\",facecolor=\"r\")\n",
    "plt.xlabel(\"Latitude\")\n",
    "plt.ylabel(\"Temperature\")\n",
    "plt.title(\"Latitude Vs Temperature Analysis\")\n",
    "plt.savefig(\"Output_plots/LatvsTemp.png\")\n",
    "print(\"Analysing the relationship between Temperature and Latitude\")\n"
   ]
  },
  {
   "cell_type": "markdown",
   "metadata": {},
   "source": [
    "## Latitude vs. Humidity Plot"
   ]
  },
  {
   "cell_type": "code",
   "execution_count": 38,
   "metadata": {},
   "outputs": [
    {
     "name": "stdout",
     "output_type": "stream",
     "text": [
      "Analysing the relationship between Latitude and Humidity\n"
     ]
    },
    {
     "data": {
      "image/png": "[encoded data removed]",
      "text/plain": [
       "<Figure size 432x288 with 1 Axes>"
      ]
     },
     "metadata": {
      "needs_background": "light"
     },
     "output_type": "display_data"
    }
   ],
   "source": [
    "plt.scatter(x=City_data_df[\"lat\"],y=City_data_df[\"Humidity\"],edgecolors=\"r\",facecolor=\"b\")\n",
    "plt.xlabel(\"Latitude\")\n",
    "plt.ylabel(\"Humidity\")\n",
    "plt.title(\"Latitude Vs Humidity Analysis\")\n",
    "plt.savefig(\"Output_plots/LatvsHum.png\")\n",
    "print(\"Analysing the relationship between Latitude and Humidity\")"
   ]
  },
  {
   "cell_type": "markdown",
   "metadata": {},
   "source": [
    "## Latitude vs. Cloudiness Plot"
   ]
  },
  {
   "cell_type": "code",
   "execution_count": 39,
   "metadata": {},
   "outputs": [
    {
     "name": "stdout",
     "output_type": "stream",
     "text": [
      "Analysing the relationship between Latitude and Cloudiness\n"
     ]
    },
    {
     "data": {
      "image/png": "[encoded data removed]",
      "text/plain": [
       "<Figure size 432x288 with 1 Axes>"
      ]
     },
     "metadata": {
      "needs_background": "light"
     },
     "output_type": "display_data"
    }
   ],
   "source": [
    "plt.scatter(x=City_data_df[\"lat\"],y=City_data_df[\"Cloudiness\"],edgecolors=\"b\",facecolor=\"orange\")\n",
    "plt.xlabel(\"Latitude\")\n",
    "plt.ylabel(\"Cloudiness\")\n",
    "plt.title(\"Latitude Vs Cloudiness Analysis\")\n",
    "plt.savefig(\"Output_plots/LatvsCloud.png\")\n",
    "print(\"Analysing the relationship between Latitude and Cloudiness\")"
   ]
  },
  {
   "cell_type": "markdown",
   "metadata": {},
   "source": [
    "## Latitude vs. Wind Speed Plot"
   ]
  },
  {
   "cell_type": "code",
   "execution_count": 40,
   "metadata": {},
   "outputs": [
    {
     "name": "stdout",
     "output_type": "stream",
     "text": [
      "Analysing the relationship between Latitude and Wind Speed\n"
     ]
    },
    {
     "data": {
      "image/png": "[encoded data removed]",
      "text/plain": [
       "<Figure size 432x288 with 1 Axes>"
      ]
     },
     "metadata": {
      "needs_background": "light"
     },
     "output_type": "display_data"
    }
   ],
   "source": [
    "plt.scatter(x=City_data_df[\"lat\"],y=City_data_df[\"Wind_Speed\"],edgecolors=\"r\",facecolor=\"y\")\n",
    "plt.xlabel(\"Latitude\")\n",
    "plt.ylabel(\"Wind Speed\")\n",
    "plt.title(\"Latitude Vs Wind Speed Analysis\")\n",
    "plt.savefig(\"Output_plots/LatvsWS.png\")\n",
    "print(\"Analysing the relationship between Latitude and Wind Speed\")"
   ]
  },
  {
   "cell_type": "markdown",
   "metadata": {},
   "source": [
    "## Linear Regression"
   ]
  },
  {
   "cell_type": "code",
   "execution_count": 19,
   "metadata": {},
   "outputs": [],
   "source": [
    "# OPTIONAL: Create a function to create Linear Regression plots\n",
    "\n"
   ]
  },
  {
   "cell_type": "code",
   "execution_count": 41,
   "metadata": {},
   "outputs": [
    {
     "data": {
      "text/html": [
       "<div>\n",
       "<style scoped>\n",
       "    .dataframe tbody tr th:only-of-type {\n",
       "        vertical-align: middle;\n",
       "    }\n",
       "\n",
       "    .dataframe tbody tr th {\n",
       "        vertical-align: top;\n",
       "    }\n",
       "\n",
       "    .dataframe thead th {\n",
       "        text-align: right;\n",
       "    }\n",
       "</style>\n",
       "<table border=\"1\" class=\"dataframe\">\n",
       "  <thead>\n",
       "    <tr style=\"text-align: right;\">\n",
       "      <th></th>\n",
       "      <th>ID</th>\n",
       "      <th>City Name</th>\n",
       "      <th>Country</th>\n",
       "      <th>Date</th>\n",
       "      <th>MaxTemp</th>\n",
       "      <th>Humidity</th>\n",
       "      <th>lat</th>\n",
       "      <th>lng</th>\n",
       "      <th>Cloudiness</th>\n",
       "      <th>Wind_Speed</th>\n",
       "      <th>Formatted Date</th>\n",
       "    </tr>\n",
       "  </thead>\n",
       "  <tbody>\n",
       "    <tr>\n",
       "      <th>0</th>\n",
       "      <td>2019718</td>\n",
       "      <td>Mukhen</td>\n",
       "      <td>RU</td>\n",
       "      <td>1595444506</td>\n",
       "      <td>63.86</td>\n",
       "      <td>89</td>\n",
       "      <td>48.10</td>\n",
       "      <td>136.10</td>\n",
       "      <td>79</td>\n",
       "      <td>2.42</td>\n",
       "      <td>2020-07-22</td>\n",
       "    </tr>\n",
       "    <tr>\n",
       "      <th>2</th>\n",
       "      <td>2126123</td>\n",
       "      <td>Chokurdakh</td>\n",
       "      <td>RU</td>\n",
       "      <td>1595444506</td>\n",
       "      <td>74.61</td>\n",
       "      <td>51</td>\n",
       "      <td>70.63</td>\n",
       "      <td>147.92</td>\n",
       "      <td>91</td>\n",
       "      <td>4.59</td>\n",
       "      <td>2020-07-22</td>\n",
       "    </tr>\n",
       "    <tr>\n",
       "      <th>3</th>\n",
       "      <td>1817240</td>\n",
       "      <td>Baiyin</td>\n",
       "      <td>CN</td>\n",
       "      <td>1595444506</td>\n",
       "      <td>73.99</td>\n",
       "      <td>60</td>\n",
       "      <td>36.56</td>\n",
       "      <td>104.21</td>\n",
       "      <td>100</td>\n",
       "      <td>6.71</td>\n",
       "      <td>2020-07-22</td>\n",
       "    </tr>\n",
       "    <tr>\n",
       "      <th>4</th>\n",
       "      <td>5866583</td>\n",
       "      <td>Saint Paul Harbor</td>\n",
       "      <td>US</td>\n",
       "      <td>1595444293</td>\n",
       "      <td>62.60</td>\n",
       "      <td>55</td>\n",
       "      <td>57.79</td>\n",
       "      <td>-152.41</td>\n",
       "      <td>1</td>\n",
       "      <td>10.29</td>\n",
       "      <td>2020-07-22</td>\n",
       "    </tr>\n",
       "    <tr>\n",
       "      <th>5</th>\n",
       "      <td>616944</td>\n",
       "      <td>Aragats</td>\n",
       "      <td>AM</td>\n",
       "      <td>1595444506</td>\n",
       "      <td>78.80</td>\n",
       "      <td>41</td>\n",
       "      <td>40.49</td>\n",
       "      <td>44.35</td>\n",
       "      <td>20</td>\n",
       "      <td>21.92</td>\n",
       "      <td>2020-07-22</td>\n",
       "    </tr>\n",
       "  </tbody>\n",
       "</table>\n",
       "</div>"
      ],
      "text/plain": [
       "        ID          City Name Country        Date  MaxTemp  Humidity    lat  \\\n",
       "0  2019718             Mukhen      RU  1595444506    63.86        89  48.10   \n",
       "2  2126123         Chokurdakh      RU  1595444506    74.61        51  70.63   \n",
       "3  1817240             Baiyin      CN  1595444506    73.99        60  36.56   \n",
       "4  5866583  Saint Paul Harbor      US  1595444293    62.60        55  57.79   \n",
       "5   616944            Aragats      AM  1595444506    78.80        41  40.49   \n",
       "\n",
       "      lng  Cloudiness  Wind_Speed Formatted Date  \n",
       "0  136.10          79        2.42     2020-07-22  \n",
       "2  147.92          91        4.59     2020-07-22  \n",
       "3  104.21         100        6.71     2020-07-22  \n",
       "4 -152.41           1       10.29     2020-07-22  \n",
       "5   44.35          20       21.92     2020-07-22  "
      ]
     },
     "execution_count": 41,
     "metadata": {},
     "output_type": "execute_result"
    }
   ],
   "source": [
    "# Create Northern and Southern Hemisphere DataFrames\n",
    "Northern_df=City_data_df.loc[City_data_df[\"lat\"]>=0]\n",
    "Southern_df=City_data_df.loc[City_data_df[\"lat\"]<0]\n",
    "Northern_df.head()\n"
   ]
  },
  {
   "cell_type": "markdown",
   "metadata": {},
   "source": [
    "####  Northern Hemisphere - Max Temp vs. Latitude Linear Regression"
   ]
  },
  {
   "cell_type": "code",
   "execution_count": 42,
   "metadata": {},
   "outputs": [
    {
     "name": "stdout",
     "output_type": "stream",
     "text": [
      "Northern Hemisphere:Regression between Latitude and Temperature\n"
     ]
    },
    {
     "data": {
      "image/png": "[encoded data removed]",
      "text/plain": [
       "<Figure size 432x288 with 1 Axes>"
      ]
     },
     "metadata": {
      "needs_background": "light"
     },
     "output_type": "display_data"
    }
   ],
   "source": [
    "(slope,intercept,_,_,_)=linregress(x=Northern_df[\"lat\"],y=Northern_df[\"MaxTemp\"])\n",
    "latitude =Northern_df .iloc[:,6]\n",
    "Temperature=Northern_df.iloc[:,4]\n",
    "fit=slope * latitude +intercept\n",
    "plt.scatter(x=Northern_df[\"lat\"],y=Northern_df[\"MaxTemp\"],edgecolors=\"r\",facecolor=\"b\")\n",
    "plt.xlabel(\"Latitude\")\n",
    "plt.ylabel(\"Temperature\")\n",
    "plt.title(\"Latitude Vs Temperature Regression\")\n",
    "plt.plot(latitude,fit,\"--\")\n",
    "print(\"Northern Hemisphere:Regression between Latitude and Temperature\")\n",
    "\n"
   ]
  },
  {
   "cell_type": "markdown",
   "metadata": {},
   "source": [
    "####  Southern Hemisphere - Max Temp vs. Latitude Linear Regression"
   ]
  },
  {
   "cell_type": "code",
   "execution_count": 43,
   "metadata": {},
   "outputs": [
    {
     "name": "stdout",
     "output_type": "stream",
     "text": [
      "Southern Hemisphere:Regression between Latitude and Temp \n"
     ]
    },
    {
     "data": {
      "image/png": "[encoded data removed]",
      "text/plain": [
       "<Figure size 432x288 with 1 Axes>"
      ]
     },
     "metadata": {
      "needs_background": "light"
     },
     "output_type": "display_data"
    }
   ],
   "source": [
    "(slope,intercept,_,_,_)=linregress(x=Southern_df[\"lat\"],y=Southern_df[\"MaxTemp\"])\n",
    "latitude =Southern_df .iloc[:,6]\n",
    "Temperature=Southern_df.iloc[:,4]\n",
    "fit=slope * latitude +intercept\n",
    "plt.scatter(x=Southern_df[\"lat\"],y=Southern_df[\"MaxTemp\"],edgecolors=\"r\",facecolor=\"b\")\n",
    "plt.xlabel(\"Latitude\")\n",
    "plt.ylabel(\"Temperature\")\n",
    "plt.title(\"Latitude Vs Temperature  Regression\")\n",
    "plt.plot(latitude,fit,\"--\")\n",
    "print(\"Southern Hemisphere:Regression between Latitude and Temp \")\n"
   ]
  },
  {
   "cell_type": "markdown",
   "metadata": {},
   "source": [
    "####  Northern Hemisphere - Humidity (%) vs. Latitude Linear Regression"
   ]
  },
  {
   "cell_type": "code",
   "execution_count": 44,
   "metadata": {},
   "outputs": [
    {
     "name": "stdout",
     "output_type": "stream",
     "text": [
      "Northern Hemispher:Regression between Latitude and Humidity \n"
     ]
    },
    {
     "data": {
      "image/png": "[encoded data removed]",
      "text/plain": [
       "<Figure size 432x288 with 1 Axes>"
      ]
     },
     "metadata": {
      "needs_background": "light"
     },
     "output_type": "display_data"
    }
   ],
   "source": [
    "(slope,intercept,_,_,_)=linregress(x=Northern_df[\"lat\"],y=Northern_df[\"Humidity\"])\n",
    "latitude =Northern_df .iloc[:,6]\n",
    "Humidity=Northern_df.iloc[:,5]\n",
    "fit=slope * latitude +intercept\n",
    "plt.scatter(x=Northern_df[\"lat\"],y=Northern_df[\"Humidity\"],edgecolors=\"r\",facecolor=\"b\")\n",
    "plt.xlabel(\"Latitude\")\n",
    "plt.ylabel(\"humidity\")\n",
    "plt.title(\"Latitude Vs Humidity Regression\")\n",
    "plt.plot(latitude,fit,\"--\")\n",
    "print(\"Northern Hemispher:Regression between Latitude and Humidity \")\n"
   ]
  },
  {
   "cell_type": "markdown",
   "metadata": {},
   "source": [
    "####  Southern Hemisphere - Humidity (%) vs. Latitude Linear Regression"
   ]
  },
  {
   "cell_type": "code",
   "execution_count": 45,
   "metadata": {},
   "outputs": [
    {
     "name": "stdout",
     "output_type": "stream",
     "text": [
      "Southern Hemispher:Regression between Latitude and Humidity \n"
     ]
    },
    {
     "data": {
      "image/png": "[encoded data removed]",
      "text/plain": [
       "<Figure size 432x288 with 1 Axes>"
      ]
     },
     "metadata": {
      "needs_background": "light"
     },
     "output_type": "display_data"
    }
   ],
   "source": [
    "(slope,intercept,_,_,_)=linregress(x=Southern_df[\"lat\"],y=Southern_df[\"Humidity\"])\n",
    "latitude =Southern_df .iloc[:,6]\n",
    "Humidity=Southern_df.iloc[:,5]\n",
    "fit=slope * latitude +intercept\n",
    "plt.scatter(x=Southern_df[\"lat\"],y=Southern_df[\"Humidity\"],edgecolors=\"r\",facecolor=\"b\")\n",
    "plt.xlabel(\"Latitude\")\n",
    "plt.ylabel(\"Humidity\")\n",
    "plt.title(\"Latitude Vs Humidity Regression\")\n",
    "plt.plot(latitude,fit,\"--\")\n",
    "print(\"Southern Hemispher:Regression between Latitude and Humidity \")\n"
   ]
  },
  {
   "cell_type": "markdown",
   "metadata": {},
   "source": [
    "####  Northern Hemisphere - Cloudiness (%) vs. Latitude Linear Regression"
   ]
  },
  {
   "cell_type": "code",
   "execution_count": 46,
   "metadata": {},
   "outputs": [
    {
     "name": "stdout",
     "output_type": "stream",
     "text": [
      "Regression between Latitude and \n"
     ]
    },
    {
     "data": {
      "image/png": "[encoded data removed]",
      "text/plain": [
       "<Figure size 432x288 with 1 Axes>"
      ]
     },
     "metadata": {
      "needs_background": "light"
     },
     "output_type": "display_data"
    }
   ],
   "source": [
    "(slope,intercept,_,_,_)=linregress(x=Northern_df[\"lat\"],y=Northern_df[\"Cloudiness\"])\n",
    "latitude =Northern_df .iloc[:,6]\n",
    "Temperature=Northern_df.iloc[:,8]\n",
    "fit=slope * latitude +intercept\n",
    "plt.scatter(x=Northern_df[\"lat\"],y=Northern_df[\"Cloudiness\"],edgecolors=\"r\",facecolor=\"b\")\n",
    "plt.xlabel(\"Latitude\")\n",
    "plt.ylabel(\"\")\n",
    "plt.title(\"Latitude Vs Humidity Regression\")\n",
    "plt.plot(latitude,fit,\"--\")\n",
    "print(\"Regression between Latitude and \")\n"
   ]
  },
  {
   "cell_type": "markdown",
   "metadata": {},
   "source": [
    "####  Southern Hemisphere - Cloudiness (%) vs. Latitude Linear Regression"
   ]
  },
  {
   "cell_type": "code",
   "execution_count": 47,
   "metadata": {},
   "outputs": [
    {
     "name": "stdout",
     "output_type": "stream",
     "text": [
      "Southern Hemispher :Regression between Latitude and Cloudiness \n"
     ]
    },
    {
     "data": {
      "image/png": "[encoded data removed]",
      "text/plain": [
       "<Figure size 432x288 with 1 Axes>"
      ]
     },
     "metadata": {
      "needs_background": "light"
     },
     "output_type": "display_data"
    }
   ],
   "source": [
    "(slope,intercept,_,_,_)=linregress(x=Southern_df[\"lat\"],y=Southern_df[\"Cloudiness\"])\n",
    "latitude =Southern_df .iloc[:,6]\n",
    "Clousiness=Southern_df.iloc[:,8]\n",
    "fit=slope * latitude +intercept\n",
    "plt.scatter(x=Southern_df[\"lat\"],y=Southern_df[\"Cloudiness\"],edgecolors=\"r\",facecolor=\"b\")\n",
    "plt.xlabel(\"Latitude\")\n",
    "plt.ylabel(\"Cloudiness\")\n",
    "plt.title(\"Latitude Vs Cloudiness  Regression\")\n",
    "plt.plot(latitude,fit,\"--\")\n",
    "print(\"Southern Hemispher :Regression between Latitude and Cloudiness \")\n"
   ]
  },
  {
   "cell_type": "markdown",
   "metadata": {},
   "source": [
    "####  Northern Hemisphere - Wind Speed (mph) vs. Latitude Linear Regression"
   ]
  },
  {
   "cell_type": "code",
   "execution_count": 48,
   "metadata": {},
   "outputs": [
    {
     "name": "stdout",
     "output_type": "stream",
     "text": [
      "Northern Hemisphere:Regression between Latitude and Wind Speed \n"
     ]
    },
    {
     "data": {
      "image/png": "[encoded data removed]",
      "text/plain": [
       "<Figure size 432x288 with 1 Axes>"
      ]
     },
     "metadata": {
      "needs_background": "light"
     },
     "output_type": "display_data"
    }
   ],
   "source": [
    "####  Northern Hemisphere - Wind Speed (mph) vs. Latitude Linear Regression\n",
    "\n",
    "(slope,intercept,_,_,_)=linregress(x=Northern_df[\"lat\"],y=Northern_df[\"Wind_Speed\"])\n",
    "latitude =Northern_df .iloc[:,6]\n",
    "WindSpeed=Northern_df.iloc[:,9]\n",
    "fit=slope * latitude +intercept\n",
    "plt.scatter(x=Northern_df[\"lat\"],y=Northern_df[\"Wind_Speed\"],edgecolors=\"r\",facecolor=\"b\")\n",
    "plt.xlabel(\"Latitude\")\n",
    "plt.ylabel(\"Wind Speed\")\n",
    "plt.title(\"Latitude Vs Wind Speed Regression\")\n",
    "plt.plot(latitude,fit,\"--\")\n",
    "print(\"Northern Hemisphere:Regression between Latitude and Wind Speed \")\n"
   ]
  },
  {
   "cell_type": "markdown",
   "metadata": {},
   "source": [
    "####  Southern Hemisphere - Wind Speed (mph) vs. Latitude Linear Regression"
   ]
  },
  {
   "cell_type": "code",
   "execution_count": 50,
   "metadata": {},
   "outputs": [
    {
     "name": "stdout",
     "output_type": "stream",
     "text": [
      "Southern Hemisphere:Regression between Latitude and Wind_Speed \n"
     ]
    },
    {
     "data": {
      "image/png": "[encoded data removed]",
      "text/plain": [
       "<Figure size 432x288 with 1 Axes>"
      ]
     },
     "metadata": {
      "needs_background": "light"
     },
     "output_type": "display_data"
    }
   ],
   "source": [
    "(slope,intercept,_,_,_)=linregress(x=Southern_df[\"lat\"],y=Southern_df[\"Wind_Speed\"])\n",
    "latitude =Southern_df .iloc[:,6]\n",
    "WindSpeed=Southern_df.iloc[:,9]\n",
    "fit=slope * latitude +intercept\n",
    "plt.scatter(x=Southern_df[\"lat\"],y=Southern_df[\"Wind_Speed\"],edgecolors=\"r\",facecolor=\"b\")\n",
    "plt.xlabel(\"Latitude\")\n",
    "plt.ylabel(\"Wind_Speed\")\n",
    "plt.title(\"Latitude Vs Wind_Speed  Regression\")\n",
    "plt.plot(latitude,fit,\"--\")\n",
    "print(\"Southern Hemisphere:Regression between Latitude and Wind_Speed \")\n"
   ]
  },
  {
   "cell_type": "code",
   "execution_count": null,
   "metadata": {},
   "outputs": [],
   "source": []
  }
 ],
 "metadata": {
  "anaconda-cloud": {},
  "kernel_info": {
   "name": "python3"
  },
  "kernelspec": {
   "display_name": "Python 3",
   "language": "python",
   "name": "python3"
  },
  "language_info": {
   "codemirror_mode": {
    "name": "ipython",
    "version": 3
   },
   "file_extension": ".py",
   "mimetype": "text/x-python",
   "name": "python",
   "nbconvert_exporter": "python",
   "pygments_lexer": "ipython3",
   "version": "3.7.6"
  },
  "latex_envs": {
   "LaTeX_envs_menu_present": true,
   "autoclose": false,
   "autocomplete": true,
   "bibliofile": "biblio.bib",
   "cite_by": "apalike",
   "current_citInitial": 1,
   "eqLabelWithNumbers": true,
   "eqNumInitial": 1,
   "hotkeys": {
    "equation": "Ctrl-E",
    "itemize": "Ctrl-I"
   },
   "labels_anchors": false,
   "latex_user_defs": false,
   "report_style_numbering": false,
   "user_envs_cfg": false
  },
  "nteract": {
   "version": "0.12.3"
  }
 },
 "nbformat": 4,
 "nbformat_minor": 4
}
