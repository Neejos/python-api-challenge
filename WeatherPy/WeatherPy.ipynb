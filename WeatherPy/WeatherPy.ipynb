{
 "cells": [
  {
   "cell_type": "markdown",
   "metadata": {},
   "source": [
    "# WeatherPy\n",
    "----\n",
    "\n",
    "#### Note\n",
    "* Instructions have been included for each segment. You do not have to follow them exactly, but they are included to help you think through the steps."
   ]
  },
  {
   "cell_type": "code",
   "execution_count": 1,
   "metadata": {
    "scrolled": true
   },
   "outputs": [],
   "source": [
    "# Dependencies and Setup\n",
    "import matplotlib.pyplot as plt\n",
    "import pandas as pd\n",
    "import numpy as np\n",
    "import requests\n",
    "import time\n",
    "from scipy.stats import linregress\n",
    "import json\n",
    "import csv\n",
    "import datetime\n",
    "\n",
    "# Import API key\n",
    "from api_keys import weather_api_key"
   ]
  },
  {
   "cell_type": "code",
   "execution_count": null,
   "metadata": {
    "scrolled": true
   },
   "outputs": [],
   "source": [
    "#pip install citipy\n"
   ]
  },
  {
   "cell_type": "code",
   "execution_count": 2,
   "metadata": {
    "scrolled": true
   },
   "outputs": [],
   "source": [
    "# Incorporated citipy to determine city based on latitude and longitude\n",
    "from citipy import citipy\n",
    "\n",
    "# Output File (CSV)\n",
    "output_data_file = \"output_data/cities.csv\"\n",
    "\n",
    "# Range of latitudes and longitudes\n",
    "lat_range = (-90, 90)\n",
    "lng_range = (-180, 180)"
   ]
  },
  {
   "cell_type": "markdown",
   "metadata": {},
   "source": [
    "## Generate Cities List"
   ]
  },
  {
   "cell_type": "code",
   "execution_count": 3,
   "metadata": {},
   "outputs": [
    {
     "data": {
      "text/plain": [
       "618"
      ]
     },
     "execution_count": 3,
     "metadata": {},
     "output_type": "execute_result"
    }
   ],
   "source": [
    "# List for holding lat_lngs and cities\n",
    "lat_lngs = []\n",
    "cities = []\n",
    "\n",
    "\n",
    "# Create a set of random lat and lng combinations\n",
    "lats = np.random.uniform(lat_range[0], lat_range[1], size=1500)\n",
    "lngs = np.random.uniform(lng_range[0], lng_range[1], size=1500)\n",
    "lat_lngs = zip(lats, lngs)\n",
    "\n",
    "# Identify nearest city for each lat, lng combination\n",
    "for lat_lng in lat_lngs:\n",
    "    city = citipy.nearest_city(lat_lng[0], lat_lng[1]).city_name\n",
    "    \n",
    "    # If the city is unique, then add it to a our cities list\n",
    "    if city not in cities:\n",
    "        cities.append(city)\n",
    "        \n",
    "# Print the city count to confirm sufficient count\n",
    "len(cities)"
   ]
  },
  {
   "cell_type": "code",
   "execution_count": null,
   "metadata": {},
   "outputs": [],
   "source": [
    "# Cities_df=pd.DataFrame({\"City Name\":cities})\n",
    "\n",
    "# Cities_df[\"Id\"]=\"\"\n",
    "# Cities_df[\"Country\"]=\"\"\n",
    "# Cities_df[\"Temp\"]=\"\"\n",
    "# Cities_df[\"Humidity\"]=\"\"\n",
    "# Cities_df.head()\n",
    "\n",
    "\n"
   ]
  },
  {
   "cell_type": "markdown",
   "metadata": {},
   "source": [
    "### Perform API Calls\n",
    "* Perform a weather check on each city using a series of successive API calls.\n",
    "* Include a print log of each city as it'sbeing processed (with the city number and city name).\n"
   ]
  },
  {
   "cell_type": "code",
   "execution_count": null,
   "metadata": {},
   "outputs": [],
   "source": [
    "# for index,row in Cities_df.iterrows():\n",
    "#     url = \"http://api.openweathermap.org/data/2.5/weather?\"\n",
    "# # Build query URL\n",
    "#     query_url = url + \"appid=\" + weather_api_key + \"&q=\" + row[\"City Name\"]\n",
    "#     print(query_url)\n",
    "#     CityName=row[\"City Name\"]\n",
    "#     weather_response = requests.get(query_url)\n",
    "#     weather_json = weather_response.json()\n",
    "#     weather_json=json.dumps(weather_json,indent=4)\n",
    "#     print(weather_json)\n",
    "    \n",
    "#     try:\n",
    "        \n",
    "#         Cities_df.loc[index,\"Id\"]=weather_json[\"id\"]\n",
    "#         Cities_df.loc[index,\"Country\"]=weather_json[\"sys\"][\"country\"] \n",
    "#         Cities_df.loc[index,\"Temp\"]=weather_json[\"main\"][\"temp\"]\n",
    "#         Cities_df.loc[index,\"Humidity\"]=weather_json[\"main\"][\"humidity\"]\n",
    "#         print(\"City Number:{},City Name:{} \".format(weather_json[\"id\"],CityName))\n",
    "              \n",
    "#     except (KeyError,IndexError):\n",
    "#          print(\"Info Not available...skipping\")\n",
    "\n",
    "     \n",
    "        "
   ]
  },
  {
   "cell_type": "code",
   "execution_count": 4,
   "metadata": {},
   "outputs": [
    {
     "name": "stdout",
     "output_type": "stream",
     "text": [
      "City Number:5983720,City Name:iqaluit \n",
      "Info Not available...skipping\n",
      "City Number:467120,City Name:yershov \n",
      "City Number:2123814,City Name:leningradskiy \n",
      "City Number:3386213,City Name:touros \n",
      "City Number:6185377,City Name:yellowknife \n",
      "City Number:589796,City Name:orissaare \n",
      "City Number:3874787,City Name:punta arenas \n",
      "City Number:5848280,City Name:kapaa \n",
      "City Number:4020109,City Name:atuona \n",
      "City Number:3146487,City Name:raudeberg \n",
      "City Number:5106841,City Name:albany \n",
      "City Number:3997017,City Name:luis moya \n",
      "Info Not available...skipping\n",
      "City Number:3418910,City Name:upernavik \n",
      "City Number:4032243,City Name:vaini \n",
      "City Number:2129376,City Name:kushiro \n",
      "City Number:2155415,City Name:new norfolk \n",
      "City Number:2208248,City Name:kaitangata \n",
      "City Number:964432,City Name:port alfred \n",
      "City Number:1651810,City Name:airai \n",
      "City Number:3663516,City Name:mancio lima \n",
      "City Number:3466704,City Name:castro \n",
      "City Number:3870243,City Name:taltal \n",
      "City Number:3374333,City Name:praya \n",
      "City Number:556268,City Name:ostrovnoy \n",
      "City Number:1106677,City Name:bambous virieux \n",
      "City Number:1015776,City Name:bredasdorp \n",
      "City Number:3430863,City Name:mar del plata \n",
      "City Number:4030556,City Name:rikitea \n",
      "City Number:1489661,City Name:tevriz \n",
      "City Number:933995,City Name:souillac \n",
      "City Number:5380437,City Name:pacific grove \n",
      "City Number:2109528,City Name:buala \n",
      "City Number:2033766,City Name:xingcheng \n",
      "Info Not available...skipping\n",
      "City Number:5855927,City Name:hilo \n",
      "City Number:1734098,City Name:keningau \n",
      "City Number:962367,City Name:richards bay \n",
      "City Number:3448903,City Name:sao joao da barra \n",
      "City Number:1520253,City Name:zharkent \n",
      "City Number:507875,City Name:pogar \n",
      "City Number:2176639,City Name:batemans bay \n",
      "City Number:6201424,City Name:mataura \n",
      "City Number:5104759,City Name:somerset \n",
      "City Number:2121385,City Name:severo-kurilsk \n",
      "City Number:2016412,City Name:smidovich \n",
      "City Number:1735799,City Name:sri aman \n",
      "City Number:3456137,City Name:nova olimpia \n",
      "City Number:1510030,City Name:biskamzha \n",
      "City Number:2171099,City Name:codrington \n",
      "City Number:1512019,City Name:aksarka \n",
      "City Number:293842,City Name:gat \n",
      "City Number:1583992,City Name:turan \n",
      "City Number:2059470,City Name:victor harbor \n",
      "City Number:2206939,City Name:bluff \n",
      "City Number:777682,City Name:skjervoy \n",
      "City Number:2137773,City Name:vao \n",
      "City Number:3833367,City Name:ushuaia \n",
      "Info Not available...skipping\n",
      "City Number:2629833,City Name:husavik \n",
      "City Number:1489656,City Name:teya \n",
      "City Number:4035715,City Name:avarua \n",
      "City Number:6089245,City Name:norman wells \n",
      "City Number:4031574,City Name:provideniya \n",
      "City Number:3372760,City Name:praia da vitoria \n",
      "City Number:3466980,City Name:caravelas \n",
      "City Number:4297581,City Name:lawrenceburg \n",
      "City Number:530196,City Name:malyye derbety \n",
      "Info Not available...skipping\n",
      "City Number:6111696,City Name:port-cartier \n",
      "City Number:4033557,City Name:tautira \n",
      "City Number:3454743,City Name:pau brasil \n",
      "City Number:686090,City Name:asau \n",
      "Info Not available...skipping\n",
      "City Number:3369157,City Name:cape town \n",
      "City Number:7601762,City Name:bairiki \n",
      "City Number:779683,City Name:hammerfest \n",
      "City Number:5563839,City Name:fortuna \n",
      "City Number:527321,City Name:mezen \n",
      "City Number:100926,City Name:umm lajj \n",
      "City Number:1283285,City Name:jumla \n",
      "City Number:3461289,City Name:indiaroba \n",
      "City Number:6111862,City Name:port hardy \n",
      "City Number:89113,City Name:ajdabiya \n",
      "City Number:986717,City Name:kruisfontein \n",
      "City Number:1631637,City Name:pemangkat \n",
      "City Number:3831208,City Name:qaanaaq \n",
      "City Number:1162094,City Name:ziarat \n",
      "City Number:2643044,City Name:margate \n",
      "City Number:1855540,City Name:naze \n",
      "City Number:964420,City Name:port elizabeth \n",
      "City Number:2075265,City Name:busselton \n",
      "City Number:5746545,City Name:portland \n",
      "City Number:5367788,City Name:lompoc \n",
      "City Number:2618795,City Name:klaksvik \n",
      "City Number:488593,City Name:staroutkinsk \n",
      "City Number:2610343,City Name:vestmanna \n",
      "City Number:1282256,City Name:hithadhoo \n",
      "City Number:2110227,City Name:butaritari \n",
      "City Number:1819729,City Name:victoria \n",
      "City Number:2112309,City Name:katsuura \n",
      "City Number:935215,City Name:saint-philippe \n",
      "City Number:2278158,City Name:buchanan \n",
      "City Number:2181001,City Name:tokomaru \n",
      "City Number:2122605,City Name:okhotsk \n",
      "Info Not available...skipping\n",
      "City Number:3424607,City Name:tasiilaq \n",
      "City Number:4863349,City Name:keokuk \n",
      "City Number:3883457,City Name:lebu \n",
      "City Number:3625066,City Name:zaraza \n",
      "City Number:5546220,City Name:saint george \n",
      "City Number:2027002,City Name:bayangol \n",
      "City Number:2729907,City Name:longyearbyen \n",
      "City Number:1622318,City Name:waingapu \n",
      "City Number:2287298,City Name:katiola \n",
      "City Number:1078553,City Name:ampanihy \n",
      "City Number:2156643,City Name:mount gambier \n",
      "City Number:2616172,City Name:nordby \n",
      "City Number:103630,City Name:najran \n",
      "City Number:2963388,City Name:kill \n",
      "City Number:3386177,City Name:trairi \n",
      "City Number:3366880,City Name:hermanus \n",
      "City Number:3423146,City Name:ilulissat \n",
      "City Number:2177069,City Name:ballina \n",
      "City Number:2969963,City Name:verdun \n",
      "City Number:1185270,City Name:bandarban \n",
      "City Number:3984997,City Name:san quintin \n",
      "City Number:934649,City Name:cap malheureux \n",
      "City Number:3691954,City Name:sechura \n",
      "City Number:5468773,City Name:gallup \n",
      "City Number:3358670,City Name:arandis \n",
      "City Number:5880054,City Name:barrow \n",
      "City Number:6170031,City Name:tuktoyaktuk \n",
      "City Number:6150293,City Name:smoky lake \n",
      "Info Not available...skipping\n",
      "City Number:3443061,City Name:chuy \n",
      "City Number:486874,City Name:suda \n",
      "City Number:6165406,City Name:thompson \n",
      "City Number:481985,City Name:torzhok \n",
      "City Number:3440777,City Name:rocha \n",
      "City Number:3652764,City Name:puerto ayora \n",
      "City Number:1801792,City Name:luoyang \n",
      "City Number:2015306,City Name:tiksi \n",
      "City Number:3441890,City Name:maldonado \n",
      "Info Not available...skipping\n",
      "City Number:3985710,City Name:cabo san lucas \n",
      "City Number:4429295,City Name:hattiesburg \n",
      "City Number:3382867,City Name:totness \n",
      "City Number:1500933,City Name:labytnangi \n",
      "Info Not available...skipping\n",
      "City Number:5866583,City Name:kodiak \n",
      "City Number:1215957,City Name:termiz \n",
      "City Number:3393692,City Name:itarema \n",
      "City Number:3466165,City Name:cidreira \n",
      "City Number:3158615,City Name:eidsvag \n",
      "Info Not available...skipping\n",
      "City Number:199284,City Name:chuka \n",
      "City Number:2281120,City Name:tabou \n",
      "City Number:2206874,City Name:waipawa \n",
      "Info Not available...skipping\n",
      "City Number:1006984,City Name:east london \n",
      "Info Not available...skipping\n",
      "City Number:2126785,City Name:belaya gora \n",
      "City Number:1735106,City Name:georgetown \n",
      "City Number:3470137,City Name:belmonte \n",
      "City Number:1061412,City Name:mananara \n",
      "City Number:3085045,City Name:sroda wielkopolska \n",
      "City Number:6050066,City Name:la ronge \n",
      "City Number:546105,City Name:nikolskoye \n",
      "City Number:2965402,City Name:clonakilty \n",
      "Info Not available...skipping\n",
      "City Number:2018735,City Name:nyurba \n",
      "City Number:6060839,City Name:louiseville \n",
      "City Number:2022572,City Name:khatanga \n",
      "City Number:3894426,City Name:coihaique \n",
      "City Number:5122534,City Name:jamestown \n",
      "City Number:5836068,City Name:rawlins \n",
      "City Number:1259385,City Name:port blair \n",
      "Info Not available...skipping\n",
      "City Number:2163355,City Name:hobart \n",
      "City Number:2017155,City Name:saskylakh \n",
      "City Number:3395458,City Name:maragogi \n",
      "City Number:2732265,City Name:viseu \n",
      "City Number:2264557,City Name:ponta do sol \n",
      "City Number:534206,City Name:lopatino \n",
      "City Number:230299,City Name:kyenjojo \n",
      "Info Not available...skipping\n",
      "City Number:3578447,City Name:sainte-rose \n",
      "City Number:1790645,City Name:xiamen \n",
      "City Number:6160362,City Name:swan river \n",
      "City Number:2126123,City Name:chokurdakh \n",
      "City Number:8079926,City Name:labuhan \n",
      "City Number:1263942,City Name:manavalakurichi \n",
      "City Number:2074865,City Name:carnarvon \n",
      "City Number:1629965,City Name:tanete \n",
      "City Number:5919915,City Name:chapleau \n",
      "City Number:198629,City Name:eldoret \n",
      "City Number:3420768,City Name:qasigiannguit \n",
      "Info Not available...skipping\n",
      "City Number:525426,City Name:sobolevo \n",
      "City Number:2128025,City Name:shizunai \n",
      "City Number:143127,City Name:arak \n",
      "City Number:1489853,City Name:tazovskiy \n",
      "City Number:3939168,City Name:huarmey \n",
      "City Number:1490256,City Name:talnakh \n",
      "City Number:1607730,City Name:phibun mangsahan \n",
      "City Number:3137469,City Name:sorland \n",
      "City Number:3932145,City Name:pisco \n",
      "City Number:3380450,City Name:roura \n",
      "City Number:7671223,City Name:kloulklubed \n",
      "City Number:2157698,City Name:mildura \n",
      "City Number:3372745,City Name:rabo de peixe \n",
      "City Number:2070998,City Name:geraldton \n",
      "City Number:2120591,City Name:tilichiki \n",
      "Info Not available...skipping\n",
      "City Number:2013279,City Name:vostok \n",
      "City Number:2122090,City Name:pevek \n",
      "City Number:214614,City Name:kamina \n",
      "City Number:3381538,City Name:grand-santi \n",
      "City Number:3355672,City Name:luderitz \n",
      "City Number:779350,City Name:karasjok \n",
      "City Number:1059051,City Name:miandrivazo \n",
      "City Number:2322794,City Name:suleja \n",
      "City Number:3421765,City Name:nanortalik \n",
      "City Number:5924351,City Name:clyde river \n",
      "City Number:5847411,City Name:kahului \n",
      "City Number:3463573,City Name:faxinal \n",
      "City Number:2138555,City Name:poum \n",
      "City Number:4031637,City Name:lavrentiya \n",
      "City Number:2214846,City Name:misratah \n",
      "City Number:3450083,City Name:santa maria \n",
      "City Number:2031964,City Name:darhan \n",
      "City Number:3893629,City Name:coquimbo \n",
      "City Number:6541964,City Name:gela \n",
      "City Number:4036284,City Name:alofi \n",
      "City Number:1293625,City Name:dawei \n",
      "City Number:3654541,City Name:macas \n",
      "City Number:5861897,City Name:fairbanks \n",
      "City Number:1261227,City Name:nokha \n",
      "City Number:6167817,City Name:torbay \n",
      "Info Not available...skipping\n",
      "City Number:5826559,City Name:green river \n",
      "City Number:1507390,City Name:dikson \n",
      "City Number:2077895,City Name:alice springs \n",
      "City Number:535839,City Name:leshukonskoye \n",
      "City Number:2409914,City Name:bonthe \n",
      "City Number:1803331,City Name:linxia \n",
      "City Number:5364271,City Name:laguna \n",
      "City Number:3521972,City Name:panaba \n",
      "Info Not available...skipping\n",
      "City Number:3453060,City Name:pontes e lacerda \n",
      "City Number:3985168,City Name:san patricio \n",
      "City Number:2155562,City Name:nelson bay \n",
      "City Number:2377457,City Name:nouadhibou \n",
      "City Number:5978133,City Name:hudson bay \n",
      "City Number:3361934,City Name:saldanha \n",
      "City Number:2126199,City Name:cherskiy \n",
      "City Number:6149996,City Name:smithers \n",
      "City Number:2514651,City Name:los llanos de aridane \n",
      "City Number:2065594,City Name:mount isa \n",
      "City Number:1264527,City Name:madras \n",
      "City Number:2259655,City Name:impfondo \n",
      "City Number:317241,City Name:demirci \n",
      "City Number:5887916,City Name:athabasca \n",
      "City Number:1529376,City Name:korla \n",
      "City Number:2986626,City Name:plouzane \n",
      "City Number:487498,City Name:sterlibashevo \n",
      "Info Not available...skipping\n",
      "City Number:2167426,City Name:emerald \n",
      "City Number:1524325,City Name:ekibastuz \n",
      "City Number:777019,City Name:vardo \n",
      "City Number:3380290,City Name:sinnamary \n",
      "City Number:6067472,City Name:marystown \n",
      "Info Not available...skipping\n",
      "City Number:1624545,City Name:tayu \n",
      "City Number:3359638,City Name:walvis bay \n",
      "City Number:5735537,City Name:la grande \n",
      "City Number:5973108,City Name:hearst \n",
      "City Number:2303611,City Name:axim \n",
      "City Number:1633419,City Name:padang \n",
      "City Number:1079088,City Name:ambositra \n",
      "City Number:5882953,City Name:aklavik \n",
      "City Number:5282297,City Name:bethel \n",
      "City Number:216281,City Name:goma \n",
      "City Number:1649150,City Name:bengkulu \n",
      "City Number:3419842,City Name:sisimiut \n",
      "City Number:4034551,City Name:faanui \n",
      "City Number:286621,City Name:salalah \n",
      "City Number:2178753,City Name:kirakira \n",
      "City Number:2446796,City Name:bilma \n",
      "City Number:3471451,City Name:arraial do cabo \n",
      "City Number:3141667,City Name:roald \n",
      "City Number:3372707,City Name:ribeira grande \n",
      "City Number:1242110,City Name:kalmunai \n",
      "City Number:3520994,City Name:puerto escondido \n",
      "City Number:2239862,City Name:malanje \n",
      "City Number:4021858,City Name:guerrero negro \n",
      "City Number:4721703,City Name:raymondville \n",
      "City Number:1529484,City Name:hami \n",
      "Info Not available...skipping\n",
      "City Number:1496073,City Name:orlik \n",
      "City Number:5431716,City Name:montrose \n",
      "City Number:300617,City Name:sivas \n",
      "City Number:1505187,City Name:kaa-khem \n",
      "City Number:653272,City Name:kemijarvi \n",
      "City Number:4562996,City Name:cabo rojo \n",
      "City Number:2961129,City Name:tower \n",
      "Info Not available...skipping\n",
      "City Number:3354876,City Name:okakarara \n",
      "City Number:3697838,City Name:contamana \n",
      "City Number:2092164,City Name:lorengau \n",
      "Info Not available...skipping\n",
      "City Number:1502257,City Name:kozhevnikovo \n",
      "City Number:3421719,City Name:narsaq \n",
      "Info Not available...skipping\n",
      "City Number:4013593,City Name:cocorit \n",
      "City Number:2021017,City Name:kysyl-syr \n",
      "City Number:2122104,City Name:petropavlovsk-kamchatskiy \n",
      "City Number:1734971,City Name:pekan \n",
      "City Number:935616,City Name:le port \n",
      "City Number:1651103,City Name:atambua \n",
      "Info Not available...skipping\n",
      "City Number:2036069,City Name:linjiang \n",
      "City Number:2189343,City Name:kaeo \n",
      "City Number:2521335,City Name:barbate \n",
      "City Number:1862505,City Name:hirara \n",
      "City Number:2063056,City Name:port augusta \n",
      "City Number:2152659,City Name:port macquarie \n",
      "City Number:1645528,City Name:denpasar \n",
      "City Number:3833859,City Name:tres arroyos \n",
      "City Number:290030,City Name:doha \n",
      "City Number:1511057,City Name:bakchar \n",
      "City Number:2665171,City Name:vanersborg \n",
      "City Number:3372783,City Name:ponta delgada \n",
      "City Number:3580477,City Name:west bay \n",
      "City Number:2212775,City Name:sabha \n",
      "City Number:1214488,City Name:meulaboh \n",
      "City Number:3391889,City Name:pitimbu \n",
      "City Number:3151056,City Name:inndyr \n",
      "City Number:5536630,City Name:cedar city \n",
      "City Number:2636276,City Name:tamworth \n",
      "City Number:5850554,City Name:makakilo city \n",
      "City Number:580862,City Name:arshan \n",
      "City Number:6355222,City Name:yulara \n",
      "City Number:3449124,City Name:sao francisco de assis \n",
      "City Number:3899695,City Name:ancud \n",
      "City Number:3840300,City Name:presidencia roque saenz pena \n",
      "City Number:1492517,City Name:shadrinsk \n",
      "City Number:1079048,City Name:ambovombe \n",
      "City Number:4255151,City Name:bud \n",
      "City Number:2027244,City Name:bagdarin \n",
      "City Number:1734715,City Name:marang \n",
      "City Number:2173911,City Name:broken hill \n",
      "City Number:3175096,City Name:lasa \n",
      "City Number:3902377,City Name:trinidad \n",
      "Info Not available...skipping\n",
      "City Number:2396518,City Name:port-gentil \n",
      "City Number:2512186,City Name:puerto del rosario \n",
      "Info Not available...skipping\n",
      "City Number:2146219,City Name:hervey bay \n",
      "City Number:2235776,City Name:akonolinga \n",
      "City Number:3468349,City Name:cacule \n",
      "City Number:371745,City Name:kutum \n",
      "City Number:2037078,City Name:hailar \n",
      "City Number:3981391,City Name:tomatlan \n",
      "City Number:2136825,City Name:isangel \n",
      "City Number:5849996,City Name:lahaina \n",
      "City Number:937136,City Name:zeerust \n",
      "City Number:3868633,City Name:vallenar \n",
      "City Number:162158,City Name:baherden \n",
      "Info Not available...skipping\n",
      "City Number:2235194,City Name:ombessa \n",
      "City Number:3517970,City Name:pochutla \n",
      "City Number:2063042,City Name:port hedland \n",
      "City Number:1267390,City Name:kavaratti \n",
      "City Number:2282006,City Name:san-pedro \n",
      "City Number:1035025,City Name:nacala \n",
      "City Number:1244926,City Name:hambantota \n",
      "City Number:3401148,City Name:cururupu \n",
      "City Number:2194098,City Name:ahipara \n",
      "City Number:204953,City Name:tshikapa \n",
      "City Number:3163146,City Name:andenes \n",
      "City Number:1280037,City Name:shache \n",
      "City Number:3939761,City Name:hualmay \n",
      "City Number:4004394,City Name:indaparapeo \n",
      "City Number:1066310,City Name:betioky \n",
      "City Number:933184,City Name:otse \n",
      "City Number:511416,City Name:perelyub \n",
      "City Number:235826,City Name:zemio \n",
      "City Number:3382160,City Name:cayenne \n",
      "City Number:2210554,City Name:surt \n",
      "City Number:1624725,City Name:tarakan \n",
      "City Number:1267635,City Name:karwar \n",
      "City Number:5919850,City Name:chapais \n",
      "City Number:1591474,City Name:bac lieu \n",
      "City Number:1856392,City Name:muroto \n",
      "City Number:1486321,City Name:yar-sale \n",
      "City Number:3664980,City Name:boa vista \n",
      "City Number:1805733,City Name:jinchang \n",
      "City Number:1686123,City Name:siocon \n",
      "City Number:3925227,City Name:brasileia \n",
      "City Number:921786,City Name:mitsamiouli \n",
      "City Number:2094027,City Name:kieta \n",
      "Info Not available...skipping\n",
      "City Number:2849476,City Name:regenstauf \n",
      "City Number:550973,City Name:kerva \n",
      "City Number:1160571,City Name:khash \n",
      "City Number:3628423,City Name:san felipe \n",
      "City Number:3372964,City Name:lagoa \n",
      "City Number:264878,City Name:ano mera \n",
      "City Number:1259756,City Name:phulabani \n",
      "City Number:3392126,City Name:pilar \n",
      "City Number:1623197,City Name:tual \n",
      "City Number:3355624,City Name:maltahohe \n",
      "City Number:2255304,City Name:sembe \n",
      "City Number:5815135,City Name:washington \n",
      "City Number:3996737,City Name:maneadero \n",
      "City Number:2191562,City Name:dunedin \n",
      "Info Not available...skipping\n",
      "City Number:1816705,City Name:beihai \n",
      "City Number:1626895,City Name:sinjai \n",
      "City Number:1490085,City Name:tarko-sale \n",
      "City Number:6138802,City Name:saint-michel-des-saints \n",
      "City Number:4301317,City Name:morehead \n",
      "City Number:2122262,City Name:palana \n",
      "City Number:2110560,City Name:yamada \n",
      "City Number:632370,City Name:varkaus \n",
      "City Number:780687,City Name:berlevag \n",
      "City Number:5866063,City Name:kenai \n",
      "City Number:2172797,City Name:cairns \n",
      "City Number:2094342,City Name:kavieng \n",
      "City Number:2399371,City Name:makokou \n",
      "City Number:3445026,City Name:vila velha \n",
      "City Number:3860443,City Name:comodoro rivadavia \n",
      "City Number:5983607,City Name:inuvik \n",
      "City Number:2027042,City Name:batagay-alyta \n",
      "City Number:330120,City Name:nedjo \n",
      "City Number:2314705,City Name:kikwit \n",
      "City Number:3356832,City Name:henties bay \n",
      "City Number:6255012,City Name:flinders \n",
      "City Number:3420846,City Name:qaqortoq \n",
      "City Number:3085978,City Name:sieradz \n",
      "City Number:2027740,City Name:amurzet \n",
      "City Number:3439348,City Name:benjamin aceval \n",
      "Info Not available...skipping\n",
      "City Number:747764,City Name:duzce \n",
      "City Number:2026786,City Name:berezovyy \n",
      "Info Not available...skipping\n",
      "City Number:3095321,City Name:konin \n",
      "City Number:1502073,City Name:krasnoselkup \n",
      "City Number:5987650,City Name:joliette \n",
      "City Number:3445630,City Name:vacaria \n",
      "City Number:1082243,City Name:ambilobe \n",
      "City Number:1067565,City Name:beloha \n",
      "Info Not available...skipping\n",
      "City Number:1804979,City Name:juegang \n",
      "City Number:4231997,City Name:avera \n",
      "City Number:3430443,City Name:necochea \n",
      "City Number:3393536,City Name:olinda \n",
      "City Number:2032614,City Name:baruun-urt \n",
      "City Number:236524,City Name:rafai \n",
      "City Number:2180815,City Name:tuatapere \n",
      "City Number:5847486,City Name:kailua \n",
      "City Number:245785,City Name:abeche \n",
      "City Number:3448257,City Name:sao sebastiao \n",
      "City Number:1488903,City Name:turukhansk \n",
      "City Number:2138285,City Name:tadine \n",
      "City Number:3584003,City Name:puerto el triunfo \n",
      "City Number:210939,City Name:luebo \n",
      "Info Not available...skipping\n",
      "City Number:1629380,City Name:ruteng \n",
      "City Number:688455,City Name:yaremche \n",
      "City Number:3868210,City Name:vilcun \n",
      "City Number:1855342,City Name:nishihara \n",
      "City Number:1684803,City Name:tabuk \n",
      "City Number:1733782,City Name:labuan \n",
      "City Number:3450376,City Name:santa cecilia \n",
      "City Number:2127282,City Name:aleksandrovsk-sakhalinskiy \n",
      "City Number:5368335,City Name:los altos \n",
      "City Number:2063036,City Name:port lincoln \n",
      "City Number:153955,City Name:micheweni \n",
      "City Number:2122614,City Name:okha \n",
      "City Number:3347019,City Name:namibe \n",
      "City Number:2068110,City Name:kununurra \n",
      "City Number:5969025,City Name:haines junction \n",
      "City Number:3628473,City Name:san cristobal \n",
      "City Number:5197850,City Name:lewistown \n",
      "City Number:1790437,City Name:zhuhai \n",
      "City Number:3923570,City Name:atocha \n",
      "City Number:5870133,City Name:nome \n",
      "City Number:1337617,City Name:muli \n",
      "City Number:2276492,City Name:harper \n",
      "City Number:1264860,City Name:lodhikheda \n",
      "City Number:3414079,City Name:olafsvik \n",
      "City Number:3115824,City Name:muros \n",
      "City Number:515879,City Name:oktyabrskiy \n",
      "City Number:1528998,City Name:yumen \n",
      "City Number:2123979,City Name:kurilsk \n",
      "City Number:583041,City Name:aleksandrovsk \n",
      "City Number:2021041,City Name:kyra \n",
      "City Number:5404476,City Name:ukiah \n",
      "Info Not available...skipping\n",
      "City Number:1511646,City Name:andra \n",
      "City Number:2381972,City Name:adrar \n",
      "City Number:540761,City Name:kropotkin \n",
      "City Number:3430545,City Name:moron \n",
      "Info Not available...skipping\n",
      "Info Not available...skipping\n",
      "City Number:3576994,City Name:cockburn town \n",
      "City Number:2019135,City Name:nizhniy kuranakh \n",
      "City Number:174448,City Name:abu kamal \n",
      "City Number:5030005,City Name:hibbing \n",
      "City Number:2037485,City Name:erenhot \n",
      "City Number:2082539,City Name:merauke \n",
      "City Number:2510573,City Name:teguise \n",
      "City Number:2332453,City Name:lagos \n",
      "City Number:921906,City Name:domoni \n",
      "City Number:456827,City Name:pavilosta \n",
      "Info Not available...skipping\n",
      "City Number:1855612,City Name:nara \n",
      "City Number:1518768,City Name:stepnyak \n",
      "City Number:217695,City Name:bunia \n",
      "City Number:5359864,City Name:isla vista \n",
      "City Number:2630299,City Name:hofn \n",
      "City Number:5742974,City Name:north bend \n",
      "City Number:468747,City Name:yashkul \n",
      "City Number:2108857,City Name:gizo \n",
      "City Number:5710360,City Name:winnemucca \n",
      "City Number:1337619,City Name:ugoofaaru \n",
      "City Number:2738381,City Name:lata \n",
      "Info Not available...skipping\n",
      "City Number:2122574,City Name:ola \n",
      "City Number:2088122,City Name:port moresby \n",
      "City Number:3616726,City Name:san juan del sur \n",
      "City Number:2937959,City Name:bone \n",
      "City Number:6144312,City Name:sept-iles \n",
      "City Number:5354943,City Name:half moon bay \n",
      "City Number:305681,City Name:kumluca \n",
      "City Number:299582,City Name:tatvan \n",
      "City Number:934322,City Name:mahebourg \n",
      "City Number:2071860,City Name:esperance \n",
      "Info Not available...skipping\n",
      "City Number:471501,City Name:vostochnyy \n",
      "City Number:2025456,City Name:chernyshevskiy \n",
      "City Number:3571913,City Name:marsh harbour \n",
      "City Number:2662149,City Name:ystad \n",
      "City Number:2112802,City Name:hasaki \n",
      "City Number:2028164,City Name:deputatskiy \n",
      "City Number:4997130,City Name:ingham \n",
      "Info Not available...skipping\n",
      "City Number:2121025,City Name:srednekolymsk \n",
      "City Number:2509951,City Name:valencia \n",
      "City Number:655563,City Name:joutseno \n",
      "City Number:1714733,City Name:dingle \n",
      "City Number:3351663,City Name:benguela \n",
      "City Number:2450173,City Name:taoudenni \n",
      "City Number:4513583,City Name:hamilton \n",
      "City Number:2392087,City Name:porto novo \n",
      "City Number:108410,City Name:riyadh \n",
      "City Number:1504769,City Name:kamyshlov \n",
      "City Number:3374333,City Name:praia \n",
      "City Number:2229798,City Name:kousseri \n",
      "City Number:6111867,City Name:port hawkesbury \n",
      "City Number:207596,City Name:mweka \n",
      "City Number:933077,City Name:shakawe \n",
      "City Number:2138522,City Name:poya \n",
      "City Number:3838859,City Name:rio gallegos \n",
      "City Number:6180550,City Name:whitehorse \n",
      "City Number:3174050,City Name:mantua \n",
      "City Number:5392952,City Name:santa barbara \n",
      "City Number:359796,City Name:suez \n",
      "City Number:2017658,City Name:preobrazheniye \n",
      "City Number:2397978,City Name:mounana \n",
      "City Number:4791259,City Name:virginia beach \n",
      "City Number:1794209,City Name:simao \n",
      "City Number:186180,City Name:moyale \n",
      "City Number:2457161,City Name:gao \n",
      "City Number:2108502,City Name:honiara \n",
      "City Number:1262469,City Name:munirabad \n",
      "City Number:3702431,City Name:puerto armuelles \n",
      "City Number:2284589,City Name:mankono \n",
      "City Number:5039173,City Name:new ulm \n",
      "City Number:2012593,City Name:zeya \n",
      "City Number:1266122,City Name:korba \n",
      "City Number:1153241,City Name:huai yot \n",
      "City Number:2119447,City Name:yuzhno-kurilsk \n",
      "City Number:161616,City Name:balkanabat \n",
      "City Number:477940,City Name:ust-tsilma \n",
      "City Number:1268022,City Name:kankon \n",
      "City Number:1253694,City Name:uri \n",
      "City Number:1147511,City Name:bagrami \n",
      "City Number:732770,City Name:burgas \n",
      "City Number:5188140,City Name:easton \n",
      "City Number:333795,City Name:jijiga \n",
      "City Number:513329,City Name:ozinki \n",
      "City Number:3421319,City Name:nuuk \n",
      "City Number:5955902,City Name:fort nelson \n",
      "City Number:934479,City Name:grand gaube \n",
      "City Number:2701680,City Name:karlstad \n",
      "City Number:6943832,City Name:riviere-au-renard \n",
      "Info Not available...skipping\n",
      "City Number:2027296,City Name:aykhal \n",
      "City Number:2343822,City Name:eha amufu \n",
      "City Number:2455290,City Name:kidal \n",
      "City Number:523662,City Name:nadvoitsy \n",
      "City Number:2160735,City Name:lakes entrance \n",
      "Info Not available...skipping\n",
      "City Number:2218840,City Name:bani walid \n",
      "City Number:1852357,City Name:shimoda \n",
      "City Number:4047434,City Name:russell \n",
      "City Number:1222396,City Name:kuah \n",
      "City Number:2449893,City Name:tessalit \n",
      "City Number:2413419,City Name:gunjur \n",
      "City Number:3372472,City Name:vila franca do campo \n",
      "City Number:505820,City Name:povenets \n",
      "City Number:2996268,City Name:manica \n",
      "City Number:5117949,City Name:freeport \n"
     ]
    }
   ],
   "source": [
    "ID=[]\n",
    "Country=[]\n",
    "MaxTemp=[]\n",
    "Humidity=[]\n",
    "lat=[]\n",
    "lng=[]\n",
    "Cloudiness=[]\n",
    "Wind_Speed=[]\n",
    "CityName=[]\n",
    "Date=[]\n",
    "\n",
    "units=\"Imperial\"\n",
    "\n",
    "for city in cities:\n",
    "    url = \"http://api.openweathermap.org/data/2.5/weather?\"\n",
    "# # Build query URL\n",
    "    query_url = url + \"appid=\" + weather_api_key + \"&q=\" + city + \"&units=\" + units\n",
    "     \n",
    "    weather_response = requests.get(query_url)\n",
    "    weather_data = weather_response.json()\n",
    "    weather_json=json.dumps(weather_data,indent=4,sort_keys=True)\n",
    "    \n",
    "    \n",
    "    \n",
    "    try:\n",
    "        \n",
    "        ID.append(weather_data[\"id\"])\n",
    "        CityName.append(weather_data[\"name\"])\n",
    "        Country.append(weather_data[\"sys\"][\"country\"])\n",
    "        Date.append(weather_data[\"dt\"])\n",
    "        MaxTemp.append(weather_data[\"main\"][\"temp_max\"])\n",
    "        Humidity.append(weather_data[\"main\"][\"humidity\"])\n",
    "        Cloudiness.append(weather_data[\"clouds\"][\"all\"])\n",
    "        lat.append(weather_data[\"coord\"][\"lat\"])\n",
    "        lng.append(weather_data[\"coord\"][\"lon\"])\n",
    "        Wind_Speed.append(weather_data[\"wind\"][\"speed\"])\n",
    "        \n",
    "        print(\"City Number:{},City Name:{} \".format(weather_data[\"id\"],city))\n",
    "              \n",
    "    except (KeyError,IndexError):\n",
    "       print(\"Info Not available...skipping\")\n",
    "\n",
    "    \n",
    "    "
   ]
  },
  {
   "cell_type": "markdown",
   "metadata": {},
   "source": [
    "### Convert Raw Data to DataFrame\n",
    "* Export the city data into a .csv.\n",
    "* Display the DataFrame"
   ]
  },
  {
   "cell_type": "code",
   "execution_count": 5,
   "metadata": {},
   "outputs": [],
   "source": [
    "output_file=\"city_data.csv\"\n",
    "\n",
    "FormattedDate=[]\n",
    "fields=[\"ID\",\"City Name\",\"Country\",\"Date\",\"MaxTemp\",\"Humidity\",\"lat\",\"lng\",\"Cloudiness\",\"Wind_Speed\",\"Formatted Date\"]\n",
    "for item in Date:\n",
    "    FormattedDate.append(datetime.date.fromtimestamp(item))\n",
    "   # City_data_df[\"Formatted Date\"]=Date[item]\n",
    "#City_data_df.head()\n",
    "\n",
    "#change the list of column items  to rows to write to csv\n",
    "rows=zip(ID,CityName,Country,Date,MaxTemp,Humidity,lat,lng,Cloudiness,Wind_Speed,FormattedDate,)\n",
    "with open(output_file,'w',encoding='UTF-8') as csvfile:\n",
    "    # creating a csv writer object  \n",
    "    csvwriter = csv.writer(csvfile)  \n",
    "        \n",
    "    # writing the fields  \n",
    "    csvwriter.writerow(fields)  \n",
    "        \n",
    "    # writing the data rows  \n",
    "    for row in rows:\n",
    "        csvwriter.writerow(row) \n",
    "\n",
    "    "
   ]
  },
  {
   "cell_type": "code",
   "execution_count": 6,
   "metadata": {},
   "outputs": [
    {
     "data": {
      "text/html": [
       "<div>\n",
       "<style scoped>\n",
       "    .dataframe tbody tr th:only-of-type {\n",
       "        vertical-align: middle;\n",
       "    }\n",
       "\n",
       "    .dataframe tbody tr th {\n",
       "        vertical-align: top;\n",
       "    }\n",
       "\n",
       "    .dataframe thead th {\n",
       "        text-align: right;\n",
       "    }\n",
       "</style>\n",
       "<table border=\"1\" class=\"dataframe\">\n",
       "  <thead>\n",
       "    <tr style=\"text-align: right;\">\n",
       "      <th></th>\n",
       "      <th>ID</th>\n",
       "      <th>City Name</th>\n",
       "      <th>Country</th>\n",
       "      <th>Date</th>\n",
       "      <th>MaxTemp</th>\n",
       "      <th>Humidity</th>\n",
       "      <th>lat</th>\n",
       "      <th>lng</th>\n",
       "      <th>Cloudiness</th>\n",
       "      <th>Wind_Speed</th>\n",
       "      <th>Formatted Date</th>\n",
       "    </tr>\n",
       "  </thead>\n",
       "  <tbody>\n",
       "    <tr>\n",
       "      <th>0</th>\n",
       "      <td>5983720</td>\n",
       "      <td>Iqaluit</td>\n",
       "      <td>CA</td>\n",
       "      <td>1595473742</td>\n",
       "      <td>48.20</td>\n",
       "      <td>87</td>\n",
       "      <td>63.75</td>\n",
       "      <td>-68.51</td>\n",
       "      <td>90</td>\n",
       "      <td>8.05</td>\n",
       "      <td>2020-07-22</td>\n",
       "    </tr>\n",
       "    <tr>\n",
       "      <th>1</th>\n",
       "      <td>467120</td>\n",
       "      <td>Yershov</td>\n",
       "      <td>RU</td>\n",
       "      <td>1595473742</td>\n",
       "      <td>67.77</td>\n",
       "      <td>69</td>\n",
       "      <td>51.35</td>\n",
       "      <td>48.28</td>\n",
       "      <td>0</td>\n",
       "      <td>5.93</td>\n",
       "      <td>2020-07-22</td>\n",
       "    </tr>\n",
       "    <tr>\n",
       "      <th>2</th>\n",
       "      <td>2123814</td>\n",
       "      <td>Leningradskiy</td>\n",
       "      <td>RU</td>\n",
       "      <td>1595473743</td>\n",
       "      <td>64.11</td>\n",
       "      <td>38</td>\n",
       "      <td>69.38</td>\n",
       "      <td>178.42</td>\n",
       "      <td>100</td>\n",
       "      <td>7.96</td>\n",
       "      <td>2020-07-22</td>\n",
       "    </tr>\n",
       "    <tr>\n",
       "      <th>3</th>\n",
       "      <td>3386213</td>\n",
       "      <td>Touros</td>\n",
       "      <td>BR</td>\n",
       "      <td>1595473743</td>\n",
       "      <td>75.20</td>\n",
       "      <td>78</td>\n",
       "      <td>-5.20</td>\n",
       "      <td>-35.46</td>\n",
       "      <td>75</td>\n",
       "      <td>9.17</td>\n",
       "      <td>2020-07-22</td>\n",
       "    </tr>\n",
       "    <tr>\n",
       "      <th>4</th>\n",
       "      <td>6185377</td>\n",
       "      <td>Yellowknife</td>\n",
       "      <td>CA</td>\n",
       "      <td>1595473743</td>\n",
       "      <td>66.00</td>\n",
       "      <td>100</td>\n",
       "      <td>62.46</td>\n",
       "      <td>-114.35</td>\n",
       "      <td>75</td>\n",
       "      <td>6.93</td>\n",
       "      <td>2020-07-22</td>\n",
       "    </tr>\n",
       "  </tbody>\n",
       "</table>\n",
       "</div>"
      ],
      "text/plain": [
       "        ID      City Name Country        Date  MaxTemp  Humidity    lat  \\\n",
       "0  5983720        Iqaluit      CA  1595473742    48.20        87  63.75   \n",
       "1   467120        Yershov      RU  1595473742    67.77        69  51.35   \n",
       "2  2123814  Leningradskiy      RU  1595473743    64.11        38  69.38   \n",
       "3  3386213         Touros      BR  1595473743    75.20        78  -5.20   \n",
       "4  6185377    Yellowknife      CA  1595473743    66.00       100  62.46   \n",
       "\n",
       "      lng  Cloudiness  Wind_Speed Formatted Date  \n",
       "0  -68.51          90        8.05     2020-07-22  \n",
       "1   48.28           0        5.93     2020-07-22  \n",
       "2  178.42         100        7.96     2020-07-22  \n",
       "3  -35.46          75        9.17     2020-07-22  \n",
       "4 -114.35          75        6.93     2020-07-22  "
      ]
     },
     "execution_count": 6,
     "metadata": {},
     "output_type": "execute_result"
    }
   ],
   "source": [
    "City_data_df=pd.read_csv('city_data.csv', sep = ',')\n",
    "City_data_df.head()"
   ]
  },
  {
   "cell_type": "code",
   "execution_count": 9,
   "metadata": {},
   "outputs": [
    {
     "name": "stdout",
     "output_type": "stream",
     "text": [
      "<class 'pandas.core.frame.DataFrame'>\n",
      "RangeIndex: 573 entries, 0 to 572\n",
      "Data columns (total 11 columns):\n",
      " #   Column          Non-Null Count  Dtype  \n",
      "---  ------          --------------  -----  \n",
      " 0   ID              573 non-null    int64  \n",
      " 1   City Name       573 non-null    object \n",
      " 2   Country         567 non-null    object \n",
      " 3   Date            573 non-null    int64  \n",
      " 4   MaxTemp         573 non-null    float64\n",
      " 5   Humidity        573 non-null    int64  \n",
      " 6   lat             573 non-null    float64\n",
      " 7   lng             573 non-null    float64\n",
      " 8   Cloudiness      573 non-null    int64  \n",
      " 9   Wind_Speed      573 non-null    float64\n",
      " 10  Formatted Date  573 non-null    object \n",
      "dtypes: float64(4), int64(4), object(3)\n",
      "memory usage: 49.4+ KB\n"
     ]
    },
    {
     "data": {
      "text/plain": [
       "572"
      ]
     },
     "execution_count": 9,
     "metadata": {},
     "output_type": "execute_result"
    }
   ],
   "source": [
    "City_data_df.info()\n",
    "#To check if there are duplicates for the cities.\n",
    "a=City_data_df[\"City Name\"].unique()\n",
    "len(a)\n"
   ]
  },
  {
   "cell_type": "markdown",
   "metadata": {},
   "source": [
    "## Inspect the data and remove the cities where the humidity > 100%.\n",
    "----\n",
    "Skip this step if there are no cities that have humidity > 100%. "
   ]
  },
  {
   "cell_type": "code",
   "execution_count": 11,
   "metadata": {},
   "outputs": [
    {
     "data": {
      "text/html": [
       "<div>\n",
       "<style scoped>\n",
       "    .dataframe tbody tr th:only-of-type {\n",
       "        vertical-align: middle;\n",
       "    }\n",
       "\n",
       "    .dataframe tbody tr th {\n",
       "        vertical-align: top;\n",
       "    }\n",
       "\n",
       "    .dataframe thead th {\n",
       "        text-align: right;\n",
       "    }\n",
       "</style>\n",
       "<table border=\"1\" class=\"dataframe\">\n",
       "  <thead>\n",
       "    <tr style=\"text-align: right;\">\n",
       "      <th></th>\n",
       "      <th>ID</th>\n",
       "      <th>City Name</th>\n",
       "      <th>Country</th>\n",
       "      <th>Date</th>\n",
       "      <th>MaxTemp</th>\n",
       "      <th>Humidity</th>\n",
       "      <th>lat</th>\n",
       "      <th>lng</th>\n",
       "      <th>Cloudiness</th>\n",
       "      <th>Wind_Speed</th>\n",
       "      <th>Formatted Date</th>\n",
       "    </tr>\n",
       "  </thead>\n",
       "  <tbody>\n",
       "    <tr>\n",
       "      <th>0</th>\n",
       "      <td>5983720</td>\n",
       "      <td>Iqaluit</td>\n",
       "      <td>CA</td>\n",
       "      <td>1595473742</td>\n",
       "      <td>48.20</td>\n",
       "      <td>87</td>\n",
       "      <td>63.75</td>\n",
       "      <td>-68.51</td>\n",
       "      <td>90</td>\n",
       "      <td>8.05</td>\n",
       "      <td>2020-07-22</td>\n",
       "    </tr>\n",
       "    <tr>\n",
       "      <th>1</th>\n",
       "      <td>467120</td>\n",
       "      <td>Yershov</td>\n",
       "      <td>RU</td>\n",
       "      <td>1595473742</td>\n",
       "      <td>67.77</td>\n",
       "      <td>69</td>\n",
       "      <td>51.35</td>\n",
       "      <td>48.28</td>\n",
       "      <td>0</td>\n",
       "      <td>5.93</td>\n",
       "      <td>2020-07-22</td>\n",
       "    </tr>\n",
       "    <tr>\n",
       "      <th>2</th>\n",
       "      <td>2123814</td>\n",
       "      <td>Leningradskiy</td>\n",
       "      <td>RU</td>\n",
       "      <td>1595473743</td>\n",
       "      <td>64.11</td>\n",
       "      <td>38</td>\n",
       "      <td>69.38</td>\n",
       "      <td>178.42</td>\n",
       "      <td>100</td>\n",
       "      <td>7.96</td>\n",
       "      <td>2020-07-22</td>\n",
       "    </tr>\n",
       "    <tr>\n",
       "      <th>3</th>\n",
       "      <td>3386213</td>\n",
       "      <td>Touros</td>\n",
       "      <td>BR</td>\n",
       "      <td>1595473743</td>\n",
       "      <td>75.20</td>\n",
       "      <td>78</td>\n",
       "      <td>-5.20</td>\n",
       "      <td>-35.46</td>\n",
       "      <td>75</td>\n",
       "      <td>9.17</td>\n",
       "      <td>2020-07-22</td>\n",
       "    </tr>\n",
       "    <tr>\n",
       "      <th>4</th>\n",
       "      <td>6185377</td>\n",
       "      <td>Yellowknife</td>\n",
       "      <td>CA</td>\n",
       "      <td>1595473743</td>\n",
       "      <td>66.00</td>\n",
       "      <td>100</td>\n",
       "      <td>62.46</td>\n",
       "      <td>-114.35</td>\n",
       "      <td>75</td>\n",
       "      <td>6.93</td>\n",
       "      <td>2020-07-22</td>\n",
       "    </tr>\n",
       "    <tr>\n",
       "      <th>...</th>\n",
       "      <td>...</td>\n",
       "      <td>...</td>\n",
       "      <td>...</td>\n",
       "      <td>...</td>\n",
       "      <td>...</td>\n",
       "      <td>...</td>\n",
       "      <td>...</td>\n",
       "      <td>...</td>\n",
       "      <td>...</td>\n",
       "      <td>...</td>\n",
       "      <td>...</td>\n",
       "    </tr>\n",
       "    <tr>\n",
       "      <th>568</th>\n",
       "      <td>2413419</td>\n",
       "      <td>Gunjur</td>\n",
       "      <td>GM</td>\n",
       "      <td>1595473818</td>\n",
       "      <td>78.80</td>\n",
       "      <td>94</td>\n",
       "      <td>13.20</td>\n",
       "      <td>-16.73</td>\n",
       "      <td>40</td>\n",
       "      <td>4.70</td>\n",
       "      <td>2020-07-22</td>\n",
       "    </tr>\n",
       "    <tr>\n",
       "      <th>569</th>\n",
       "      <td>3372472</td>\n",
       "      <td>Vila Franca do Campo</td>\n",
       "      <td>PT</td>\n",
       "      <td>1595473818</td>\n",
       "      <td>60.80</td>\n",
       "      <td>82</td>\n",
       "      <td>37.72</td>\n",
       "      <td>-25.43</td>\n",
       "      <td>20</td>\n",
       "      <td>4.70</td>\n",
       "      <td>2020-07-22</td>\n",
       "    </tr>\n",
       "    <tr>\n",
       "      <th>570</th>\n",
       "      <td>505820</td>\n",
       "      <td>Povenets</td>\n",
       "      <td>RU</td>\n",
       "      <td>1595473818</td>\n",
       "      <td>56.48</td>\n",
       "      <td>92</td>\n",
       "      <td>62.85</td>\n",
       "      <td>34.83</td>\n",
       "      <td>99</td>\n",
       "      <td>14.99</td>\n",
       "      <td>2020-07-22</td>\n",
       "    </tr>\n",
       "    <tr>\n",
       "      <th>571</th>\n",
       "      <td>2996268</td>\n",
       "      <td>Manche</td>\n",
       "      <td>FR</td>\n",
       "      <td>1595473818</td>\n",
       "      <td>50.00</td>\n",
       "      <td>87</td>\n",
       "      <td>49.00</td>\n",
       "      <td>-1.17</td>\n",
       "      <td>88</td>\n",
       "      <td>2.35</td>\n",
       "      <td>2020-07-22</td>\n",
       "    </tr>\n",
       "    <tr>\n",
       "      <th>572</th>\n",
       "      <td>5117949</td>\n",
       "      <td>Freeport</td>\n",
       "      <td>US</td>\n",
       "      <td>1595473548</td>\n",
       "      <td>77.00</td>\n",
       "      <td>83</td>\n",
       "      <td>40.66</td>\n",
       "      <td>-73.58</td>\n",
       "      <td>75</td>\n",
       "      <td>4.70</td>\n",
       "      <td>2020-07-22</td>\n",
       "    </tr>\n",
       "  </tbody>\n",
       "</table>\n",
       "<p>567 rows × 11 columns</p>\n",
       "</div>"
      ],
      "text/plain": [
       "          ID             City Name Country        Date  MaxTemp  Humidity  \\\n",
       "0    5983720               Iqaluit      CA  1595473742    48.20        87   \n",
       "1     467120               Yershov      RU  1595473742    67.77        69   \n",
       "2    2123814         Leningradskiy      RU  1595473743    64.11        38   \n",
       "3    3386213                Touros      BR  1595473743    75.20        78   \n",
       "4    6185377           Yellowknife      CA  1595473743    66.00       100   \n",
       "..       ...                   ...     ...         ...      ...       ...   \n",
       "568  2413419                Gunjur      GM  1595473818    78.80        94   \n",
       "569  3372472  Vila Franca do Campo      PT  1595473818    60.80        82   \n",
       "570   505820              Povenets      RU  1595473818    56.48        92   \n",
       "571  2996268                Manche      FR  1595473818    50.00        87   \n",
       "572  5117949              Freeport      US  1595473548    77.00        83   \n",
       "\n",
       "       lat     lng  Cloudiness  Wind_Speed Formatted Date  \n",
       "0    63.75  -68.51          90        8.05     2020-07-22  \n",
       "1    51.35   48.28           0        5.93     2020-07-22  \n",
       "2    69.38  178.42         100        7.96     2020-07-22  \n",
       "3    -5.20  -35.46          75        9.17     2020-07-22  \n",
       "4    62.46 -114.35          75        6.93     2020-07-22  \n",
       "..     ...     ...         ...         ...            ...  \n",
       "568  13.20  -16.73          40        4.70     2020-07-22  \n",
       "569  37.72  -25.43          20        4.70     2020-07-22  \n",
       "570  62.85   34.83          99       14.99     2020-07-22  \n",
       "571  49.00   -1.17          88        2.35     2020-07-22  \n",
       "572  40.66  -73.58          75        4.70     2020-07-22  \n",
       "\n",
       "[567 rows x 11 columns]"
      ]
     },
     "execution_count": 11,
     "metadata": {},
     "output_type": "execute_result"
    }
   ],
   "source": [
    "#locate all rows with humidy>0\n",
    "new_df=City_data_df.loc[City_data_df[\"Humidity\"]> 100]\n",
    "new_df\n",
    "#No Cities with humidty >100\n",
    "#drop rows wherein any of the column values are empty\n",
    "clean_city_data_df=City_data_df.dropna(axis=0,how='any',inplace=False)\n",
    "clean_city_data_df\n",
    "\n"
   ]
  },
  {
   "cell_type": "code",
   "execution_count": null,
   "metadata": {},
   "outputs": [],
   "source": [
    "# Extract relevant fields from the data frame\n",
    "\n",
    "# Export the City_Data into a csv\n",
    "\n"
   ]
  },
  {
   "cell_type": "markdown",
   "metadata": {},
   "source": [
    "## Plotting the Data\n",
    "* Use proper labeling of the plots using plot titles (including date of analysis) and axes labels.\n",
    "* Save the plotted figures as .pngs."
   ]
  },
  {
   "cell_type": "markdown",
   "metadata": {},
   "source": [
    "## Latitude vs. Temperature Plot"
   ]
  },
  {
   "cell_type": "code",
   "execution_count": 12,
   "metadata": {
    "scrolled": true
   },
   "outputs": [
    {
     "name": "stdout",
     "output_type": "stream",
     "text": [
      "Analysing the relationship between Temperature and Latitude\n"
     ]
    },
    {
     "data": {
      "image/png": "[encoded data removed]",
      "text/plain": [
       "<Figure size 432x288 with 1 Axes>"
      ]
     },
     "metadata": {
      "needs_background": "light"
     },
     "output_type": "display_data"
    }
   ],
   "source": [
    "plt.scatter(x=City_data_df[\"lat\"],y=City_data_df[\"MaxTemp\"],edgecolors=\"b\",facecolor=\"r\")\n",
    "plt.xlabel(\"Latitude\")\n",
    "plt.ylabel(\"Temperature\")\n",
    "plt.title(\"Latitude Vs Temperature Analysis\")\n",
    "plt.savefig(\"Output_plots/LatvsTemp.png\")\n",
    "print(\"Analysing the relationship between Temperature and Latitude\")\n"
   ]
  },
  {
   "cell_type": "markdown",
   "metadata": {},
   "source": [
    "## Latitude vs. Humidity Plot"
   ]
  },
  {
   "cell_type": "code",
   "execution_count": 13,
   "metadata": {},
   "outputs": [
    {
     "name": "stdout",
     "output_type": "stream",
     "text": [
      "Analysing the relationship between Latitude and Humidity\n"
     ]
    },
    {
     "data": {
      "image/png": "[encoded data removed]",
      "text/plain": [
       "<Figure size 432x288 with 1 Axes>"
      ]
     },
     "metadata": {
      "needs_background": "light"
     },
     "output_type": "display_data"
    }
   ],
   "source": [
    "plt.scatter(x=City_data_df[\"lat\"],y=City_data_df[\"Humidity\"],edgecolors=\"r\",facecolor=\"b\")\n",
    "plt.xlabel(\"Latitude\")\n",
    "plt.ylabel(\"Humidity\")\n",
    "plt.title(\"Latitude Vs Humidity Analysis\")\n",
    "plt.savefig(\"Output_plots/LatvsHum.png\")\n",
    "print(\"Analysing the relationship between Latitude and Humidity\")"
   ]
  },
  {
   "cell_type": "markdown",
   "metadata": {},
   "source": [
    "## Latitude vs. Cloudiness Plot"
   ]
  },
  {
   "cell_type": "code",
   "execution_count": 14,
   "metadata": {},
   "outputs": [
    {
     "name": "stdout",
     "output_type": "stream",
     "text": [
      "Analysing the relationship between Latitude and Cloudiness\n"
     ]
    },
    {
     "data": {
      "image/png": "[encoded data removed]",
      "text/plain": [
       "<Figure size 432x288 with 1 Axes>"
      ]
     },
     "metadata": {
      "needs_background": "light"
     },
     "output_type": "display_data"
    }
   ],
   "source": [
    "plt.scatter(x=City_data_df[\"lat\"],y=City_data_df[\"Cloudiness\"],edgecolors=\"b\",facecolor=\"orange\")\n",
    "plt.xlabel(\"Latitude\")\n",
    "plt.ylabel(\"Cloudiness\")\n",
    "plt.title(\"Latitude Vs Cloudiness Analysis\")\n",
    "plt.savefig(\"Output_plots/LatvsCloud.png\")\n",
    "print(\"Analysing the relationship between Latitude and Cloudiness\")"
   ]
  },
  {
   "cell_type": "markdown",
   "metadata": {},
   "source": [
    "## Latitude vs. Wind Speed Plot"
   ]
  },
  {
   "cell_type": "code",
   "execution_count": 15,
   "metadata": {},
   "outputs": [
    {
     "name": "stdout",
     "output_type": "stream",
     "text": [
      "Analysing the relationship between Latitude and Wind Speed\n"
     ]
    },
    {
     "data": {
      "image/png": "[encoded data removed]",
      "text/plain": [
       "<Figure size 432x288 with 1 Axes>"
      ]
     },
     "metadata": {
      "needs_background": "light"
     },
     "output_type": "display_data"
    }
   ],
   "source": [
    "plt.scatter(x=City_data_df[\"lat\"],y=City_data_df[\"Wind_Speed\"],edgecolors=\"r\",facecolor=\"y\")\n",
    "plt.xlabel(\"Latitude\")\n",
    "plt.ylabel(\"Wind Speed\")\n",
    "plt.title(\"Latitude Vs Wind Speed Analysis\")\n",
    "plt.savefig(\"Output_plots/LatvsWS.png\")\n",
    "print(\"Analysing the relationship between Latitude and Wind Speed\")"
   ]
  },
  {
   "cell_type": "markdown",
   "metadata": {},
   "source": [
    "## Linear Regression"
   ]
  },
  {
   "cell_type": "code",
   "execution_count": null,
   "metadata": {},
   "outputs": [],
   "source": [
    "# OPTIONAL: Create a function to create Linear Regression plots\n",
    "\n"
   ]
  },
  {
   "cell_type": "code",
   "execution_count": 16,
   "metadata": {},
   "outputs": [
    {
     "data": {
      "text/html": [
       "<div>\n",
       "<style scoped>\n",
       "    .dataframe tbody tr th:only-of-type {\n",
       "        vertical-align: middle;\n",
       "    }\n",
       "\n",
       "    .dataframe tbody tr th {\n",
       "        vertical-align: top;\n",
       "    }\n",
       "\n",
       "    .dataframe thead th {\n",
       "        text-align: right;\n",
       "    }\n",
       "</style>\n",
       "<table border=\"1\" class=\"dataframe\">\n",
       "  <thead>\n",
       "    <tr style=\"text-align: right;\">\n",
       "      <th></th>\n",
       "      <th>ID</th>\n",
       "      <th>City Name</th>\n",
       "      <th>Country</th>\n",
       "      <th>Date</th>\n",
       "      <th>MaxTemp</th>\n",
       "      <th>Humidity</th>\n",
       "      <th>lat</th>\n",
       "      <th>lng</th>\n",
       "      <th>Cloudiness</th>\n",
       "      <th>Wind_Speed</th>\n",
       "      <th>Formatted Date</th>\n",
       "    </tr>\n",
       "  </thead>\n",
       "  <tbody>\n",
       "    <tr>\n",
       "      <th>0</th>\n",
       "      <td>5983720</td>\n",
       "      <td>Iqaluit</td>\n",
       "      <td>CA</td>\n",
       "      <td>1595473742</td>\n",
       "      <td>48.20</td>\n",
       "      <td>87</td>\n",
       "      <td>63.75</td>\n",
       "      <td>-68.51</td>\n",
       "      <td>90</td>\n",
       "      <td>8.05</td>\n",
       "      <td>2020-07-22</td>\n",
       "    </tr>\n",
       "    <tr>\n",
       "      <th>1</th>\n",
       "      <td>467120</td>\n",
       "      <td>Yershov</td>\n",
       "      <td>RU</td>\n",
       "      <td>1595473742</td>\n",
       "      <td>67.77</td>\n",
       "      <td>69</td>\n",
       "      <td>51.35</td>\n",
       "      <td>48.28</td>\n",
       "      <td>0</td>\n",
       "      <td>5.93</td>\n",
       "      <td>2020-07-22</td>\n",
       "    </tr>\n",
       "    <tr>\n",
       "      <th>2</th>\n",
       "      <td>2123814</td>\n",
       "      <td>Leningradskiy</td>\n",
       "      <td>RU</td>\n",
       "      <td>1595473743</td>\n",
       "      <td>64.11</td>\n",
       "      <td>38</td>\n",
       "      <td>69.38</td>\n",
       "      <td>178.42</td>\n",
       "      <td>100</td>\n",
       "      <td>7.96</td>\n",
       "      <td>2020-07-22</td>\n",
       "    </tr>\n",
       "    <tr>\n",
       "      <th>4</th>\n",
       "      <td>6185377</td>\n",
       "      <td>Yellowknife</td>\n",
       "      <td>CA</td>\n",
       "      <td>1595473743</td>\n",
       "      <td>66.00</td>\n",
       "      <td>100</td>\n",
       "      <td>62.46</td>\n",
       "      <td>-114.35</td>\n",
       "      <td>75</td>\n",
       "      <td>6.93</td>\n",
       "      <td>2020-07-22</td>\n",
       "    </tr>\n",
       "    <tr>\n",
       "      <th>5</th>\n",
       "      <td>589796</td>\n",
       "      <td>Orissaare</td>\n",
       "      <td>EE</td>\n",
       "      <td>1595473743</td>\n",
       "      <td>57.00</td>\n",
       "      <td>87</td>\n",
       "      <td>58.56</td>\n",
       "      <td>23.08</td>\n",
       "      <td>4</td>\n",
       "      <td>4.70</td>\n",
       "      <td>2020-07-22</td>\n",
       "    </tr>\n",
       "  </tbody>\n",
       "</table>\n",
       "</div>"
      ],
      "text/plain": [
       "        ID      City Name Country        Date  MaxTemp  Humidity    lat  \\\n",
       "0  5983720        Iqaluit      CA  1595473742    48.20        87  63.75   \n",
       "1   467120        Yershov      RU  1595473742    67.77        69  51.35   \n",
       "2  2123814  Leningradskiy      RU  1595473743    64.11        38  69.38   \n",
       "4  6185377    Yellowknife      CA  1595473743    66.00       100  62.46   \n",
       "5   589796      Orissaare      EE  1595473743    57.00        87  58.56   \n",
       "\n",
       "      lng  Cloudiness  Wind_Speed Formatted Date  \n",
       "0  -68.51          90        8.05     2020-07-22  \n",
       "1   48.28           0        5.93     2020-07-22  \n",
       "2  178.42         100        7.96     2020-07-22  \n",
       "4 -114.35          75        6.93     2020-07-22  \n",
       "5   23.08           4        4.70     2020-07-22  "
      ]
     },
     "execution_count": 16,
     "metadata": {},
     "output_type": "execute_result"
    }
   ],
   "source": [
    "# Create Northern and Southern Hemisphere DataFrames\n",
    "Northern_df=City_data_df.loc[City_data_df[\"lat\"]>=0]\n",
    "Southern_df=City_data_df.loc[City_data_df[\"lat\"]<0]\n",
    "Northern_df.head()\n"
   ]
  },
  {
   "cell_type": "markdown",
   "metadata": {},
   "source": [
    "####  Northern Hemisphere - Max Temp vs. Latitude Linear Regression"
   ]
  },
  {
   "cell_type": "code",
   "execution_count": 17,
   "metadata": {},
   "outputs": [
    {
     "name": "stdout",
     "output_type": "stream",
     "text": [
      "Northern Hemisphere:Regression between Latitude and Temperature\n"
     ]
    },
    {
     "data": {
      "image/png": "[encoded data removed]",
      "text/plain": [
       "<Figure size 432x288 with 1 Axes>"
      ]
     },
     "metadata": {
      "needs_background": "light"
     },
     "output_type": "display_data"
    }
   ],
   "source": [
    "(slope,intercept,_,_,_)=linregress(x=Northern_df[\"lat\"],y=Northern_df[\"MaxTemp\"])\n",
    "latitude =Northern_df .iloc[:,6]\n",
    "Temperature=Northern_df.iloc[:,4]\n",
    "fit=slope * latitude +intercept\n",
    "plt.scatter(x=Northern_df[\"lat\"],y=Northern_df[\"MaxTemp\"],edgecolors=\"r\",facecolor=\"b\")\n",
    "plt.xlabel(\"Latitude\")\n",
    "plt.ylabel(\"Temperature\")\n",
    "plt.title(\"Latitude Vs Temperature Regression\")\n",
    "plt.plot(latitude,fit,\"--\")\n",
    "print(\"Northern Hemisphere:Regression between Latitude and Temperature\")\n",
    "\n"
   ]
  },
  {
   "cell_type": "markdown",
   "metadata": {},
   "source": [
    "####  Southern Hemisphere - Max Temp vs. Latitude Linear Regression"
   ]
  },
  {
   "cell_type": "code",
   "execution_count": 18,
   "metadata": {},
   "outputs": [
    {
     "name": "stdout",
     "output_type": "stream",
     "text": [
      "Southern Hemisphere:Regression between Latitude and Temp \n"
     ]
    },
    {
     "data": {
      "image/png": "[encoded data removed]",
      "text/plain": [
       "<Figure size 432x288 with 1 Axes>"
      ]
     },
     "metadata": {
      "needs_background": "light"
     },
     "output_type": "display_data"
    }
   ],
   "source": [
    "(slope,intercept,_,_,_)=linregress(x=Southern_df[\"lat\"],y=Southern_df[\"MaxTemp\"])\n",
    "latitude =Southern_df .iloc[:,6]\n",
    "Temperature=Southern_df.iloc[:,4]\n",
    "fit=slope * latitude +intercept\n",
    "plt.scatter(x=Southern_df[\"lat\"],y=Southern_df[\"MaxTemp\"],edgecolors=\"r\",facecolor=\"b\")\n",
    "plt.xlabel(\"Latitude\")\n",
    "plt.ylabel(\"Temperature\")\n",
    "plt.title(\"Latitude Vs Temperature  Regression\")\n",
    "plt.plot(latitude,fit,\"--\")\n",
    "print(\"Southern Hemisphere:Regression between Latitude and Temp \")\n"
   ]
  },
  {
   "cell_type": "markdown",
   "metadata": {},
   "source": [
    "####  Northern Hemisphere - Humidity (%) vs. Latitude Linear Regression"
   ]
  },
  {
   "cell_type": "code",
   "execution_count": 19,
   "metadata": {},
   "outputs": [
    {
     "name": "stdout",
     "output_type": "stream",
     "text": [
      "Northern Hemispher:Regression between Latitude and Humidity \n"
     ]
    },
    {
     "data": {
      "image/png": "[encoded data removed]",
      "text/plain": [
       "<Figure size 432x288 with 1 Axes>"
      ]
     },
     "metadata": {
      "needs_background": "light"
     },
     "output_type": "display_data"
    }
   ],
   "source": [
    "(slope,intercept,_,_,_)=linregress(x=Northern_df[\"lat\"],y=Northern_df[\"Humidity\"])\n",
    "latitude =Northern_df .iloc[:,6]\n",
    "Humidity=Northern_df.iloc[:,5]\n",
    "fit=slope * latitude +intercept\n",
    "plt.scatter(x=Northern_df[\"lat\"],y=Northern_df[\"Humidity\"],edgecolors=\"r\",facecolor=\"b\")\n",
    "plt.xlabel(\"Latitude\")\n",
    "plt.ylabel(\"humidity\")\n",
    "plt.title(\"Latitude Vs Humidity Regression\")\n",
    "plt.plot(latitude,fit,\"--\")\n",
    "print(\"Northern Hemispher:Regression between Latitude and Humidity \")\n"
   ]
  },
  {
   "cell_type": "markdown",
   "metadata": {},
   "source": [
    "####  Southern Hemisphere - Humidity (%) vs. Latitude Linear Regression"
   ]
  },
  {
   "cell_type": "code",
   "execution_count": 20,
   "metadata": {},
   "outputs": [
    {
     "name": "stdout",
     "output_type": "stream",
     "text": [
      "Southern Hemispher:Regression between Latitude and Humidity \n"
     ]
    },
    {
     "data": {
      "image/png": "[encoded data removed]",
      "text/plain": [
       "<Figure size 432x288 with 1 Axes>"
      ]
     },
     "metadata": {
      "needs_background": "light"
     },
     "output_type": "display_data"
    }
   ],
   "source": [
    "(slope,intercept,_,_,_)=linregress(x=Southern_df[\"lat\"],y=Southern_df[\"Humidity\"])\n",
    "latitude =Southern_df .iloc[:,6]\n",
    "Humidity=Southern_df.iloc[:,5]\n",
    "fit=slope * latitude +intercept\n",
    "plt.scatter(x=Southern_df[\"lat\"],y=Southern_df[\"Humidity\"],edgecolors=\"r\",facecolor=\"b\")\n",
    "plt.xlabel(\"Latitude\")\n",
    "plt.ylabel(\"Humidity\")\n",
    "plt.title(\"Latitude Vs Humidity Regression\")\n",
    "plt.plot(latitude,fit,\"--\")\n",
    "print(\"Southern Hemispher:Regression between Latitude and Humidity \")\n"
   ]
  },
  {
   "cell_type": "markdown",
   "metadata": {},
   "source": [
    "####  Northern Hemisphere - Cloudiness (%) vs. Latitude Linear Regression"
   ]
  },
  {
   "cell_type": "code",
   "execution_count": 21,
   "metadata": {},
   "outputs": [
    {
     "name": "stdout",
     "output_type": "stream",
     "text": [
      "Regression between Latitude and \n"
     ]
    },
    {
     "data": {
      "image/png": "[encoded data removed]",
      "text/plain": [
       "<Figure size 432x288 with 1 Axes>"
      ]
     },
     "metadata": {
      "needs_background": "light"
     },
     "output_type": "display_data"
    }
   ],
   "source": [
    "(slope,intercept,_,_,_)=linregress(x=Northern_df[\"lat\"],y=Northern_df[\"Cloudiness\"])\n",
    "latitude =Northern_df .iloc[:,6]\n",
    "Temperature=Northern_df.iloc[:,8]\n",
    "fit=slope * latitude +intercept\n",
    "plt.scatter(x=Northern_df[\"lat\"],y=Northern_df[\"Cloudiness\"],edgecolors=\"r\",facecolor=\"b\")\n",
    "plt.xlabel(\"Latitude\")\n",
    "plt.ylabel(\"\")\n",
    "plt.title(\"Latitude Vs Humidity Regression\")\n",
    "plt.plot(latitude,fit,\"--\")\n",
    "print(\"Regression between Latitude and \")\n"
   ]
  },
  {
   "cell_type": "markdown",
   "metadata": {},
   "source": [
    "####  Southern Hemisphere - Cloudiness (%) vs. Latitude Linear Regression"
   ]
  },
  {
   "cell_type": "code",
   "execution_count": 22,
   "metadata": {},
   "outputs": [
    {
     "name": "stdout",
     "output_type": "stream",
     "text": [
      "Southern Hemispher :Regression between Latitude and Cloudiness \n"
     ]
    },
    {
     "data": {
      "image/png": "[encoded data removed]",
      "text/plain": [
       "<Figure size 432x288 with 1 Axes>"
      ]
     },
     "metadata": {
      "needs_background": "light"
     },
     "output_type": "display_data"
    }
   ],
   "source": [
    "(slope,intercept,_,_,_)=linregress(x=Southern_df[\"lat\"],y=Southern_df[\"Cloudiness\"])\n",
    "latitude =Southern_df .iloc[:,6]\n",
    "Clousiness=Southern_df.iloc[:,8]\n",
    "fit=slope * latitude +intercept\n",
    "plt.scatter(x=Southern_df[\"lat\"],y=Southern_df[\"Cloudiness\"],edgecolors=\"r\",facecolor=\"b\")\n",
    "plt.xlabel(\"Latitude\")\n",
    "plt.ylabel(\"Cloudiness\")\n",
    "plt.title(\"Latitude Vs Cloudiness  Regression\")\n",
    "plt.plot(latitude,fit,\"--\")\n",
    "print(\"Southern Hemispher :Regression between Latitude and Cloudiness \")\n"
   ]
  },
  {
   "cell_type": "markdown",
   "metadata": {},
   "source": [
    "####  Northern Hemisphere - Wind Speed (mph) vs. Latitude Linear Regression"
   ]
  },
  {
   "cell_type": "code",
   "execution_count": 23,
   "metadata": {},
   "outputs": [
    {
     "name": "stdout",
     "output_type": "stream",
     "text": [
      "Northern Hemisphere:Regression between Latitude and Wind Speed \n"
     ]
    },
    {
     "data": {
      "image/png": "[encoded data removed]",
      "text/plain": [
       "<Figure size 432x288 with 1 Axes>"
      ]
     },
     "metadata": {
      "needs_background": "light"
     },
     "output_type": "display_data"
    }
   ],
   "source": [
    "####  Northern Hemisphere - Wind Speed (mph) vs. Latitude Linear Regression\n",
    "\n",
    "(slope,intercept,_,_,_)=linregress(x=Northern_df[\"lat\"],y=Northern_df[\"Wind_Speed\"])\n",
    "latitude =Northern_df .iloc[:,6]\n",
    "WindSpeed=Northern_df.iloc[:,9]\n",
    "fit=slope * latitude +intercept\n",
    "plt.scatter(x=Northern_df[\"lat\"],y=Northern_df[\"Wind_Speed\"],edgecolors=\"r\",facecolor=\"b\")\n",
    "plt.xlabel(\"Latitude\")\n",
    "plt.ylabel(\"Wind Speed\")\n",
    "plt.title(\"Latitude Vs Wind Speed Regression\")\n",
    "plt.plot(latitude,fit,\"--\")\n",
    "print(\"Northern Hemisphere:Regression between Latitude and Wind Speed \")\n"
   ]
  },
  {
   "cell_type": "markdown",
   "metadata": {},
   "source": [
    "####  Southern Hemisphere - Wind Speed (mph) vs. Latitude Linear Regression"
   ]
  },
  {
   "cell_type": "code",
   "execution_count": 24,
   "metadata": {},
   "outputs": [
    {
     "name": "stdout",
     "output_type": "stream",
     "text": [
      "Southern Hemisphere:Regression between Latitude and Wind_Speed \n"
     ]
    },
    {
     "data": {
      "image/png": "[encoded data removed]",
      "text/plain": [
       "<Figure size 432x288 with 1 Axes>"
      ]
     },
     "metadata": {
      "needs_background": "light"
     },
     "output_type": "display_data"
    }
   ],
   "source": [
    "(slope,intercept,_,_,_)=linregress(x=Southern_df[\"lat\"],y=Southern_df[\"Wind_Speed\"])\n",
    "latitude =Southern_df .iloc[:,6]\n",
    "WindSpeed=Southern_df.iloc[:,9]\n",
    "fit=slope * latitude +intercept\n",
    "plt.scatter(x=Southern_df[\"lat\"],y=Southern_df[\"Wind_Speed\"],edgecolors=\"r\",facecolor=\"b\")\n",
    "plt.xlabel(\"Latitude\")\n",
    "plt.ylabel(\"Wind_Speed\")\n",
    "plt.title(\"Latitude Vs Wind_Speed  Regression\")\n",
    "plt.plot(latitude,fit,\"--\")\n",
    "print(\"Southern Hemisphere:Regression between Latitude and Wind_Speed \")\n"
   ]
  },
  {
   "cell_type": "code",
   "execution_count": null,
   "metadata": {},
   "outputs": [],
   "source": []
  }
 ],
 "metadata": {
  "anaconda-cloud": {},
  "kernel_info": {
   "name": "python3"
  },
  "kernelspec": {
   "display_name": "Python 3",
   "language": "python",
   "name": "python3"
  },
  "language_info": {
   "codemirror_mode": {
    "name": "ipython",
    "version": 3
   },
   "file_extension": ".py",
   "mimetype": "text/x-python",
   "name": "python",
   "nbconvert_exporter": "python",
   "pygments_lexer": "ipython3",
   "version": "3.7.6"
  },
  "latex_envs": {
   "LaTeX_envs_menu_present": true,
   "autoclose": false,
   "autocomplete": true,
   "bibliofile": "biblio.bib",
   "cite_by": "apalike",
   "current_citInitial": 1,
   "eqLabelWithNumbers": true,
   "eqNumInitial": 1,
   "hotkeys": {
    "equation": "Ctrl-E",
    "itemize": "Ctrl-I"
   },
   "labels_anchors": false,
   "latex_user_defs": false,
   "report_style_numbering": false,
   "user_envs_cfg": false
  },
  "nteract": {
   "version": "0.12.3"
  }
 },
 "nbformat": 4,
 "nbformat_minor": 4
}
